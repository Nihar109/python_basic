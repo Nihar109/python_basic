{
 "cells": [
  {
   "cell_type": "code",
   "execution_count": 1,
   "id": "0958de56",
   "metadata": {},
   "outputs": [
    {
     "name": "stdout",
     "output_type": "stream",
     "text": [
      "Going to Sleep...0\n",
      "Woken up ..0\n",
      "Going to Sleep...1\n",
      "Woken up ..1\n",
      "Going to Sleep...2\n",
      "Woken up ..2\n",
      "Going to Sleep...3\n",
      "Woken up ..3\n",
      "Going to Sleep...4\n",
      "Woken up ..4\n",
      "Going to Sleep...5\n",
      "Woken up ..5\n",
      "Going to Sleep...6\n",
      "Woken up ..6\n",
      "Going to Sleep...7\n",
      "Woken up ..7\n",
      "Going to Sleep...8\n",
      "Woken up ..8\n",
      "Going to Sleep...9\n",
      "Woken up ..9\n",
      "main thread ended in 10.087090969085693 seconds\n"
     ]
    }
   ],
   "source": [
    "from time import sleep,time\n",
    "import threading\n",
    "\n",
    "start_time = time()\n",
    "def something(id):\n",
    "    \"\"\"\n",
    "    This function run only something to test threading\n",
    "    Input - any valid integer\n",
    "    Output - run the function\n",
    "    Created by - Nihar\n",
    "    Last edited - 18 july 2022\n",
    "    \"\"\"\n",
    "    print(f\"Going to Sleep...{id}\")\n",
    "    sleep(1)\n",
    "    print(f\"Woken up ..{id}\")\n",
    "for _ in range(10):\n",
    "    something(_)\n",
    "\n",
    "end_time = time()\n",
    "\n",
    "print(f\"main thread ended in {end_time - start_time} seconds\")"
   ]
  },
  {
   "cell_type": "code",
   "execution_count": 2,
   "id": "36506ccb",
   "metadata": {},
   "outputs": [
    {
     "name": "stdout",
     "output_type": "stream",
     "text": [
      "Going to Sleep... 0 \n",
      "Going to Sleep... 1 \n",
      "Woken up .. 1 \n",
      "Woken up .. 0 \n",
      "main thread ended in 1.013488531112671 seconds\n"
     ]
    }
   ],
   "source": [
    "from time import sleep,time\n",
    "import threading\n",
    "\n",
    "start_time = time()\n",
    "def something(id):\n",
    "    \"\"\"\n",
    "    This function run only something to test threading\n",
    "    Input - any valid integer\n",
    "    Output - run the function\n",
    "    Created by - Nihar\n",
    "    Last edited - 24 aug 2022\n",
    "    \"\"\"\n",
    "    print(f\"Going to Sleep... {id} \")\n",
    "    sleep(1)\n",
    "    print(f\"Woken up .. {id} \")\n",
    "\n",
    "t1 = threading.Thread(target=something,args=[0])\n",
    "t2 = threading.Thread(target=something,args=[1])\n",
    "\n",
    "t1.start()\n",
    "t2.start()\n",
    "\n",
    "t1.join()\n",
    "t2.join()\n",
    "\n",
    "end_time = time()\n",
    "\n",
    "print(f\"main thread ended in {end_time - start_time} seconds\")"
   ]
  },
  {
   "cell_type": "code",
   "execution_count": 3,
   "id": "7c4c041f",
   "metadata": {},
   "outputs": [
    {
     "data": {
      "text/plain": [
       "'\\n    This function run only something to test threading\\n    Input - any valid integer\\n    Output - run the function\\n    Created by - Nihar\\n    Last edited - 24 aug 2022\\n    '"
      ]
     },
     "execution_count": 3,
     "metadata": {},
     "output_type": "execute_result"
    }
   ],
   "source": [
    "something.__doc__"
   ]
  },
  {
   "cell_type": "code",
   "execution_count": 4,
   "id": "7d682d07",
   "metadata": {},
   "outputs": [
    {
     "name": "stdout",
     "output_type": "stream",
     "text": [
      "Going to Sleep... 0 \n",
      "Going to Sleep... 1 \n",
      "Going to Sleep... 2 \n",
      "Going to Sleep... 3 \n",
      "Going to Sleep... 4 \n",
      "Going to Sleep... 5 \n",
      "Going to Sleep... 6 \n",
      "Going to Sleep... 7 \n",
      "Going to Sleep... 8 \n",
      "Going to Sleep... 9 \n",
      "Woken up .. 3 Woken up .. 1 \n",
      "\n",
      "Woken up .. 0 \n",
      "Woken up .. 2 \n",
      "Woken up .. 4 Woken up .. 6 Woken up .. 5 \n",
      "\n",
      "Woken up .. 7 Woken up .. 8 \n",
      "\n",
      "Woken up .. 9 \n",
      "\n",
      "main thread ended in 1.0242736339569092 seconds\n"
     ]
    }
   ],
   "source": [
    "from time import sleep,time\n",
    "import threading\n",
    "\n",
    "start_time = time()\n",
    "def something(id):\n",
    "    \"\"\"\n",
    "    This function run only something to test threading\n",
    "    Input - any valid integer\n",
    "    Output - run the function\n",
    "    Created by - Nihar\n",
    "    Last edited - 24 Aug 2022\n",
    "    \"\"\"\n",
    "    print(f\"Going to Sleep... {id} \")\n",
    "    sleep(1)\n",
    "    print(f\"Woken up .. {id} \")\n",
    "\n",
    "threads = [threading.Thread(target=something,args=[i]) for i in range(10) ]\n",
    "\n",
    "for thread in threads:\n",
    "    thread.start()\n",
    "\n",
    "for thread in threads:\n",
    "    thread.join()\n",
    "\n",
    "end_time = time()\n",
    "\n",
    "print(f\"main thread ended in {end_time - start_time} seconds\")"
   ]
  },
  {
   "cell_type": "code",
   "execution_count": 5,
   "id": "e4f73bf2",
   "metadata": {},
   "outputs": [
    {
     "name": "stdout",
     "output_type": "stream",
     "text": [
      "-278650\n"
     ]
    }
   ],
   "source": [
    "from time import sleep,time\n",
    "import threading\n",
    "\n",
    "balance = 200\n",
    "\n",
    "def deposit(amount, times):\n",
    "    \"\"\"\n",
    "    This function tells deposit amount\n",
    "    Input - any valid amount\n",
    "    Output - balance\n",
    "    Created by - Nihar\n",
    "    Last edited - 24 Aug 2022\n",
    "    \"\"\"\n",
    "    global balance\n",
    "    \n",
    "    for _ in range(times):\n",
    "        balance += amount\n",
    "        \n",
    "def withdraw(amount,times):\n",
    "    \"\"\"\n",
    "    This function tells withdraw amount\n",
    "    Input - any valid amount\n",
    "    Output - balance\n",
    "    Created by - Nihar\n",
    "    Last edited - 24 Aug 2022\n",
    "    \"\"\"\n",
    "    global balance\n",
    "    \n",
    "    for _ in range(times):\n",
    "        balance -= amount\n",
    "        \n",
    "deposit_thread = threading.Thread(target=deposit,args=[1,1000000])\n",
    "withdraw_thread = threading.Thread(target=withdraw,args=[1,1000000])\n",
    "\n",
    "deposit_thread.start()\n",
    "withdraw_thread.start()\n",
    "\n",
    "deposit_thread.join()\n",
    "withdraw_thread.join()\n",
    "\n",
    "print(balance)"
   ]
  },
  {
   "cell_type": "code",
   "execution_count": 6,
   "id": "d7fa958a",
   "metadata": {},
   "outputs": [
    {
     "name": "stdout",
     "output_type": "stream",
     "text": [
      "200\n"
     ]
    }
   ],
   "source": [
    "from time import sleep,time\n",
    "import threading\n",
    "\n",
    "balance = 200\n",
    "\n",
    "lock = threading.Lock()\n",
    "\n",
    "def deposit(amount, times,lock):\n",
    "    \n",
    "    \"\"\"\n",
    "    This function tells deposit amount\n",
    "    Input - any valid amount\n",
    "    Output - balance\n",
    "    Created by - Nihar\n",
    "    Last edited - 24 Aug 2022\n",
    "    \"\"\"\n",
    "    global balance\n",
    "    \n",
    "    for _ in range(times):\n",
    "        \n",
    "        lock.acquire()\n",
    "        balance += amount\n",
    "        lock.release()\n",
    "        \n",
    "def withdraw(amount,times,lock):\n",
    "    \"\"\"\n",
    "    This function tells withdraw amount\n",
    "    Input - any valid amount\n",
    "    Output - balance\n",
    "    Created by - Nihar\n",
    "    Last edited - 24 Aug 2022\n",
    "    \"\"\"\n",
    "    global balance\n",
    "    \n",
    "    for _ in range(times):\n",
    "        \n",
    "        lock.acquire()\n",
    "        balance -= amount\n",
    "        lock.release()\n",
    "        \n",
    "deposit_thread = threading.Thread(target=deposit,args=[1,1000000,lock])\n",
    "withdraw_thread = threading.Thread(target=withdraw,args=[1,1000000,lock])\n",
    "\n",
    "deposit_thread.start()\n",
    "withdraw_thread.start()\n",
    "\n",
    "deposit_thread.join()\n",
    "withdraw_thread.join()\n",
    "\n",
    "print(balance)"
   ]
  }
 ],
 "metadata": {
  "kernelspec": {
   "display_name": "Python 3 (ipykernel)",
   "language": "python",
   "name": "python3"
  },
  "language_info": {
   "codemirror_mode": {
    "name": "ipython",
    "version": 3
   },
   "file_extension": ".py",
   "mimetype": "text/x-python",
   "name": "python",
   "nbconvert_exporter": "python",
   "pygments_lexer": "ipython3",
   "version": "3.9.12"
  }
 },
 "nbformat": 4,
 "nbformat_minor": 5
}
