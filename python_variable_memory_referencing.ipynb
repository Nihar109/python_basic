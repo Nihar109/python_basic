{
 "cells": [
  {
   "cell_type": "markdown",
   "id": "e46057f1",
   "metadata": {},
   "source": [
    "Memory Allocation"
   ]
  },
  {
   "cell_type": "code",
   "execution_count": 1,
   "id": "f2db7d38",
   "metadata": {},
   "outputs": [],
   "source": [
    "a = 4"
   ]
  },
  {
   "cell_type": "code",
   "execution_count": 2,
   "id": "399b899c",
   "metadata": {},
   "outputs": [
    {
     "data": {
      "text/plain": [
       "4"
      ]
     },
     "execution_count": 2,
     "metadata": {},
     "output_type": "execute_result"
    }
   ],
   "source": [
    "a"
   ]
  },
  {
   "cell_type": "code",
   "execution_count": 3,
   "id": "9ef11f06",
   "metadata": {},
   "outputs": [
    {
     "ename": "NameError",
     "evalue": "name 'b' is not defined",
     "output_type": "error",
     "traceback": [
      "\u001b[1;31m---------------------------------------------------------------------------\u001b[0m",
      "\u001b[1;31mNameError\u001b[0m                                 Traceback (most recent call last)",
      "Input \u001b[1;32mIn [3]\u001b[0m, in \u001b[0;36m<cell line: 1>\u001b[1;34m()\u001b[0m\n\u001b[1;32m----> 1\u001b[0m \u001b[43mb\u001b[49m\n",
      "\u001b[1;31mNameError\u001b[0m: name 'b' is not defined"
     ]
    }
   ],
   "source": [
    "b"
   ]
  },
  {
   "cell_type": "code",
   "execution_count": 4,
   "id": "cca33e02",
   "metadata": {},
   "outputs": [
    {
     "data": {
      "text/plain": [
       "2238473464208"
      ]
     },
     "execution_count": 4,
     "metadata": {},
     "output_type": "execute_result"
    }
   ],
   "source": [
    "id(a)"
   ]
  },
  {
   "cell_type": "code",
   "execution_count": 5,
   "id": "4fad6114",
   "metadata": {},
   "outputs": [
    {
     "data": {
      "text/plain": [
       "'0x2092f6a6990'"
      ]
     },
     "execution_count": 5,
     "metadata": {},
     "output_type": "execute_result"
    }
   ],
   "source": [
    "hex(2238473464208)"
   ]
  },
  {
   "cell_type": "code",
   "execution_count": 6,
   "id": "358254e2",
   "metadata": {},
   "outputs": [
    {
     "data": {
      "text/plain": [
       "2238473464208"
      ]
     },
     "execution_count": 6,
     "metadata": {},
     "output_type": "execute_result"
    }
   ],
   "source": [
    "id(4)"
   ]
  },
  {
   "cell_type": "markdown",
   "id": "70012d5b",
   "metadata": {},
   "source": [
    "Aliasing : id will be same same variable"
   ]
  },
  {
   "cell_type": "code",
   "execution_count": 7,
   "id": "cd4e77e2",
   "metadata": {},
   "outputs": [],
   "source": [
    "a = 5\n",
    "b = a"
   ]
  },
  {
   "cell_type": "code",
   "execution_count": 8,
   "id": "3280631f",
   "metadata": {},
   "outputs": [
    {
     "data": {
      "text/plain": [
       "2238473464240"
      ]
     },
     "execution_count": 8,
     "metadata": {},
     "output_type": "execute_result"
    }
   ],
   "source": [
    "id(a)"
   ]
  },
  {
   "cell_type": "code",
   "execution_count": 9,
   "id": "02eb7599",
   "metadata": {},
   "outputs": [
    {
     "data": {
      "text/plain": [
       "2238473464240"
      ]
     },
     "execution_count": 9,
     "metadata": {},
     "output_type": "execute_result"
    }
   ],
   "source": [
    "id(b)"
   ]
  },
  {
   "cell_type": "code",
   "execution_count": 10,
   "id": "48a3f32a",
   "metadata": {},
   "outputs": [
    {
     "data": {
      "text/plain": [
       "2238473464240"
      ]
     },
     "execution_count": 10,
     "metadata": {},
     "output_type": "execute_result"
    }
   ],
   "source": [
    "c = b\n",
    "id(c)"
   ]
  },
  {
   "cell_type": "code",
   "execution_count": 11,
   "id": "a1352712",
   "metadata": {},
   "outputs": [],
   "source": [
    "del a"
   ]
  },
  {
   "cell_type": "code",
   "execution_count": 12,
   "id": "48f5c83a",
   "metadata": {},
   "outputs": [
    {
     "data": {
      "text/plain": [
       "5"
      ]
     },
     "execution_count": 12,
     "metadata": {},
     "output_type": "execute_result"
    }
   ],
   "source": [
    "b"
   ]
  },
  {
   "cell_type": "code",
   "execution_count": 13,
   "id": "58651206",
   "metadata": {},
   "outputs": [],
   "source": [
    "del b"
   ]
  },
  {
   "cell_type": "code",
   "execution_count": 14,
   "id": "e5a3e7c5",
   "metadata": {},
   "outputs": [
    {
     "data": {
      "text/plain": [
       "5"
      ]
     },
     "execution_count": 14,
     "metadata": {},
     "output_type": "execute_result"
    }
   ],
   "source": [
    "c"
   ]
  },
  {
   "cell_type": "code",
   "execution_count": 15,
   "id": "d0a916c0",
   "metadata": {},
   "outputs": [
    {
     "data": {
      "text/plain": [
       "5"
      ]
     },
     "execution_count": 15,
     "metadata": {},
     "output_type": "execute_result"
    }
   ],
   "source": [
    "a=5\n",
    "b=a\n",
    "a=6\n",
    "b"
   ]
  },
  {
   "cell_type": "code",
   "execution_count": 16,
   "id": "10a2f825",
   "metadata": {},
   "outputs": [],
   "source": [
    "import sys"
   ]
  },
  {
   "cell_type": "code",
   "execution_count": 17,
   "id": "4e4e82db",
   "metadata": {},
   "outputs": [],
   "source": [
    "a = 'corona'\n",
    "b= a\n",
    "c=b"
   ]
  },
  {
   "cell_type": "code",
   "execution_count": 18,
   "id": "ac04d027",
   "metadata": {},
   "outputs": [
    {
     "data": {
      "text/plain": [
       "2238584539120"
      ]
     },
     "execution_count": 18,
     "metadata": {},
     "output_type": "execute_result"
    }
   ],
   "source": [
    "id(a)"
   ]
  },
  {
   "cell_type": "code",
   "execution_count": 19,
   "id": "b8e6cb40",
   "metadata": {},
   "outputs": [
    {
     "data": {
      "text/plain": [
       "2238584539120"
      ]
     },
     "execution_count": 19,
     "metadata": {},
     "output_type": "execute_result"
    }
   ],
   "source": [
    "id(b)"
   ]
  },
  {
   "cell_type": "code",
   "execution_count": 20,
   "id": "81c75031",
   "metadata": {},
   "outputs": [
    {
     "data": {
      "text/plain": [
       "2238584539120"
      ]
     },
     "execution_count": 20,
     "metadata": {},
     "output_type": "execute_result"
    }
   ],
   "source": [
    "id(c)"
   ]
  },
  {
   "cell_type": "code",
   "execution_count": 21,
   "id": "fa994481",
   "metadata": {},
   "outputs": [
    {
     "data": {
      "text/plain": [
       "10"
      ]
     },
     "execution_count": 21,
     "metadata": {},
     "output_type": "execute_result"
    }
   ],
   "source": [
    "sys.getrefcount(a)"
   ]
  },
  {
   "cell_type": "code",
   "execution_count": 22,
   "id": "6ecca3d3",
   "metadata": {},
   "outputs": [],
   "source": [
    "x='erherherh'\n",
    "y = x"
   ]
  },
  {
   "cell_type": "code",
   "execution_count": 23,
   "id": "c079efe5",
   "metadata": {},
   "outputs": [],
   "source": [
    "z=y"
   ]
  },
  {
   "cell_type": "code",
   "execution_count": 24,
   "id": "87ee1036",
   "metadata": {},
   "outputs": [
    {
     "data": {
      "text/plain": [
       "4"
      ]
     },
     "execution_count": 24,
     "metadata": {},
     "output_type": "execute_result"
    }
   ],
   "source": [
    "sys.getrefcount(x)"
   ]
  },
  {
   "cell_type": "markdown",
   "id": "27a36b41",
   "metadata": {},
   "source": [
    "### Garbage Collection"
   ]
  },
  {
   "cell_type": "code",
   "execution_count": 26,
   "id": "245d5323",
   "metadata": {},
   "outputs": [],
   "source": [
    "# WB 1"
   ]
  },
  {
   "cell_type": "code",
   "execution_count": 27,
   "id": "7791a912",
   "metadata": {},
   "outputs": [],
   "source": [
    "a =2\n",
    "b=a\n",
    "c=b"
   ]
  },
  {
   "cell_type": "code",
   "execution_count": 30,
   "id": "48c16bb1",
   "metadata": {},
   "outputs": [
    {
     "data": {
      "text/plain": [
       "3782"
      ]
     },
     "execution_count": 30,
     "metadata": {},
     "output_type": "execute_result"
    }
   ],
   "source": [
    "sys.getrefcount(a)"
   ]
  },
  {
   "cell_type": "code",
   "execution_count": 33,
   "id": "81cbc588",
   "metadata": {},
   "outputs": [],
   "source": [
    "a =61111\n",
    "b=a\n",
    "c=b"
   ]
  },
  {
   "cell_type": "code",
   "execution_count": 34,
   "id": "a3a0ff68",
   "metadata": {},
   "outputs": [
    {
     "data": {
      "text/plain": [
       "4"
      ]
     },
     "execution_count": 34,
     "metadata": {},
     "output_type": "execute_result"
    }
   ],
   "source": [
    "sys.getrefcount(a)"
   ]
  },
  {
   "cell_type": "code",
   "execution_count": 35,
   "id": "933c8068",
   "metadata": {},
   "outputs": [
    {
     "name": "stdout",
     "output_type": "stream",
     "text": [
      "2238473464208\n"
     ]
    },
    {
     "data": {
      "text/plain": [
       "2238473464208"
      ]
     },
     "execution_count": 35,
     "metadata": {},
     "output_type": "execute_result"
    }
   ],
   "source": [
    "a = 4\n",
    "b = 4\n",
    "print(id(a))\n",
    "id(b)"
   ]
  },
  {
   "cell_type": "code",
   "execution_count": 37,
   "id": "0312f2ef",
   "metadata": {},
   "outputs": [
    {
     "name": "stdout",
     "output_type": "stream",
     "text": [
      "2238473463920\n",
      "2238473463920\n"
     ]
    }
   ],
   "source": [
    "a = -5\n",
    "b = -5\n",
    "print(id(a))\n",
    "print(id(b))"
   ]
  },
  {
   "cell_type": "code",
   "execution_count": 38,
   "id": "d4489620",
   "metadata": {},
   "outputs": [
    {
     "name": "stdout",
     "output_type": "stream",
     "text": [
      "2238473660816\n",
      "2238473660816\n"
     ]
    }
   ],
   "source": [
    "a = 256\n",
    "b = 256\n",
    "print(id(a))\n",
    "print(id(b))"
   ]
  },
  {
   "cell_type": "code",
   "execution_count": 39,
   "id": "ab683a44",
   "metadata": {},
   "outputs": [
    {
     "name": "stdout",
     "output_type": "stream",
     "text": [
      "2238588037424\n",
      "2238588037296\n"
     ]
    }
   ],
   "source": [
    "a = 257\n",
    "b = 257\n",
    "print(id(a))\n",
    "print(id(b))"
   ]
  },
  {
   "cell_type": "code",
   "execution_count": 40,
   "id": "1bcd16a9",
   "metadata": {},
   "outputs": [
    {
     "name": "stdout",
     "output_type": "stream",
     "text": [
      "2238588037648\n",
      "2238588036752\n"
     ]
    }
   ],
   "source": [
    "a = -6\n",
    "b = -6\n",
    "print(id(a))\n",
    "print(id(b))"
   ]
  },
  {
   "cell_type": "code",
   "execution_count": 41,
   "id": "023a9b2b",
   "metadata": {},
   "outputs": [
    {
     "name": "stdout",
     "output_type": "stream",
     "text": [
      "2238587718320\n",
      "2238587718320\n"
     ]
    }
   ],
   "source": [
    "a = 'cuttack'\n",
    "b = 'cuttack'\n",
    "print(id(a))\n",
    "print(id(b))"
   ]
  },
  {
   "cell_type": "code",
   "execution_count": 42,
   "id": "dcd2d56d",
   "metadata": {},
   "outputs": [
    {
     "name": "stdout",
     "output_type": "stream",
     "text": [
      "2238588096224\n",
      "2238588096224\n"
     ]
    }
   ],
   "source": [
    "a = 'cuttack_my_homecity'\n",
    "b = 'cuttack_my_homecity'\n",
    "print(id(a))\n",
    "print(id(b))"
   ]
  },
  {
   "cell_type": "code",
   "execution_count": 43,
   "id": "a30ccb92",
   "metadata": {},
   "outputs": [
    {
     "name": "stdout",
     "output_type": "stream",
     "text": [
      "2238588304720\n",
      "2238588303920\n"
     ]
    }
   ],
   "source": [
    "a = 'cuttack my homecity'\n",
    "b = 'cuttack my homecity'\n",
    "print(id(a))\n",
    "print(id(b))"
   ]
  },
  {
   "cell_type": "markdown",
   "id": "672b6435",
   "metadata": {},
   "source": [
    "## Mutability"
   ]
  },
  {
   "cell_type": "code",
   "execution_count": 1,
   "id": "baec2d78",
   "metadata": {},
   "outputs": [
    {
     "data": {
      "text/plain": [
       "2417323096432"
      ]
     },
     "execution_count": 1,
     "metadata": {},
     "output_type": "execute_result"
    }
   ],
   "source": [
    "a = \"Hello\"\n",
    "id(a)"
   ]
  },
  {
   "cell_type": "code",
   "execution_count": 2,
   "id": "0c680cf3",
   "metadata": {},
   "outputs": [
    {
     "data": {
      "text/plain": [
       "2417323040880"
      ]
     },
     "execution_count": 2,
     "metadata": {},
     "output_type": "execute_result"
    }
   ],
   "source": [
    "a = a+\"world\"\n",
    "id(a)"
   ]
  },
  {
   "cell_type": "code",
   "execution_count": 3,
   "id": "4a17f75b",
   "metadata": {},
   "outputs": [
    {
     "data": {
      "text/plain": [
       "2417339864192"
      ]
     },
     "execution_count": 3,
     "metadata": {},
     "output_type": "execute_result"
    }
   ],
   "source": [
    "T = (1,2,3)\n",
    "id(T)"
   ]
  },
  {
   "cell_type": "code",
   "execution_count": 4,
   "id": "c4103238",
   "metadata": {},
   "outputs": [
    {
     "data": {
      "text/plain": [
       "2417313688832"
      ]
     },
     "execution_count": 4,
     "metadata": {},
     "output_type": "execute_result"
    }
   ],
   "source": [
    "T = T + (4,5,6)\n",
    "id(T)"
   ]
  },
  {
   "cell_type": "code",
   "execution_count": 5,
   "id": "514f753a",
   "metadata": {},
   "outputs": [
    {
     "data": {
      "text/plain": [
       "2417323055168"
      ]
     },
     "execution_count": 5,
     "metadata": {},
     "output_type": "execute_result"
    }
   ],
   "source": [
    "L = [1,2,3]\n",
    "id(L)"
   ]
  },
  {
   "cell_type": "code",
   "execution_count": 6,
   "id": "407f4b1b",
   "metadata": {},
   "outputs": [
    {
     "data": {
      "text/plain": [
       "2417323055168"
      ]
     },
     "execution_count": 6,
     "metadata": {},
     "output_type": "execute_result"
    }
   ],
   "source": [
    "L.extend([4,5,6,7,8])\n",
    "id(L)"
   ]
  },
  {
   "cell_type": "code",
   "execution_count": 19,
   "id": "9ef3bea6",
   "metadata": {},
   "outputs": [],
   "source": [
    "def table(n):\n",
    "    table_list = []\n",
    "    for i in range(1,11):\n",
    "        table_list.append(n*i)\n",
    "    return table_list\n",
    "        "
   ]
  },
  {
   "cell_type": "code",
   "execution_count": 43,
   "id": "027d31bd",
   "metadata": {},
   "outputs": [
    {
     "data": {
      "text/plain": [
       "[25, 50, 75, 100, 125, 150, 175, 200, 225, 250]"
      ]
     },
     "execution_count": 43,
     "metadata": {},
     "output_type": "execute_result"
    }
   ],
   "source": [
    "table(25)"
   ]
  },
  {
   "cell_type": "code",
   "execution_count": 21,
   "id": "d4404779",
   "metadata": {},
   "outputs": [
    {
     "data": {
      "text/plain": [
       "2417344664512"
      ]
     },
     "execution_count": 21,
     "metadata": {},
     "output_type": "execute_result"
    }
   ],
   "source": [
    "L = [1,2,3]\n",
    "L1 = L\n",
    "id(L)"
   ]
  },
  {
   "cell_type": "code",
   "execution_count": 22,
   "id": "fe6f5d0f",
   "metadata": {},
   "outputs": [
    {
     "data": {
      "text/plain": [
       "2417344664512"
      ]
     },
     "execution_count": 22,
     "metadata": {},
     "output_type": "execute_result"
    }
   ],
   "source": [
    "id(L1)"
   ]
  },
  {
   "cell_type": "code",
   "execution_count": 23,
   "id": "31daaddc",
   "metadata": {},
   "outputs": [],
   "source": [
    "L1.append(6)"
   ]
  },
  {
   "cell_type": "code",
   "execution_count": 24,
   "id": "da92d1ca",
   "metadata": {},
   "outputs": [
    {
     "data": {
      "text/plain": [
       "[1, 2, 3, 6]"
      ]
     },
     "execution_count": 24,
     "metadata": {},
     "output_type": "execute_result"
    }
   ],
   "source": [
    "L1"
   ]
  },
  {
   "cell_type": "code",
   "execution_count": 25,
   "id": "67b06920",
   "metadata": {},
   "outputs": [
    {
     "data": {
      "text/plain": [
       "2417344664512"
      ]
     },
     "execution_count": 25,
     "metadata": {},
     "output_type": "execute_result"
    }
   ],
   "source": [
    "id(L1)"
   ]
  },
  {
   "cell_type": "code",
   "execution_count": 26,
   "id": "38897c84",
   "metadata": {},
   "outputs": [
    {
     "data": {
      "text/plain": [
       "[1, 2, 3, 6]"
      ]
     },
     "execution_count": 26,
     "metadata": {},
     "output_type": "execute_result"
    }
   ],
   "source": [
    "L"
   ]
  },
  {
   "cell_type": "markdown",
   "id": "22eba1af",
   "metadata": {},
   "source": [
    "## Cloning"
   ]
  },
  {
   "cell_type": "code",
   "execution_count": 27,
   "id": "b704029e",
   "metadata": {},
   "outputs": [],
   "source": [
    "L1 = L[:]"
   ]
  },
  {
   "cell_type": "code",
   "execution_count": 28,
   "id": "81ab9985",
   "metadata": {},
   "outputs": [
    {
     "data": {
      "text/plain": [
       "2417343779712"
      ]
     },
     "execution_count": 28,
     "metadata": {},
     "output_type": "execute_result"
    }
   ],
   "source": [
    "id(L1)"
   ]
  },
  {
   "cell_type": "code",
   "execution_count": 29,
   "id": "8d353691",
   "metadata": {},
   "outputs": [
    {
     "data": {
      "text/plain": [
       "2417344664512"
      ]
     },
     "execution_count": 29,
     "metadata": {},
     "output_type": "execute_result"
    }
   ],
   "source": [
    "id(L)"
   ]
  },
  {
   "cell_type": "code",
   "execution_count": 30,
   "id": "22d95a3b",
   "metadata": {},
   "outputs": [],
   "source": [
    "L1.append(8)"
   ]
  },
  {
   "cell_type": "code",
   "execution_count": 31,
   "id": "f1b8888f",
   "metadata": {},
   "outputs": [
    {
     "data": {
      "text/plain": [
       "[1, 2, 3, 6]"
      ]
     },
     "execution_count": 31,
     "metadata": {},
     "output_type": "execute_result"
    }
   ],
   "source": [
    "L"
   ]
  },
  {
   "cell_type": "code",
   "execution_count": 32,
   "id": "dc9d6728",
   "metadata": {},
   "outputs": [
    {
     "data": {
      "text/plain": [
       "[1, 2, 3, 6, 8]"
      ]
     },
     "execution_count": 32,
     "metadata": {},
     "output_type": "execute_result"
    }
   ],
   "source": [
    "L1"
   ]
  },
  {
   "cell_type": "markdown",
   "id": "4967a835",
   "metadata": {},
   "source": [
    "Question"
   ]
  },
  {
   "cell_type": "code",
   "execution_count": 38,
   "id": "b6512df8",
   "metadata": {},
   "outputs": [],
   "source": [
    "a = (1,2,3,[4,5])"
   ]
  },
  {
   "cell_type": "code",
   "execution_count": 39,
   "id": "ebbd6cf7",
   "metadata": {},
   "outputs": [
    {
     "data": {
      "text/plain": [
       "(1, 2, 3, [4, 5])"
      ]
     },
     "execution_count": 39,
     "metadata": {},
     "output_type": "execute_result"
    }
   ],
   "source": [
    "a"
   ]
  },
  {
   "cell_type": "code",
   "execution_count": 40,
   "id": "bca7455a",
   "metadata": {},
   "outputs": [],
   "source": [
    "a[-1][-1] =50"
   ]
  },
  {
   "cell_type": "code",
   "execution_count": 41,
   "id": "bdf695ce",
   "metadata": {},
   "outputs": [
    {
     "data": {
      "text/plain": [
       "(1, 2, 3, [4, 50])"
      ]
     },
     "execution_count": 41,
     "metadata": {},
     "output_type": "execute_result"
    }
   ],
   "source": [
    "a"
   ]
  },
  {
   "cell_type": "code",
   "execution_count": 44,
   "id": "ac4068a8",
   "metadata": {},
   "outputs": [],
   "source": [
    "a = [1,2,3,(4,5)]"
   ]
  },
  {
   "cell_type": "code",
   "execution_count": 45,
   "id": "53c703c5",
   "metadata": {},
   "outputs": [
    {
     "ename": "TypeError",
     "evalue": "'tuple' object does not support item assignment",
     "output_type": "error",
     "traceback": [
      "\u001b[1;31m---------------------------------------------------------------------------\u001b[0m",
      "\u001b[1;31mTypeError\u001b[0m                                 Traceback (most recent call last)",
      "Input \u001b[1;32mIn [45]\u001b[0m, in \u001b[0;36m<cell line: 1>\u001b[1;34m()\u001b[0m\n\u001b[1;32m----> 1\u001b[0m a[\u001b[38;5;241m-\u001b[39m\u001b[38;5;241m1\u001b[39m][\u001b[38;5;241m-\u001b[39m\u001b[38;5;241m1\u001b[39m] \u001b[38;5;241m=\u001b[39m\u001b[38;5;241m50\u001b[39m\n",
      "\u001b[1;31mTypeError\u001b[0m: 'tuple' object does not support item assignment"
     ]
    }
   ],
   "source": [
    "a[-1][-1] =50"
   ]
  },
  {
   "cell_type": "code",
   "execution_count": 46,
   "id": "f9442811",
   "metadata": {},
   "outputs": [
    {
     "data": {
      "text/plain": [
       "([1, 2], [3, 4])"
      ]
     },
     "execution_count": 46,
     "metadata": {},
     "output_type": "execute_result"
    }
   ],
   "source": [
    "c = ([1,2],[3,4])\n",
    "c"
   ]
  },
  {
   "cell_type": "code",
   "execution_count": 47,
   "id": "b22d0e77",
   "metadata": {},
   "outputs": [
    {
     "data": {
      "text/plain": [
       "2417359294976"
      ]
     },
     "execution_count": 47,
     "metadata": {},
     "output_type": "execute_result"
    }
   ],
   "source": [
    "id(c)"
   ]
  },
  {
   "cell_type": "code",
   "execution_count": 48,
   "id": "1185b394",
   "metadata": {},
   "outputs": [],
   "source": [
    "c[-1][-1] = 6"
   ]
  },
  {
   "cell_type": "code",
   "execution_count": 49,
   "id": "7c5c807b",
   "metadata": {},
   "outputs": [
    {
     "data": {
      "text/plain": [
       "2417359294976"
      ]
     },
     "execution_count": 49,
     "metadata": {},
     "output_type": "execute_result"
    }
   ],
   "source": [
    "id(c)"
   ]
  },
  {
   "cell_type": "code",
   "execution_count": 55,
   "id": "8da44e46",
   "metadata": {},
   "outputs": [
    {
     "data": {
      "text/plain": [
       "2417348431552"
      ]
     },
     "execution_count": 55,
     "metadata": {},
     "output_type": "execute_result"
    }
   ],
   "source": [
    "L = [1,2,3]\n",
    "id(L)"
   ]
  },
  {
   "cell_type": "code",
   "execution_count": 56,
   "id": "3e9b2c00",
   "metadata": {},
   "outputs": [
    {
     "data": {
      "text/plain": [
       "2417348431552"
      ]
     },
     "execution_count": 56,
     "metadata": {},
     "output_type": "execute_result"
    }
   ],
   "source": [
    "L += [1,2,73]\n",
    "id(L)"
   ]
  },
  {
   "cell_type": "code",
   "execution_count": 57,
   "id": "8619c139",
   "metadata": {},
   "outputs": [
    {
     "data": {
      "text/plain": [
       "[1, 2, 3, 1, 2, 73]"
      ]
     },
     "execution_count": 57,
     "metadata": {},
     "output_type": "execute_result"
    }
   ],
   "source": [
    "L"
   ]
  },
  {
   "cell_type": "code",
   "execution_count": 58,
   "id": "596141bf",
   "metadata": {},
   "outputs": [],
   "source": [
    "L = L + [4,5]"
   ]
  },
  {
   "cell_type": "code",
   "execution_count": 59,
   "id": "84b98630",
   "metadata": {},
   "outputs": [
    {
     "data": {
      "text/plain": [
       "[1, 2, 3, 1, 2, 73, 4, 5]"
      ]
     },
     "execution_count": 59,
     "metadata": {},
     "output_type": "execute_result"
    }
   ],
   "source": [
    "L"
   ]
  },
  {
   "cell_type": "code",
   "execution_count": 60,
   "id": "d251dfa0",
   "metadata": {},
   "outputs": [
    {
     "data": {
      "text/plain": [
       "2417343820608"
      ]
     },
     "execution_count": 60,
     "metadata": {},
     "output_type": "execute_result"
    }
   ],
   "source": [
    "id(L)"
   ]
  },
  {
   "cell_type": "code",
   "execution_count": 61,
   "id": "cc1e0c5e",
   "metadata": {},
   "outputs": [
    {
     "data": {
      "text/plain": [
       "2417343820608"
      ]
     },
     "execution_count": 61,
     "metadata": {},
     "output_type": "execute_result"
    }
   ],
   "source": [
    "L += [1,2,73]\n",
    "id(L)"
   ]
  },
  {
   "cell_type": "code",
   "execution_count": 62,
   "id": "06c3b825",
   "metadata": {},
   "outputs": [
    {
     "ename": "TypeError",
     "evalue": "'tuple' object does not support item assignment",
     "output_type": "error",
     "traceback": [
      "\u001b[1;31m---------------------------------------------------------------------------\u001b[0m",
      "\u001b[1;31mTypeError\u001b[0m                                 Traceback (most recent call last)",
      "Input \u001b[1;32mIn [62]\u001b[0m, in \u001b[0;36m<cell line: 1>\u001b[1;34m()\u001b[0m\n\u001b[1;32m----> 1\u001b[0m c[\u001b[38;5;241m0\u001b[39m] \u001b[38;5;241m=\u001b[39m c[\u001b[38;5;241m0\u001b[39m] \u001b[38;5;241m+\u001b[39m[\u001b[38;5;241m5\u001b[39m,\u001b[38;5;241m6\u001b[39m]\n",
      "\u001b[1;31mTypeError\u001b[0m: 'tuple' object does not support item assignment"
     ]
    }
   ],
   "source": [
    "c[0] = c[0] +[5,6]"
   ]
  },
  {
   "cell_type": "code",
   "execution_count": 63,
   "id": "68dab413",
   "metadata": {},
   "outputs": [
    {
     "ename": "TypeError",
     "evalue": "'tuple' object does not support item assignment",
     "output_type": "error",
     "traceback": [
      "\u001b[1;31m---------------------------------------------------------------------------\u001b[0m",
      "\u001b[1;31mTypeError\u001b[0m                                 Traceback (most recent call last)",
      "Input \u001b[1;32mIn [63]\u001b[0m, in \u001b[0;36m<cell line: 1>\u001b[1;34m()\u001b[0m\n\u001b[1;32m----> 1\u001b[0m c[\u001b[38;5;241m0\u001b[39m] \u001b[38;5;241m+\u001b[39m\u001b[38;5;241m=\u001b[39m[\u001b[38;5;241m5\u001b[39m,\u001b[38;5;241m6\u001b[39m]\n",
      "\u001b[1;31mTypeError\u001b[0m: 'tuple' object does not support item assignment"
     ]
    }
   ],
   "source": [
    "c[0] +=[5,6]"
   ]
  },
  {
   "cell_type": "code",
   "execution_count": 64,
   "id": "f74a2231",
   "metadata": {},
   "outputs": [
    {
     "data": {
      "text/plain": [
       "[1, 2, 3, (4, 5)]"
      ]
     },
     "execution_count": 64,
     "metadata": {},
     "output_type": "execute_result"
    }
   ],
   "source": [
    "a"
   ]
  },
  {
   "cell_type": "code",
   "execution_count": 65,
   "id": "1ee2eb82",
   "metadata": {},
   "outputs": [],
   "source": [
    "a = c[0]"
   ]
  },
  {
   "cell_type": "code",
   "execution_count": 66,
   "id": "d3ec4fa0",
   "metadata": {},
   "outputs": [],
   "source": [
    "a += [5,6]"
   ]
  },
  {
   "cell_type": "code",
   "execution_count": 67,
   "id": "34407179",
   "metadata": {},
   "outputs": [
    {
     "data": {
      "text/plain": [
       "[1, 2, 5, 6, 5, 6]"
      ]
     },
     "execution_count": 67,
     "metadata": {},
     "output_type": "execute_result"
    }
   ],
   "source": [
    "a"
   ]
  },
  {
   "cell_type": "code",
   "execution_count": 68,
   "id": "b0fcb0f6",
   "metadata": {},
   "outputs": [
    {
     "data": {
      "text/plain": [
       "([1, 2, 5, 6, 5, 6], [3, 6])"
      ]
     },
     "execution_count": 68,
     "metadata": {},
     "output_type": "execute_result"
    }
   ],
   "source": [
    "c"
   ]
  },
  {
   "cell_type": "code",
   "execution_count": 69,
   "id": "2fa346e0",
   "metadata": {},
   "outputs": [],
   "source": [
    "a = a + [0,9]"
   ]
  },
  {
   "cell_type": "code",
   "execution_count": 70,
   "id": "ea755cd6",
   "metadata": {},
   "outputs": [
    {
     "data": {
      "text/plain": [
       "([1, 2, 5, 6, 5, 6], [3, 6])"
      ]
     },
     "execution_count": 70,
     "metadata": {},
     "output_type": "execute_result"
    }
   ],
   "source": [
    "c"
   ]
  },
  {
   "cell_type": "code",
   "execution_count": null,
   "id": "49f19348",
   "metadata": {},
   "outputs": [],
   "source": []
  }
 ],
 "metadata": {
  "kernelspec": {
   "display_name": "Python 3 (ipykernel)",
   "language": "python",
   "name": "python3"
  },
  "language_info": {
   "codemirror_mode": {
    "name": "ipython",
    "version": 3
   },
   "file_extension": ".py",
   "mimetype": "text/x-python",
   "name": "python",
   "nbconvert_exporter": "python",
   "pygments_lexer": "ipython3",
   "version": "3.9.12"
  }
 },
 "nbformat": 4,
 "nbformat_minor": 5
}
