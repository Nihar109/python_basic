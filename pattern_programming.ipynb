{
 "cells": [
  {
   "cell_type": "code",
   "execution_count": 1,
   "id": "75719d29",
   "metadata": {},
   "outputs": [
    {
     "name": "stdout",
     "output_type": "stream",
     "text": [
      "Enter your pattern rows : 5\n",
      "\n",
      "* \n",
      "* * \n",
      "* * * \n",
      "* * * * \n",
      "* * * * * \n"
     ]
    }
   ],
   "source": [
    "num = int(input('Enter your pattern rows : '))\n",
    "\n",
    "for row in range(0,num+1):\n",
    "    for column in range(1,row+1):\n",
    "        print('*',end = \" \")\n",
    "    print()"
   ]
  },
  {
   "cell_type": "code",
   "execution_count": 2,
   "id": "8565396d",
   "metadata": {},
   "outputs": [
    {
     "name": "stdout",
     "output_type": "stream",
     "text": [
      "\n",
      "* \n",
      "* * \n",
      "* * * \n",
      "* * * * \n",
      "* * * * * \n"
     ]
    }
   ],
   "source": [
    "def right_angle_triangle(num):\n",
    "    \n",
    "    for row in range(0,num+1):\n",
    "        for column in range(1,row+1):\n",
    "            print('*',end = \" \")\n",
    "        print()\n",
    "        \n",
    "right_angle_triangle(5)"
   ]
  },
  {
   "cell_type": "code",
   "execution_count": 3,
   "id": "07a16ff5",
   "metadata": {},
   "outputs": [
    {
     "name": "stdout",
     "output_type": "stream",
     "text": [
      "* \n",
      "* * * \n",
      "* * * * * \n",
      "* * * * * * * \n",
      "* * * * * * * * * \n"
     ]
    }
   ],
   "source": [
    "def right_angle_triangle_odd(num):\n",
    "    k = 1\n",
    "    for row in range(1,num+1):\n",
    "        for column in range(1,k+1):\n",
    "            print('*',end = \" \")\n",
    "        k = k+2\n",
    "        print()\n",
    "        \n",
    "        \n",
    "        \n",
    "right_angle_triangle_odd(5)  "
   ]
  },
  {
   "cell_type": "code",
   "execution_count": 4,
   "id": "52efc4cc",
   "metadata": {},
   "outputs": [
    {
     "name": "stdout",
     "output_type": "stream",
     "text": [
      "Enter your pattern rows : 5\n",
      "    * \n",
      "   * * \n",
      "  * * * \n",
      " * * * * \n",
      "* * * * * \n"
     ]
    }
   ],
   "source": [
    "num = int(input('Enter your pattern rows : '))\n",
    "\n",
    "for row in range(0,num):\n",
    "    for column in range(0,num-row-1):\n",
    "        print(end=\" \")\n",
    "    for column in range(0,row+1):\n",
    "        print('*',end = \" \")\n",
    "    print()"
   ]
  },
  {
   "cell_type": "code",
   "execution_count": 5,
   "id": "957a35b5",
   "metadata": {},
   "outputs": [
    {
     "name": "stdout",
     "output_type": "stream",
     "text": [
      "Enter your pattern rows : 5\n",
      "* * * * * \n",
      " * * * * \n",
      "  * * * \n",
      "   * * \n",
      "    * \n"
     ]
    }
   ],
   "source": [
    "num = int(input('Enter your pattern rows : '))\n",
    "\n",
    "for row in range(num,0,-1):\n",
    "    for column in range(0,num-row):\n",
    "        print(end=\" \")\n",
    "    for column in range(0,row):\n",
    "        print('*',end = \" \")\n",
    "    print()"
   ]
  },
  {
   "cell_type": "code",
   "execution_count": 6,
   "id": "0d0d92d3",
   "metadata": {},
   "outputs": [
    {
     "name": "stdout",
     "output_type": "stream",
     "text": [
      "Enter your pattern rows : 5\n",
      "    * * * * * \n",
      "    * * * * \n",
      "    * * * \n",
      "    * * \n",
      "    * \n"
     ]
    }
   ],
   "source": [
    "num = int(input('Enter your pattern rows : '))\n",
    "\n",
    "for row in range(num,0,-1):\n",
    "    for column in range(0,num-1):\n",
    "        print(end=\" \")\n",
    "    for column in range(0,row):\n",
    "        print('*',end = \" \")\n",
    "    print()"
   ]
  },
  {
   "cell_type": "code",
   "execution_count": 7,
   "id": "13f2c460",
   "metadata": {},
   "outputs": [
    {
     "name": "stdout",
     "output_type": "stream",
     "text": [
      "Enter your pattern rows : 5\n",
      "* * * * * \n",
      " * * * * \n",
      "  * * * \n",
      "   * * \n",
      "    * \n"
     ]
    }
   ],
   "source": [
    "num = int(input('Enter your pattern rows : '))\n",
    "\n",
    "for row in range(num,0,-1):\n",
    "    for column in range(0,num-row):\n",
    "        print(end=\" \")\n",
    "    for column in range(0,row):\n",
    "        print('*',end = \" \")\n",
    "    print()"
   ]
  },
  {
   "cell_type": "code",
   "execution_count": 8,
   "id": "f0fedee6",
   "metadata": {},
   "outputs": [
    {
     "name": "stdout",
     "output_type": "stream",
     "text": [
      "Enter your pattern rows : 5\n",
      "     \n",
      "    * \n",
      "   * * \n",
      "  * * * \n",
      " * * * * \n",
      "* * * * * \n"
     ]
    }
   ],
   "source": [
    "num = int(input('Enter your pattern rows : '))\n",
    "\n",
    "for row in range(0,num+1):\n",
    "    for column in range(0,num-row):\n",
    "        print(end=\" \")\n",
    "    for column in range(0,row):\n",
    "        print('*',end = \" \")\n",
    "    print()"
   ]
  },
  {
   "cell_type": "code",
   "execution_count": 9,
   "id": "28bba9c8",
   "metadata": {},
   "outputs": [
    {
     "name": "stdout",
     "output_type": "stream",
     "text": [
      "Enter your pattern rows : 5\n",
      "    * \n",
      "   * * \n",
      "  * * * \n",
      " * * * * \n",
      "* * * * * \n",
      " * * * * \n",
      "  * * * \n",
      "   * * \n",
      "    * \n"
     ]
    }
   ],
   "source": [
    "num = int(input('Enter your pattern rows : '))\n",
    "\n",
    "for row in range(num):\n",
    "    for column in range(0,num-row-1):\n",
    "        print(end=\" \")\n",
    "    for column in range(0,row+1):\n",
    "        print('*',end = \" \")\n",
    "    print()\n",
    "for row in range(num-1,0,-1):\n",
    "    for column in range(0,num-row):\n",
    "        print(end=\" \")\n",
    "    for column in range(0,row):\n",
    "        print('*',end = \" \")\n",
    "    print()   \n"
   ]
  },
  {
   "cell_type": "code",
   "execution_count": 10,
   "id": "cd7a99dd",
   "metadata": {},
   "outputs": [
    {
     "name": "stdout",
     "output_type": "stream",
     "text": [
      "    * \n",
      "   * * \n",
      "  * * * \n",
      " * * * * \n",
      "* * * * * \n",
      " * * * * \n",
      "  * * * \n",
      "   * * \n",
      "    * \n"
     ]
    }
   ],
   "source": [
    "def pyramid(num):\n",
    "    \n",
    "    for i in range(num):\n",
    "        print(' '*(num-i-1)+'* '*(i+1))\n",
    "    for j in range(num-1,0,-1):\n",
    "        print(' '*(num-j)+'* '*(j))\n",
    "        \n",
    "pyramid(5)"
   ]
  },
  {
   "cell_type": "code",
   "execution_count": 11,
   "id": "017ef82e",
   "metadata": {},
   "outputs": [
    {
     "name": "stdout",
     "output_type": "stream",
     "text": [
      " * * * * *\n",
      " * * * *\n",
      " * * *\n",
      " * *\n",
      " *\n"
     ]
    }
   ],
   "source": [
    "num = 5\n",
    "for j in range(num,0,-1):\n",
    "        print(' *'*(j))"
   ]
  },
  {
   "cell_type": "code",
   "execution_count": 12,
   "id": "25111ccd",
   "metadata": {},
   "outputs": [
    {
     "name": "stdout",
     "output_type": "stream",
     "text": [
      " * * * * *\n",
      " * * * *\n",
      " * * *\n",
      " * *\n",
      " *\n"
     ]
    }
   ],
   "source": [
    "num = 5\n",
    "for j in range(num,0,-1):\n",
    "    for i in range(j):\n",
    "        print(' *',end=\"\")\n",
    "    print()"
   ]
  },
  {
   "cell_type": "code",
   "execution_count": null,
   "id": "18db47e6",
   "metadata": {},
   "outputs": [],
   "source": []
  }
 ],
 "metadata": {
  "kernelspec": {
   "display_name": "Python 3 (ipykernel)",
   "language": "python",
   "name": "python3"
  },
  "language_info": {
   "codemirror_mode": {
    "name": "ipython",
    "version": 3
   },
   "file_extension": ".py",
   "mimetype": "text/x-python",
   "name": "python",
   "nbconvert_exporter": "python",
   "pygments_lexer": "ipython3",
   "version": "3.9.12"
  }
 },
 "nbformat": 4,
 "nbformat_minor": 5
}
