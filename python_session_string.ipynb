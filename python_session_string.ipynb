{
 "cells": [
  {
   "cell_type": "code",
   "execution_count": 3,
   "id": "0a559e39",
   "metadata": {},
   "outputs": [
    {
     "name": "stdout",
     "output_type": "stream",
     "text": [
      "False\n"
     ]
    }
   ],
   "source": [
    "x,y = 'johne','cena'\n",
    "print(x<y)"
   ]
  },
  {
   "cell_type": "code",
   "execution_count": 8,
   "id": "2a946a81",
   "metadata": {},
   "outputs": [
    {
     "name": "stdout",
     "output_type": "stream",
     "text": [
      "1\n",
      "2\n",
      "3\n",
      "4\n"
     ]
    }
   ],
   "source": [
    "for i in range(1,11):\n",
    "    if i == 5:\n",
    "       # print(i)\n",
    "        break\n",
    "    print(i)"
   ]
  },
  {
   "cell_type": "code",
   "execution_count": 11,
   "id": "97ec3a10",
   "metadata": {},
   "outputs": [
    {
     "name": "stdout",
     "output_type": "stream",
     "text": [
      "1\n",
      "2\n",
      "3\n",
      "4\n",
      "6\n",
      "7\n",
      "8\n",
      "9\n",
      "10\n"
     ]
    }
   ],
   "source": [
    "for i in range(1,11):\n",
    "    if i == 5 :\n",
    "        continue\n",
    "    print(i)"
   ]
  },
  {
   "cell_type": "code",
   "execution_count": 12,
   "id": "a9f4e79d",
   "metadata": {},
   "outputs": [],
   "source": [
    "for i in range(1,11):\n",
    "    pass"
   ]
  },
  {
   "cell_type": "code",
   "execution_count": 16,
   "id": "6b3740bb",
   "metadata": {},
   "outputs": [
    {
     "name": "stdout",
     "output_type": "stream",
     "text": [
      "Enter row number : 6\n",
      "\n",
      "* \n",
      "* * \n",
      "* * * \n",
      "* * * * \n",
      "* * * * * \n",
      "* * * * * * \n"
     ]
    }
   ],
   "source": [
    "row = int(input(\"Enter row number : \"))\n",
    "for i in range(0,row + 1):\n",
    "    for j in range(0,i):\n",
    "        print('*' ,end = \" \")\n",
    "    print()"
   ]
  },
  {
   "cell_type": "code",
   "execution_count": 17,
   "id": "f78da906",
   "metadata": {},
   "outputs": [
    {
     "data": {
      "text/plain": [
       "9"
      ]
     },
     "execution_count": 17,
     "metadata": {},
     "output_type": "execute_result"
    }
   ],
   "source": [
    "# Modulous inbuilt function\n",
    "abs(-9)"
   ]
  },
  {
   "cell_type": "code",
   "execution_count": 18,
   "id": "6e026b92",
   "metadata": {},
   "outputs": [
    {
     "data": {
      "text/plain": [
       "4"
      ]
     },
     "execution_count": 18,
     "metadata": {},
     "output_type": "execute_result"
    }
   ],
   "source": [
    "# power of a number\n",
    "pow(2,2)"
   ]
  },
  {
   "cell_type": "code",
   "execution_count": 20,
   "id": "1411db4b",
   "metadata": {},
   "outputs": [
    {
     "data": {
      "text/plain": [
       "1"
      ]
     },
     "execution_count": 20,
     "metadata": {},
     "output_type": "execute_result"
    }
   ],
   "source": [
    "min([1,2,3])"
   ]
  },
  {
   "cell_type": "code",
   "execution_count": 21,
   "id": "895d9c71",
   "metadata": {},
   "outputs": [
    {
     "data": {
      "text/plain": [
       "9"
      ]
     },
     "execution_count": 21,
     "metadata": {},
     "output_type": "execute_result"
    }
   ],
   "source": [
    "max(9,0)"
   ]
  },
  {
   "cell_type": "code",
   "execution_count": 22,
   "id": "ebbd5cb9",
   "metadata": {},
   "outputs": [
    {
     "data": {
      "text/plain": [
       "1"
      ]
     },
     "execution_count": 22,
     "metadata": {},
     "output_type": "execute_result"
    }
   ],
   "source": [
    "min({1,2})"
   ]
  },
  {
   "cell_type": "code",
   "execution_count": 23,
   "id": "107b2748",
   "metadata": {},
   "outputs": [
    {
     "data": {
      "text/plain": [
       "1"
      ]
     },
     "execution_count": 23,
     "metadata": {},
     "output_type": "execute_result"
    }
   ],
   "source": [
    "round(1.2)"
   ]
  },
  {
   "cell_type": "code",
   "execution_count": 28,
   "id": "440d0567",
   "metadata": {},
   "outputs": [
    {
     "data": {
      "text/plain": [
       "9.06"
      ]
     },
     "execution_count": 28,
     "metadata": {},
     "output_type": "execute_result"
    }
   ],
   "source": [
    "round(9.056,2)"
   ]
  },
  {
   "cell_type": "code",
   "execution_count": 27,
   "id": "66166889",
   "metadata": {},
   "outputs": [
    {
     "data": {
      "text/plain": [
       "'z'"
      ]
     },
     "execution_count": 27,
     "metadata": {},
     "output_type": "execute_result"
    }
   ],
   "source": [
    "max('zxay')"
   ]
  },
  {
   "cell_type": "code",
   "execution_count": 29,
   "id": "70505e12",
   "metadata": {},
   "outputs": [
    {
     "data": {
      "text/plain": [
       "(2, 1)"
      ]
     },
     "execution_count": 29,
     "metadata": {},
     "output_type": "execute_result"
    }
   ],
   "source": [
    "divmod(5,2)"
   ]
  },
  {
   "cell_type": "code",
   "execution_count": 30,
   "id": "f1cbaf3f",
   "metadata": {},
   "outputs": [
    {
     "data": {
      "text/plain": [
       "'0b100'"
      ]
     },
     "execution_count": 30,
     "metadata": {},
     "output_type": "execute_result"
    }
   ],
   "source": [
    "bin(4)"
   ]
  },
  {
   "cell_type": "code",
   "execution_count": 31,
   "id": "127a9568",
   "metadata": {},
   "outputs": [
    {
     "data": {
      "text/plain": [
       "'0o4'"
      ]
     },
     "execution_count": 31,
     "metadata": {},
     "output_type": "execute_result"
    }
   ],
   "source": [
    "oct(4)"
   ]
  },
  {
   "cell_type": "code",
   "execution_count": 32,
   "id": "8e5f7595",
   "metadata": {},
   "outputs": [
    {
     "data": {
      "text/plain": [
       "'0x9'"
      ]
     },
     "execution_count": 32,
     "metadata": {},
     "output_type": "execute_result"
    }
   ],
   "source": [
    "hex(9)"
   ]
  },
  {
   "cell_type": "code",
   "execution_count": 33,
   "id": "5549bd64",
   "metadata": {},
   "outputs": [
    {
     "data": {
      "text/plain": [
       "1925010320368"
      ]
     },
     "execution_count": 33,
     "metadata": {},
     "output_type": "execute_result"
    }
   ],
   "source": [
    "a = 23\n",
    "id(a)"
   ]
  },
  {
   "cell_type": "code",
   "execution_count": 34,
   "id": "eaf8a381",
   "metadata": {},
   "outputs": [
    {
     "data": {
      "text/plain": [
       "3"
      ]
     },
     "execution_count": 34,
     "metadata": {},
     "output_type": "execute_result"
    }
   ],
   "source": [
    "len([1,2,3])"
   ]
  },
  {
   "cell_type": "code",
   "execution_count": 36,
   "id": "3b8a226c",
   "metadata": {},
   "outputs": [
    {
     "data": {
      "text/plain": [
       "17"
      ]
     },
     "execution_count": 36,
     "metadata": {},
     "output_type": "execute_result"
    }
   ],
   "source": [
    "sum([9,8])"
   ]
  },
  {
   "cell_type": "code",
   "execution_count": 37,
   "id": "9f9068a0",
   "metadata": {},
   "outputs": [
    {
     "name": "stdout",
     "output_type": "stream",
     "text": [
      "Help on built-in function print in module builtins:\n",
      "\n",
      "print(...)\n",
      "    print(value, ..., sep=' ', end='\\n', file=sys.stdout, flush=False)\n",
      "    \n",
      "    Prints the values to a stream, or to sys.stdout by default.\n",
      "    Optional keyword arguments:\n",
      "    file:  a file-like object (stream); defaults to the current sys.stdout.\n",
      "    sep:   string inserted between values, default a space.\n",
      "    end:   string appended after the last value, default a newline.\n",
      "    flush: whether to forcibly flush the stream.\n",
      "\n"
     ]
    }
   ],
   "source": [
    "help('print')"
   ]
  },
  {
   "cell_type": "code",
   "execution_count": 39,
   "id": "229ef29d",
   "metadata": {},
   "outputs": [
    {
     "name": "stdout",
     "output_type": "stream",
     "text": [
      "\n",
      "Please wait a moment while I gather a list of all available modules...\n",
      "\n"
     ]
    },
    {
     "name": "stderr",
     "output_type": "stream",
     "text": [
      "WARNING: AstropyDeprecationWarning: The private astropy._erfa module has been made into its own package, pyerfa, which is a dependency of astropy and can be imported directly using \"import erfa\" [astropy._erfa]\n",
      "C:\\Users\\Nihar\\anaconda3\\lib\\site-packages\\nltk\\twitter\\__init__.py:20: UserWarning: The twython library has not been installed. Some functionality from the twitter package will not be available.\n",
      "  warnings.warn(\n",
      "C:\\Users\\Nihar\\anaconda3\\lib\\site-packages\\_distutils_hack\\__init__.py:30: UserWarning: Setuptools is replacing distutils.\n",
      "  warnings.warn(\"Setuptools is replacing distutils.\")\n",
      "No QCoreApplication instance found. Application patches not applied. You have to call load_stylesheet function after instantiation of QApplication to take effect. \n"
     ]
    },
    {
     "name": "stdout",
     "output_type": "stream",
     "text": [
      "Update LANGUAGE_CODES (inside config/base.py) if a new translation has been added to Spyder\n"
     ]
    },
    {
     "name": "stderr",
     "output_type": "stream",
     "text": [
      "C:\\Users\\Nihar\\anaconda3\\lib\\pkgutil.py:108: VisibleDeprecationWarning:\n",
      "\n",
      "zmq.eventloop.minitornado is deprecated in pyzmq 14.0 and will be removed.\n",
      "    Install tornado itself to use zmq with the tornado IOLoop.\n",
      "    \n",
      "\n"
     ]
    },
    {
     "name": "stdout",
     "output_type": "stream",
     "text": [
      "Cython              colorsys            mmapfile            sniffio\n",
      "IPython             commctrl            mmsystem            snowballstemmer\n",
      "OpenSSL             compileall          mock                socket\n",
      "PIL                 comtypes            modulefinder        socketserver\n",
      "PyQt5               concurrent          mpmath              socks\n",
      "TBB                 conda               msgpack             sockshandler\n",
      "__future__          conda_build         msilib              sortedcollections\n",
      "_abc                conda_content_trust msvcrt              sortedcontainers\n",
      "_aix_support        conda_env           multidict           soupsieve\n",
      "_argon2_cffi_bindings conda_pack          multipledispatch    sphinx\n",
      "_ast                conda_package_handling multiprocessing     spyder\n",
      "_asyncio            conda_token         munkres             spyder_kernels\n",
      "_bisect             conda_verify        mypy_extensions     sqlalchemy\n",
      "_black_version      configparser        nacl                sqlite3\n",
      "_blake2             constantly          navigator_updater   sre_compile\n",
      "_bootlocale         contextlib          nbclassic           sre_constants\n",
      "_bootsubprocess     contextvars         nbclient            sre_parse\n",
      "_bz2                cookiecutter        nbconvert           ssl\n",
      "_cffi_backend       copy                nbformat            sspi\n",
      "_codecs             copyreg             nest_asyncio        sspicon\n",
      "_codecs_cn          crypt               netbios             stack_data\n",
      "_codecs_hk          cryptography        netrc               stat\n",
      "_codecs_iso2022     cssselect           networkx            statistics\n",
      "_codecs_jp          csv                 nltk                statsmodels\n",
      "_codecs_kr          ctypes              nntplib             string\n",
      "_codecs_tw          curl                nose                stringprep\n",
      "_collections        curses              notebook            struct\n",
      "_collections_abc    cwp                 nt                  subprocess\n",
      "_compat_pickle      cycler              ntpath              sunau\n",
      "_compression        cython              ntsecuritycon       symbol\n",
      "_contextvars        cytoolz             nturl2path          sympy\n",
      "_csv                daal4py             numba               symtable\n",
      "_ctypes             dask                numbergen           sys\n",
      "_ctypes_test        dataclasses         numbers             sysconfig\n",
      "_datetime           datashader          numexpr             tables\n",
      "_decimal            datashape           numpy               tabnanny\n",
      "_distutils_hack     datetime            numpydoc            tabulate\n",
      "_elementtree        dateutil            odbc                tarfile\n",
      "_functools          dbi                 olefile             tbb\n",
      "_hashlib            dbm                 onedal              tblib\n",
      "_heapq              dde                 opcode              telnetlib\n",
      "_imp                debugpy             openpyxl            tempfile\n",
      "_io                 decimal             operator            tenacity\n",
      "_json               decorator           optparse            terminado\n",
      "_locale             defusedxml          os                  test\n",
      "_lsprof             diff_match_patch    packaging           test_pycosat\n",
      "_lzma               difflib             pandas              testpath\n",
      "_markupbase         dis                 pandocfilters       text_unidecode\n",
      "_md5                distributed         panel               textdistance\n",
      "_msi                distutils           param               textwrap\n",
      "_multibytecodec     doctest             paramiko            this\n",
      "_multiprocessing    docutils            parsel              threading\n",
      "_nsis               email               parser              threadpoolctl\n",
      "_opcode             encodings           parso               three_merge\n",
      "_operator           ensurepip           partd               tifffile\n",
      "_osx_support        entrypoints         past                time\n",
      "_overlapped         enum                pathlib             timeit\n",
      "_peg_parser         erfa                pathspec            timer\n",
      "_pickle             errno               patsy               tinycss\n",
      "_plotly_future_     et_xmlfile          pdb                 tkinter\n",
      "_plotly_utils       executing           pep8                tldextract\n",
      "_py_abc             fastjsonschema      perfmon             tlz\n",
      "_pydecimal          faulthandler        pexpect             token\n",
      "_pyio               filecmp             pickle              tokenize\n",
      "_pyrsistent_version fileinput           pickleshare         toml\n",
      "_pytest             filelock            pickletools         tomli\n",
      "_queue              flake8              pip                 toolz\n",
      "_random             flask               pipes               tornado\n",
      "_sha1               fnmatch             pkg_resources       tqdm\n",
      "_sha256             fontTools           pkginfo             trace\n",
      "_sha3               formatter           pkgutil             traceback\n",
      "_sha512             fractions           platform            tracemalloc\n",
      "_signal             frozenlist          plistlib            traitlets\n",
      "_sitebuiltins       fsspec              plotly              tty\n",
      "_socket             ftplib              pluggy              turtle\n",
      "_sqlite3            functools           poplib              turtledemo\n",
      "_sre                future              posixpath           twisted\n",
      "_ssl                gc                  poyo                typed_ast\n",
      "_stat               genericpath         pprint              types\n",
      "_statistics         gensim              profile             typing\n",
      "_string             getopt              prometheus_client   typing_extensions\n",
      "_strptime           getpass             prompt_toolkit      ujson\n",
      "_struct             gettext             protego             unicodedata\n",
      "_symtable           glob                pstats              unidecode\n",
      "_system_path        glob2               psutil              unittest\n",
      "_testbuffer         google_crc32c       pty                 urllib\n",
      "_testcapi           graphlib            ptyprocess          urllib3\n",
      "_testconsole        greenlet            pure_eval           uu\n",
      "_testimportmultiple grpc                pvectorc            uuid\n",
      "_testinternalcapi   gzip                py                  venv\n",
      "_testmultiphase     h5py                py_compile          w3lib\n",
      "_thread             hamcrest            pyasn1              warnings\n",
      "_threading_local    hashlib             pyasn1_modules      watchdog\n",
      "_tkinter            heapdict            pyclbr              wave\n",
      "_tracemalloc        heapq               pycodestyle         wcwidth\n",
      "_uuid               hmac                pycosat             weakref\n",
      "_warnings           holoviews           pycparser           webbrowser\n",
      "_weakref            html                pyct                webencodings\n",
      "_weakrefset         http                pycurl              websocket\n",
      "_win32sysloader     hvplot              pydispatch          werkzeug\n",
      "_winapi             hyperlink           pydoc               wheel\n",
      "_winxptheme         idlelib             pydoc_data          widgetsnbextension\n",
      "_xxsubinterpreters  idna                pydocstyle          win2kras\n",
      "_yaml               imagecodecs         pyexpat             win32api\n",
      "_zoneinfo           imageio             pyflakes            win32clipboard\n",
      "abc                 imagesize           pygments            win32com\n",
      "adodbapi            imaplib             pylab               win32con\n",
      "afxres              imghdr              pylint              win32console\n",
      "aifc                imp                 pyls_spyder         win32cred\n",
      "aiohttp             importlib           pylsp               win32crypt\n",
      "aiosignal           importlib_metadata  pylsp_black         win32cryptcon\n",
      "alabaster           incremental         pylsp_jsonrpc       win32ctypes\n",
      "anaconda_navigator  inflection          pyodbc              win32event\n",
      "anaconda_project    iniconfig           pyparsing           win32evtlog\n",
      "antigravity         inspect             pyreadline          win32evtlogutil\n",
      "anyio               intake              pyrsistent          win32file\n",
      "appdirs             intervaltree        pytest              win32gui\n",
      "argon2              io                  pythoncom           win32gui_struct\n",
      "argparse            ipaddress           pytz                win32help\n",
      "array               ipykernel           pyviz_comms         win32inet\n",
      "arrow               ipykernel_launcher  pywin               win32inetcon\n",
      "ast                 ipython_genutils    pywin32_bootstrap   win32job\n",
      "astroid             ipywidgets          pywin32_testutil    win32lz\n",
      "astropy             isapi               pywintypes          win32net\n",
      "asttokens           isort               pywt                win32netcon\n",
      "async_timeout       isympy              pyximport           win32pdh\n",
      "asynchat            itemadapter         qdarkstyle          win32pdhquery\n",
      "asyncio             itemloaders         qstylizer           win32pdhutil\n",
      "asyncore            itertools           qtawesome           win32pipe\n",
      "atexit              itsdangerous        qtconsole           win32print\n",
      "atomicwrites        jdcal               qtpy                win32process\n",
      "attr                jedi                queue               win32profile\n",
      "attrs               jinja2              queuelib            win32ras\n",
      "audioop             jinja2_time         quopri              win32rcparser\n",
      "automat             jmespath            random              win32security\n",
      "autopep8            joblib              rasutil             win32service\n",
      "babel               json                re                  win32serviceutil\n",
      "backcall            json5               readline            win32timezone\n",
      "backports           jsonschema          regcheck            win32trace\n",
      "base64              jupyter             regex               win32traceutil\n",
      "bcrypt              jupyter_client      regutil             win32transaction\n",
      "bdb                 jupyter_console     repo_cli            win32ts\n",
      "binaryornot         jupyter_core        reprlib             win32ui\n",
      "binascii            jupyter_server      requests            win32uiole\n",
      "binhex              jupyterlab          requests_file       win32verstamp\n",
      "binstar_client      jupyterlab_plotly   rlcompleter         win32wnet\n",
      "bisect              jupyterlab_pygments rope                win_inet_pton\n",
      "bitarray            jupyterlab_server   rsa                 win_unicode_console\n",
      "bkcharts            jupyterlab_widgets  rtree               wincertstore\n",
      "black               jwt                 ruamel_yaml         winerror\n",
      "blackd              keyring             run                 winioctlcon\n",
      "bleach              keyword             runpy               winnt\n",
      "blib2to3            kiwisolver          s3transfer          winperf\n",
      "bokeh               lazy_object_proxy   sched               winpty\n",
      "boto3               lib2to3             scipy               winreg\n",
      "botocore            libarchive          scrapy              winsound\n",
      "bottleneck          libfuturize         seaborn             winxpgui\n",
      "brotli              libpasteurize       secrets             winxptheme\n",
      "bs4                 lief                select              wrapt\n",
      "builtins            linecache           selectors           wsgiref\n",
      "bz2                 llvmlite            send2trash          xarray\n",
      "cProfile            locale              service_identity    xdrlib\n",
      "cachetools          locket              servicemanager      xlrd\n",
      "calendar            logging             setuptools          xlsxwriter\n",
      "certifi             lxml                shelve              xlwings\n",
      "cffi                lzma                shlex               xml\n",
      "cgi                 mailbox             shutil              xmlrpc\n",
      "cgitb               mailcap             signal              xxsubtype\n",
      "chardet             markdown            sip                 yaml\n",
      "charset_normalizer  markupsafe          sipconfig           yapf\n",
      "chunk               marshal             sipdistutils        yapftests\n",
      "click               math                site                yarl\n",
      "cloudpickle         matplotlib          six                 zict\n",
      "clyent              matplotlib_inline   skimage             zipapp\n",
      "cmath               mccabe              sklearn             zipfile\n",
      "cmd                 menuinst            sklearnex           zipimport\n",
      "code                mimetypes           slugify             zipp\n",
      "codecs              mistune             smart_open          zlib\n",
      "codeop              mkl                 smtpd               zmq\n",
      "collections         mkl_fft             smtplib             zoneinfo\n",
      "colorama            mkl_random          snappy              zope\n",
      "colorcet            mmap                sndhdr              \n",
      "\n",
      "Enter any module name to get more help.  Or, type \"modules spam\" to search\n",
      "for modules whose name or summary contain the string \"spam\".\n",
      "\n"
     ]
    }
   ],
   "source": [
    "help('modules')"
   ]
  },
  {
   "cell_type": "code",
   "execution_count": 40,
   "id": "d401538e",
   "metadata": {},
   "outputs": [
    {
     "data": {
      "text/plain": [
       "3.141592653589793"
      ]
     },
     "execution_count": 40,
     "metadata": {},
     "output_type": "execute_result"
    }
   ],
   "source": [
    "import math\n",
    "math.pi"
   ]
  },
  {
   "cell_type": "code",
   "execution_count": 41,
   "id": "0ba166cb",
   "metadata": {},
   "outputs": [
    {
     "data": {
      "text/plain": [
       "2.718281828459045"
      ]
     },
     "execution_count": 41,
     "metadata": {},
     "output_type": "execute_result"
    }
   ],
   "source": [
    "math.e"
   ]
  },
  {
   "cell_type": "code",
   "execution_count": 42,
   "id": "6b7108ba",
   "metadata": {},
   "outputs": [
    {
     "data": {
      "text/plain": [
       "120"
      ]
     },
     "execution_count": 42,
     "metadata": {},
     "output_type": "execute_result"
    }
   ],
   "source": [
    "math.factorial(5)"
   ]
  },
  {
   "cell_type": "code",
   "execution_count": 44,
   "id": "b5212e3a",
   "metadata": {},
   "outputs": [
    {
     "data": {
      "text/plain": [
       "10"
      ]
     },
     "execution_count": 44,
     "metadata": {},
     "output_type": "execute_result"
    }
   ],
   "source": [
    "math.ceil(9.3)"
   ]
  },
  {
   "cell_type": "code",
   "execution_count": 45,
   "id": "7305dfc5",
   "metadata": {},
   "outputs": [
    {
     "data": {
      "text/plain": [
       "10.0"
      ]
     },
     "execution_count": 45,
     "metadata": {},
     "output_type": "execute_result"
    }
   ],
   "source": [
    "math.sqrt(100)"
   ]
  },
  {
   "cell_type": "code",
   "execution_count": 46,
   "id": "d2f66031",
   "metadata": {},
   "outputs": [],
   "source": [
    "import random"
   ]
  },
  {
   "cell_type": "code",
   "execution_count": 48,
   "id": "013808db",
   "metadata": {},
   "outputs": [
    {
     "data": {
      "text/plain": [
       "226"
      ]
     },
     "execution_count": 48,
     "metadata": {},
     "output_type": "execute_result"
    }
   ],
   "source": [
    "random.randint(1,233)"
   ]
  },
  {
   "cell_type": "code",
   "execution_count": 52,
   "id": "fa77805f",
   "metadata": {},
   "outputs": [
    {
     "data": {
      "text/plain": [
       "[1, 2, 5, 34]"
      ]
     },
     "execution_count": 52,
     "metadata": {},
     "output_type": "execute_result"
    }
   ],
   "source": [
    "a= [1,2,34,5]\n",
    "random.shuffle(a)\n",
    "a"
   ]
  },
  {
   "cell_type": "code",
   "execution_count": 53,
   "id": "980ac483",
   "metadata": {},
   "outputs": [],
   "source": [
    "import time"
   ]
  },
  {
   "cell_type": "code",
   "execution_count": 56,
   "id": "c8760929",
   "metadata": {},
   "outputs": [
    {
     "data": {
      "text/plain": [
       "1657810619.9072003"
      ]
     },
     "execution_count": 56,
     "metadata": {},
     "output_type": "execute_result"
    }
   ],
   "source": [
    "time.time()"
   ]
  },
  {
   "cell_type": "code",
   "execution_count": 57,
   "id": "c9775ac9",
   "metadata": {},
   "outputs": [
    {
     "data": {
      "text/plain": [
       "'Thu Jul 14 20:27:11 2022'"
      ]
     },
     "execution_count": 57,
     "metadata": {},
     "output_type": "execute_result"
    }
   ],
   "source": [
    "time.ctime()"
   ]
  },
  {
   "cell_type": "code",
   "execution_count": 58,
   "id": "530e08c1",
   "metadata": {},
   "outputs": [
    {
     "name": "stdout",
     "output_type": "stream",
     "text": [
      "hi\n",
      "hello\n"
     ]
    }
   ],
   "source": [
    "print('hi')\n",
    "time.sleep(1)\n",
    "print('hello')"
   ]
  },
  {
   "cell_type": "code",
   "execution_count": 59,
   "id": "f2909b57",
   "metadata": {},
   "outputs": [],
   "source": [
    "import os"
   ]
  },
  {
   "cell_type": "code",
   "execution_count": 60,
   "id": "7c6fde40",
   "metadata": {},
   "outputs": [
    {
     "data": {
      "text/plain": [
       "'C:\\\\Users\\\\Nihar\\\\Desktop\\\\python practice'"
      ]
     },
     "execution_count": 60,
     "metadata": {},
     "output_type": "execute_result"
    }
   ],
   "source": [
    "os.getcwd()"
   ]
  },
  {
   "cell_type": "code",
   "execution_count": 61,
   "id": "7b568d02",
   "metadata": {},
   "outputs": [
    {
     "data": {
      "text/plain": [
       "['.ipynb_checkpoints', 'python_session_1.ipynb']"
      ]
     },
     "execution_count": 61,
     "metadata": {},
     "output_type": "execute_result"
    }
   ],
   "source": [
    "os.listdir()"
   ]
  },
  {
   "cell_type": "code",
   "execution_count": 63,
   "id": "504efb92",
   "metadata": {},
   "outputs": [
    {
     "ename": "TypeError",
     "evalue": "chmod() missing required argument 'path' (pos 1)",
     "output_type": "error",
     "traceback": [
      "\u001b[1;31m---------------------------------------------------------------------------\u001b[0m",
      "\u001b[1;31mTypeError\u001b[0m                                 Traceback (most recent call last)",
      "Input \u001b[1;32mIn [63]\u001b[0m, in \u001b[0;36m<cell line: 1>\u001b[1;34m()\u001b[0m\n\u001b[1;32m----> 1\u001b[0m \u001b[43mos\u001b[49m\u001b[38;5;241;43m.\u001b[39;49m\u001b[43mchmod\u001b[49m\u001b[43m(\u001b[49m\u001b[43m)\u001b[49m\n",
      "\u001b[1;31mTypeError\u001b[0m: chmod() missing required argument 'path' (pos 1)"
     ]
    }
   ],
   "source": []
  },
  {
   "cell_type": "code",
   "execution_count": 64,
   "id": "88b1ebad",
   "metadata": {},
   "outputs": [
    {
     "data": {
      "text/plain": [
       "22026.465794806703"
      ]
     },
     "execution_count": 64,
     "metadata": {},
     "output_type": "execute_result"
    }
   ],
   "source": [
    "pow(math.e,10)"
   ]
  },
  {
   "cell_type": "code",
   "execution_count": 2,
   "id": "bcd73076",
   "metadata": {},
   "outputs": [
    {
     "name": "stdout",
     "output_type": "stream",
     "text": [
      "It's raining outside\n",
      "It\"s raining outside\n"
     ]
    }
   ],
   "source": [
    "print(\"It's raining outside\")\n",
    "print('It\"s raining outside')"
   ]
  },
  {
   "cell_type": "code",
   "execution_count": 4,
   "id": "8743e813",
   "metadata": {},
   "outputs": [
    {
     "name": "stdout",
     "output_type": "stream",
     "text": [
      "hello\n",
      "hi\n"
     ]
    }
   ],
   "source": [
    "c = '''hello\n",
    "hi'''\n",
    "print(c)"
   ]
  },
  {
   "cell_type": "code",
   "execution_count": 6,
   "id": "c61294fa",
   "metadata": {},
   "outputs": [
    {
     "data": {
      "text/plain": [
       "'Hello'"
      ]
     },
     "execution_count": 6,
     "metadata": {},
     "output_type": "execute_result"
    }
   ],
   "source": [
    "c = str(\"Hello\")\n",
    "c"
   ]
  },
  {
   "cell_type": "code",
   "execution_count": 9,
   "id": "ea90baa1",
   "metadata": {},
   "outputs": [
    {
     "data": {
      "text/plain": [
       "'o'"
      ]
     },
     "execution_count": 9,
     "metadata": {},
     "output_type": "execute_result"
    }
   ],
   "source": [
    "c[-1]"
   ]
  },
  {
   "cell_type": "code",
   "execution_count": 14,
   "id": "7d50a4e1",
   "metadata": {},
   "outputs": [
    {
     "data": {
      "text/plain": [
       "'olleH'"
      ]
     },
     "execution_count": 14,
     "metadata": {},
     "output_type": "execute_result"
    }
   ],
   "source": [
    "c[-1::-1]"
   ]
  },
  {
   "cell_type": "code",
   "execution_count": 13,
   "id": "4c6f2091",
   "metadata": {},
   "outputs": [
    {
     "data": {
      "text/plain": [
       "'olleH'"
      ]
     },
     "execution_count": 13,
     "metadata": {},
     "output_type": "execute_result"
    }
   ],
   "source": [
    "c[::-1]"
   ]
  },
  {
   "cell_type": "code",
   "execution_count": 15,
   "id": "62823468",
   "metadata": {},
   "outputs": [
    {
     "ename": "TypeError",
     "evalue": "'str' object does not support item assignment",
     "output_type": "error",
     "traceback": [
      "\u001b[1;31m---------------------------------------------------------------------------\u001b[0m",
      "\u001b[1;31mTypeError\u001b[0m                                 Traceback (most recent call last)",
      "Input \u001b[1;32mIn [15]\u001b[0m, in \u001b[0;36m<cell line: 1>\u001b[1;34m()\u001b[0m\n\u001b[1;32m----> 1\u001b[0m c[\u001b[38;5;241m0\u001b[39m] \u001b[38;5;241m=\u001b[39m \u001b[38;5;124m'\u001b[39m\u001b[38;5;124mX\u001b[39m\u001b[38;5;124m'\u001b[39m\n",
      "\u001b[1;31mTypeError\u001b[0m: 'str' object does not support item assignment"
     ]
    }
   ],
   "source": [
    "c[0] = 'X'"
   ]
  },
  {
   "cell_type": "code",
   "execution_count": 16,
   "id": "d5389b0e",
   "metadata": {},
   "outputs": [],
   "source": [
    "# strings are immutable"
   ]
  },
  {
   "cell_type": "code",
   "execution_count": 17,
   "id": "2c529a89",
   "metadata": {},
   "outputs": [],
   "source": [
    "del c"
   ]
  },
  {
   "cell_type": "code",
   "execution_count": 18,
   "id": "9289ba4e",
   "metadata": {},
   "outputs": [
    {
     "ename": "NameError",
     "evalue": "name 'c' is not defined",
     "output_type": "error",
     "traceback": [
      "\u001b[1;31m---------------------------------------------------------------------------\u001b[0m",
      "\u001b[1;31mNameError\u001b[0m                                 Traceback (most recent call last)",
      "Input \u001b[1;32mIn [18]\u001b[0m, in \u001b[0;36m<cell line: 1>\u001b[1;34m()\u001b[0m\n\u001b[1;32m----> 1\u001b[0m \u001b[43mc\u001b[49m\n",
      "\u001b[1;31mNameError\u001b[0m: name 'c' is not defined"
     ]
    }
   ],
   "source": [
    "c"
   ]
  },
  {
   "cell_type": "code",
   "execution_count": 19,
   "id": "92278bed",
   "metadata": {},
   "outputs": [],
   "source": [
    "c = \"Hello\""
   ]
  },
  {
   "cell_type": "code",
   "execution_count": 20,
   "id": "545798da",
   "metadata": {},
   "outputs": [
    {
     "ename": "TypeError",
     "evalue": "'str' object doesn't support item deletion",
     "output_type": "error",
     "traceback": [
      "\u001b[1;31m---------------------------------------------------------------------------\u001b[0m",
      "\u001b[1;31mTypeError\u001b[0m                                 Traceback (most recent call last)",
      "Input \u001b[1;32mIn [20]\u001b[0m, in \u001b[0;36m<cell line: 1>\u001b[1;34m()\u001b[0m\n\u001b[1;32m----> 1\u001b[0m \u001b[38;5;28;01mdel\u001b[39;00m c[\u001b[38;5;241m0\u001b[39m]\n",
      "\u001b[1;31mTypeError\u001b[0m: 'str' object doesn't support item deletion"
     ]
    }
   ],
   "source": [
    "del c[0]"
   ]
  },
  {
   "cell_type": "code",
   "execution_count": 21,
   "id": "0b3cb1ae",
   "metadata": {},
   "outputs": [
    {
     "ename": "AttributeError",
     "evalue": "'str' object has no attribute 'captalize'",
     "output_type": "error",
     "traceback": [
      "\u001b[1;31m---------------------------------------------------------------------------\u001b[0m",
      "\u001b[1;31mAttributeError\u001b[0m                            Traceback (most recent call last)",
      "Input \u001b[1;32mIn [21]\u001b[0m, in \u001b[0;36m<cell line: 1>\u001b[1;34m()\u001b[0m\n\u001b[1;32m----> 1\u001b[0m \u001b[43mc\u001b[49m\u001b[38;5;241;43m.\u001b[39;49m\u001b[43mcaptalize\u001b[49m()\n",
      "\u001b[1;31mAttributeError\u001b[0m: 'str' object has no attribute 'captalize'"
     ]
    }
   ],
   "source": [
    "c.captalize()"
   ]
  },
  {
   "cell_type": "code",
   "execution_count": 22,
   "id": "6f2fca7b",
   "metadata": {},
   "outputs": [
    {
     "data": {
      "text/plain": [
       "'HelloNihar'"
      ]
     },
     "execution_count": 22,
     "metadata": {},
     "output_type": "execute_result"
    }
   ],
   "source": [
    "\"Hello\" + \"Nihar\""
   ]
  },
  {
   "cell_type": "code",
   "execution_count": 24,
   "id": "88fa4105",
   "metadata": {},
   "outputs": [
    {
     "data": {
      "text/plain": [
       "' Hello Hello Hello'"
      ]
     },
     "execution_count": 24,
     "metadata": {},
     "output_type": "execute_result"
    }
   ],
   "source": [
    "\" Hello\" * 3"
   ]
  },
  {
   "cell_type": "code",
   "execution_count": 25,
   "id": "29616780",
   "metadata": {},
   "outputs": [
    {
     "data": {
      "text/plain": [
       "False"
      ]
     },
     "execution_count": 25,
     "metadata": {},
     "output_type": "execute_result"
    }
   ],
   "source": [
    "\"Helo\" != \"Helo\""
   ]
  },
  {
   "cell_type": "code",
   "execution_count": 27,
   "id": "8ad0a11a",
   "metadata": {},
   "outputs": [
    {
     "data": {
      "text/plain": [
       "True"
      ]
     },
     "execution_count": 27,
     "metadata": {},
     "output_type": "execute_result"
    }
   ],
   "source": [
    "\"Mumbai\" < \"Pune\""
   ]
  },
  {
   "cell_type": "code",
   "execution_count": 28,
   "id": "e689e5f6",
   "metadata": {},
   "outputs": [
    {
     "data": {
      "text/plain": [
       "True"
      ]
     },
     "execution_count": 28,
     "metadata": {},
     "output_type": "execute_result"
    }
   ],
   "source": [
    "\"Goa\" < \"Kolkata\""
   ]
  },
  {
   "cell_type": "code",
   "execution_count": 29,
   "id": "22e817b1",
   "metadata": {},
   "outputs": [
    {
     "data": {
      "text/plain": [
       "True"
      ]
     },
     "execution_count": 29,
     "metadata": {},
     "output_type": "execute_result"
    }
   ],
   "source": [
    "\"kol\" > 'Kol'"
   ]
  },
  {
   "cell_type": "code",
   "execution_count": 31,
   "id": "88756cd0",
   "metadata": {},
   "outputs": [
    {
     "data": {
      "text/plain": [
       "'world'"
      ]
     },
     "execution_count": 31,
     "metadata": {},
     "output_type": "execute_result"
    }
   ],
   "source": [
    "\"hello\" and \"world\""
   ]
  },
  {
   "cell_type": "code",
   "execution_count": 33,
   "id": "7968c550",
   "metadata": {},
   "outputs": [
    {
     "data": {
      "text/plain": [
       "'hello'"
      ]
     },
     "execution_count": 33,
     "metadata": {},
     "output_type": "execute_result"
    }
   ],
   "source": [
    "\"hi\" and \"hello\""
   ]
  },
  {
   "cell_type": "code",
   "execution_count": 36,
   "id": "445068c7",
   "metadata": {},
   "outputs": [
    {
     "data": {
      "text/plain": [
       "''"
      ]
     },
     "execution_count": 36,
     "metadata": {},
     "output_type": "execute_result"
    }
   ],
   "source": [
    "\"\" and \"Nihar\""
   ]
  },
  {
   "cell_type": "code",
   "execution_count": 37,
   "id": "af00bbf8",
   "metadata": {},
   "outputs": [
    {
     "data": {
      "text/plain": [
       "False"
      ]
     },
     "execution_count": 37,
     "metadata": {},
     "output_type": "execute_result"
    }
   ],
   "source": [
    "not \"hello\""
   ]
  },
  {
   "cell_type": "code",
   "execution_count": 38,
   "id": "2342aaa1",
   "metadata": {},
   "outputs": [
    {
     "data": {
      "text/plain": [
       "True"
      ]
     },
     "execution_count": 38,
     "metadata": {},
     "output_type": "execute_result"
    }
   ],
   "source": [
    "not \"\""
   ]
  },
  {
   "cell_type": "code",
   "execution_count": 41,
   "id": "bf07a279",
   "metadata": {},
   "outputs": [
    {
     "data": {
      "text/plain": [
       "True"
      ]
     },
     "execution_count": 41,
     "metadata": {},
     "output_type": "execute_result"
    }
   ],
   "source": [
    "not \"\""
   ]
  },
  {
   "cell_type": "code",
   "execution_count": 42,
   "id": "34c4c337",
   "metadata": {},
   "outputs": [
    {
     "data": {
      "text/plain": [
       "['h', 'e', 'l', 'l', 'o', ' ', 'w', 'o', 'r', 'l', 'd']"
      ]
     },
     "execution_count": 42,
     "metadata": {},
     "output_type": "execute_result"
    }
   ],
   "source": [
    "c = \"hello world\"\n",
    "l = [i for i in c]\n",
    "l"
   ]
  },
  {
   "cell_type": "code",
   "execution_count": 43,
   "id": "4cd3f753",
   "metadata": {},
   "outputs": [
    {
     "data": {
      "text/plain": [
       "7"
      ]
     },
     "execution_count": 43,
     "metadata": {},
     "output_type": "execute_result"
    }
   ],
   "source": [
    "c = \"kolkata\"\n",
    "len(c)"
   ]
  },
  {
   "cell_type": "code",
   "execution_count": 44,
   "id": "151ca972",
   "metadata": {},
   "outputs": [
    {
     "data": {
      "text/plain": [
       "'t'"
      ]
     },
     "execution_count": 44,
     "metadata": {},
     "output_type": "execute_result"
    }
   ],
   "source": [
    "max(c)"
   ]
  },
  {
   "cell_type": "code",
   "execution_count": 45,
   "id": "5e2f5944",
   "metadata": {},
   "outputs": [
    {
     "data": {
      "text/plain": [
       "['a', 'a', 'k', 'k', 'l', 'o', 't']"
      ]
     },
     "execution_count": 45,
     "metadata": {},
     "output_type": "execute_result"
    }
   ],
   "source": [
    "sorted(c)"
   ]
  },
  {
   "cell_type": "code",
   "execution_count": 46,
   "id": "91cc7266",
   "metadata": {},
   "outputs": [
    {
     "data": {
      "text/plain": [
       "['t', 'o', 'l', 'k', 'k', 'a', 'a']"
      ]
     },
     "execution_count": 46,
     "metadata": {},
     "output_type": "execute_result"
    }
   ],
   "source": [
    "sorted(c,reverse=True)"
   ]
  },
  {
   "cell_type": "markdown",
   "id": "dbedff4d",
   "metadata": {},
   "source": [
    "1. Capitalize"
   ]
  },
  {
   "cell_type": "code",
   "execution_count": 47,
   "id": "6119744b",
   "metadata": {},
   "outputs": [],
   "source": [
    "c = \"It is raining today\""
   ]
  },
  {
   "cell_type": "code",
   "execution_count": 48,
   "id": "97afd09a",
   "metadata": {},
   "outputs": [
    {
     "data": {
      "text/plain": [
       "'It is raining today'"
      ]
     },
     "execution_count": 48,
     "metadata": {},
     "output_type": "execute_result"
    }
   ],
   "source": [
    "c.capitalize()"
   ]
  },
  {
   "cell_type": "code",
   "execution_count": 49,
   "id": "6565d146",
   "metadata": {},
   "outputs": [
    {
     "data": {
      "text/plain": [
       "'It Is Raining Today'"
      ]
     },
     "execution_count": 49,
     "metadata": {},
     "output_type": "execute_result"
    }
   ],
   "source": [
    "c.title()"
   ]
  },
  {
   "cell_type": "code",
   "execution_count": 50,
   "id": "39d90e51",
   "metadata": {},
   "outputs": [
    {
     "data": {
      "text/plain": [
       "'IT IS RAINING TODAY'"
      ]
     },
     "execution_count": 50,
     "metadata": {},
     "output_type": "execute_result"
    }
   ],
   "source": [
    "c.upper()"
   ]
  },
  {
   "cell_type": "code",
   "execution_count": 51,
   "id": "aefcf8b5",
   "metadata": {},
   "outputs": [
    {
     "data": {
      "text/plain": [
       "'it is raining today'"
      ]
     },
     "execution_count": 51,
     "metadata": {},
     "output_type": "execute_result"
    }
   ],
   "source": [
    "c.lower()"
   ]
  },
  {
   "cell_type": "code",
   "execution_count": 52,
   "id": "740f0fb5",
   "metadata": {},
   "outputs": [
    {
     "data": {
      "text/plain": [
       "'kOLKATRa'"
      ]
     },
     "execution_count": 52,
     "metadata": {},
     "output_type": "execute_result"
    }
   ],
   "source": [
    "\"KolkatrA\".swapcase()"
   ]
  },
  {
   "cell_type": "markdown",
   "id": "6172f1b0",
   "metadata": {},
   "source": [
    "2. count"
   ]
  },
  {
   "cell_type": "code",
   "execution_count": 53,
   "id": "36b6bc3a",
   "metadata": {},
   "outputs": [
    {
     "data": {
      "text/plain": [
       "2"
      ]
     },
     "execution_count": 53,
     "metadata": {},
     "output_type": "execute_result"
    }
   ],
   "source": [
    "\"it is raining\".count(\"in\")"
   ]
  },
  {
   "cell_type": "markdown",
   "id": "cbfe2d4a",
   "metadata": {},
   "source": [
    "3. Find/index"
   ]
  },
  {
   "cell_type": "code",
   "execution_count": 55,
   "id": "a810d849",
   "metadata": {},
   "outputs": [
    {
     "data": {
      "text/plain": [
       "1"
      ]
     },
     "execution_count": 55,
     "metadata": {},
     "output_type": "execute_result"
    }
   ],
   "source": [
    "\"it is raining\".find('t')"
   ]
  },
  {
   "cell_type": "code",
   "execution_count": 58,
   "id": "2eff63ad",
   "metadata": {},
   "outputs": [
    {
     "data": {
      "text/plain": [
       "1"
      ]
     },
     "execution_count": 58,
     "metadata": {},
     "output_type": "execute_result"
    }
   ],
   "source": [
    "\"it is raining\".index('t')"
   ]
  },
  {
   "cell_type": "code",
   "execution_count": 59,
   "id": "aa0dd136",
   "metadata": {},
   "outputs": [
    {
     "data": {
      "text/plain": [
       "True"
      ]
     },
     "execution_count": 59,
     "metadata": {},
     "output_type": "execute_result"
    }
   ],
   "source": [
    "\"it is raining\".endswith('ing')"
   ]
  },
  {
   "cell_type": "code",
   "execution_count": 60,
   "id": "7662aed7",
   "metadata": {},
   "outputs": [
    {
     "data": {
      "text/plain": [
       "True"
      ]
     },
     "execution_count": 60,
     "metadata": {},
     "output_type": "execute_result"
    }
   ],
   "source": [
    "\"it is raining\".startswith('it')"
   ]
  },
  {
   "cell_type": "code",
   "execution_count": 62,
   "id": "2a27622f",
   "metadata": {},
   "outputs": [
    {
     "data": {
      "text/plain": [
       "'Hello my name is Nitish and I am 30'"
      ]
     },
     "execution_count": 62,
     "metadata": {},
     "output_type": "execute_result"
    }
   ],
   "source": [
    "\"Hello my name is {} and I am {}\".format(\"Nitish\",30)"
   ]
  },
  {
   "cell_type": "code",
   "execution_count": 64,
   "id": "ed2a6ff9",
   "metadata": {},
   "outputs": [
    {
     "data": {
      "text/plain": [
       "'Hello my name is 30 and I am Nitish'"
      ]
     },
     "execution_count": 64,
     "metadata": {},
     "output_type": "execute_result"
    }
   ],
   "source": [
    "\n",
    "\"Hello my name is {1} and I am {0}\".format(\"Nitish\",30)"
   ]
  },
  {
   "cell_type": "code",
   "execution_count": 65,
   "id": "13494567",
   "metadata": {},
   "outputs": [
    {
     "data": {
      "text/plain": [
       "'Hello my name is Nitish and I am 30'"
      ]
     },
     "execution_count": 65,
     "metadata": {},
     "output_type": "execute_result"
    }
   ],
   "source": [
    "\"Hello my name is {name} and I am {age}\".format(name=\"Nitish\",age=30)"
   ]
  },
  {
   "cell_type": "markdown",
   "id": "65973cb2",
   "metadata": {},
   "source": [
    "6. isalnum/isalpha/isdecimal/isdigit/isidentifier"
   ]
  },
  {
   "cell_type": "code",
   "execution_count": 67,
   "id": "66326d69",
   "metadata": {},
   "outputs": [
    {
     "data": {
      "text/plain": [
       "False"
      ]
     },
     "execution_count": 67,
     "metadata": {},
     "output_type": "execute_result"
    }
   ],
   "source": [
    "\"Nihar12&\".isalnum()"
   ]
  },
  {
   "cell_type": "code",
   "execution_count": 68,
   "id": "ac19520f",
   "metadata": {},
   "outputs": [
    {
     "data": {
      "text/plain": [
       "True"
      ]
     },
     "execution_count": 68,
     "metadata": {},
     "output_type": "execute_result"
    }
   ],
   "source": [
    "\"20\".isdigit()"
   ]
  },
  {
   "cell_type": "code",
   "execution_count": 71,
   "id": "bb59a45f",
   "metadata": {},
   "outputs": [
    {
     "data": {
      "text/plain": [
       "True"
      ]
     },
     "execution_count": 71,
     "metadata": {},
     "output_type": "execute_result"
    }
   ],
   "source": [
    "\"flat20\".isalnum()"
   ]
  },
  {
   "cell_type": "code",
   "execution_count": 70,
   "id": "d108760e",
   "metadata": {},
   "outputs": [
    {
     "data": {
      "text/plain": [
       "True"
      ]
     },
     "execution_count": 70,
     "metadata": {},
     "output_type": "execute_result"
    }
   ],
   "source": [
    "\"flat\".isalpha()"
   ]
  },
  {
   "cell_type": "code",
   "execution_count": 72,
   "id": "545b128e",
   "metadata": {},
   "outputs": [
    {
     "data": {
      "text/plain": [
       "False"
      ]
     },
     "execution_count": 72,
     "metadata": {},
     "output_type": "execute_result"
    }
   ],
   "source": [
    "\"20.5\".isdecimal()"
   ]
  },
  {
   "cell_type": "code",
   "execution_count": 73,
   "id": "fef4dc6c",
   "metadata": {},
   "outputs": [
    {
     "data": {
      "text/plain": [
       "True"
      ]
     },
     "execution_count": 73,
     "metadata": {},
     "output_type": "execute_result"
    }
   ],
   "source": [
    "\"hello_world\".isidentifier()"
   ]
  },
  {
   "cell_type": "code",
   "execution_count": 74,
   "id": "50380231",
   "metadata": {},
   "outputs": [
    {
     "data": {
      "text/plain": [
       "['who', 'is', 'the', 'pm', 'of', 'india']"
      ]
     },
     "execution_count": 74,
     "metadata": {},
     "output_type": "execute_result"
    }
   ],
   "source": [
    "\"who is the pm of india\".split()"
   ]
  },
  {
   "cell_type": "markdown",
   "id": "71c9c1a6",
   "metadata": {},
   "source": [
    "8. join"
   ]
  },
  {
   "cell_type": "code",
   "execution_count": 75,
   "id": "0d046434",
   "metadata": {},
   "outputs": [
    {
     "data": {
      "text/plain": [
       "'who is the pm of india'"
      ]
     },
     "execution_count": 75,
     "metadata": {},
     "output_type": "execute_result"
    }
   ],
   "source": [
    "\" \".join(['who', 'is', 'the', 'pm', 'of', 'india'])"
   ]
  },
  {
   "cell_type": "markdown",
   "id": "04103f6b",
   "metadata": {},
   "source": [
    "9. Replace"
   ]
  },
  {
   "cell_type": "code",
   "execution_count": 76,
   "id": "7c5c036b",
   "metadata": {},
   "outputs": [
    {
     "data": {
      "text/plain": [
       "'Hello my name is Nihar'"
      ]
     },
     "execution_count": 76,
     "metadata": {},
     "output_type": "execute_result"
    }
   ],
   "source": [
    "\"Hi my name is Nihar\".replace('Hi', 'Hello')"
   ]
  },
  {
   "cell_type": "markdown",
   "id": "74c7119a",
   "metadata": {},
   "source": [
    "10 . strip"
   ]
  },
  {
   "cell_type": "code",
   "execution_count": 78,
   "id": "a564e257",
   "metadata": {},
   "outputs": [
    {
     "data": {
      "text/plain": [
       "'          Nitish     '"
      ]
     },
     "execution_count": 78,
     "metadata": {},
     "output_type": "execute_result"
    }
   ],
   "source": [
    "name = \"          Nitish     \"\n",
    "name"
   ]
  },
  {
   "cell_type": "code",
   "execution_count": 79,
   "id": "ef201e80",
   "metadata": {},
   "outputs": [
    {
     "data": {
      "text/plain": [
       "'Nitish'"
      ]
     },
     "execution_count": 79,
     "metadata": {},
     "output_type": "execute_result"
    }
   ],
   "source": [
    "name.strip()"
   ]
  },
  {
   "cell_type": "code",
   "execution_count": 81,
   "id": "ea382b59",
   "metadata": {},
   "outputs": [
    {
     "data": {
      "text/plain": [
       "'Nihar'"
      ]
     },
     "execution_count": 81,
     "metadata": {},
     "output_type": "execute_result"
    }
   ],
   "source": [
    "\" Nihar\".strip()"
   ]
  },
  {
   "cell_type": "code",
   "execution_count": null,
   "id": "ee13628b",
   "metadata": {},
   "outputs": [],
   "source": []
  }
 ],
 "metadata": {
  "kernelspec": {
   "display_name": "Python 3 (ipykernel)",
   "language": "python",
   "name": "python3"
  },
  "language_info": {
   "codemirror_mode": {
    "name": "ipython",
    "version": 3
   },
   "file_extension": ".py",
   "mimetype": "text/x-python",
   "name": "python",
   "nbconvert_exporter": "python",
   "pygments_lexer": "ipython3",
   "version": "3.9.12"
  }
 },
 "nbformat": 4,
 "nbformat_minor": 5
}
