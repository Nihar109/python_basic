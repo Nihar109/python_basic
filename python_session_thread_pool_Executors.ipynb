{
 "cells": [
  {
   "cell_type": "code",
   "execution_count": 2,
   "id": "fbfe3819",
   "metadata": {},
   "outputs": [
    {
     "name": "stdout",
     "output_type": "stream",
     "text": [
      "Main Thread in 0.0 seconds\n"
     ]
    }
   ],
   "source": [
    "from time import time, sleep\n",
    "\n",
    "start_time = time()\n",
    "\n",
    "def something(id):\n",
    "    \"\"\"\n",
    "    This function run only something to test threading\n",
    "    Input - any valid integer\n",
    "    Output - run the function\n",
    "    Created by - Nihar\n",
    "    Last edited - 05 sep 2022\n",
    "    \"\"\"\n",
    "    print(f\"Going to sleep........{id}\")\n",
    "    sleep(1)\n",
    "    print(f\"Woken up ...{id}\")\n",
    "    \n",
    "end_time = time()\n",
    "\n",
    "print(f\"Main Thread in {end_time - start_time} seconds\")"
   ]
  },
  {
   "cell_type": "code",
   "execution_count": 3,
   "id": "c4f70adb",
   "metadata": {},
   "outputs": [
    {
     "data": {
      "text/plain": [
       "'\\n    This function run only something to test threading\\n    Input - any valid integer\\n    Output - run the function\\n    Created by - Nihar\\n    Last edited - 05 sep 2022\\n    '"
      ]
     },
     "execution_count": 3,
     "metadata": {},
     "output_type": "execute_result"
    }
   ],
   "source": [
    "something.__doc__"
   ]
  },
  {
   "cell_type": "code",
   "execution_count": 4,
   "id": "1dab1e43",
   "metadata": {},
   "outputs": [
    {
     "name": "stdout",
     "output_type": "stream",
     "text": [
      "Going to sleep........0\n",
      "Woken up ...0\n",
      "Main Thread in 1.0136051177978516 seconds\n"
     ]
    }
   ],
   "source": [
    "from time import time, sleep\n",
    "from concurrent.futures import ThreadPoolExecutor\n",
    "\n",
    "start_time = time()\n",
    "\n",
    "def something(id):\n",
    "    \"\"\"\n",
    "    This function run only something to test threading\n",
    "    Input - any valid integer\n",
    "    Output - run the function\n",
    "    Created by - Nihar\n",
    "    Last edited - 05 sep 2022\n",
    "    \"\"\"\n",
    "    print(f\"Going to sleep........{id}\")\n",
    "    sleep(1)\n",
    "    return f\"Woken up ...{id}\"\n",
    "\n",
    "with ThreadPoolExecutor() as executor:\n",
    "    task = executor.submit(something, 0)\n",
    "    print(task.result())\n",
    "    \n",
    "end_time = time()\n",
    "\n",
    "print(f\"Main Thread in {end_time - start_time} seconds\")"
   ]
  },
  {
   "cell_type": "code",
   "execution_count": 6,
   "id": "68d1266c",
   "metadata": {},
   "outputs": [
    {
     "name": "stdout",
     "output_type": "stream",
     "text": [
      "Going to sleep........0\n",
      "Going to sleep........1Going to sleep........2\n",
      "\n",
      "Going to sleep........3Going to sleep........4\n",
      "\n",
      "Going to sleep........5\n",
      "Going to sleep........6\n",
      "Going to sleep........7\n",
      "Going to sleep........8\n",
      "Going to sleep........9\n",
      "Woken up ...8\n",
      "Woken up ...9\n",
      "Woken up ...7\n",
      "Woken up ...6\n",
      "Woken up ...5\n",
      "Woken up ...3\n",
      "Woken up ...4\n",
      "Woken up ...1\n",
      "Woken up ...0\n",
      "Woken up ...2\n",
      "Main Thread in 1.0133442878723145 seconds\n"
     ]
    }
   ],
   "source": [
    "from time import time, sleep\n",
    "from concurrent.futures import ThreadPoolExecutor, as_completed\n",
    "\n",
    "start_time = time()\n",
    "\n",
    "def something(id):\n",
    "    \"\"\"\n",
    "    This function run only something to test threading\n",
    "    Input - any valid integer\n",
    "    Output - run the function\n",
    "    Created by - Nihar\n",
    "    Last edited - 05 sep 2022\n",
    "    \"\"\"\n",
    "    print(f\"Going to sleep........{id}\")\n",
    "    sleep(1)\n",
    "    return f\"Woken up ...{id}\"\n",
    "\n",
    "with ThreadPoolExecutor() as executor:\n",
    "    tasks  = [executor.submit(something, i) for i in range(10)]\n",
    "    \n",
    "    for _ in as_completed(tasks):\n",
    "        \n",
    "        print(_.result())\n",
    "    \n",
    "end_time = time()\n",
    "\n",
    "print(f\"Main Thread in {end_time - start_time} seconds\")"
   ]
  },
  {
   "cell_type": "code",
   "execution_count": 7,
   "id": "4a191540",
   "metadata": {},
   "outputs": [
    {
     "name": "stdout",
     "output_type": "stream",
     "text": [
      "Going to sleep........0\n",
      "Going to sleep........1\n",
      "Going to sleep........2\n",
      "Going to sleep........3\n",
      "Going to sleep........4Going to sleep........5\n",
      "\n",
      "Going to sleep........6\n",
      "Going to sleep........7\n",
      "Going to sleep........8\n",
      "Going to sleep........9\n",
      "Woken up ...9\n",
      "Woken up ...8\n",
      "Woken up ...7\n",
      "Woken up ...6\n",
      "Woken up ...5\n",
      "Woken up ...4\n",
      "Woken up ...3\n",
      "Woken up ...2\n",
      "Woken up ...1\n",
      "Woken up ...0\n",
      "Main Thread in 10.012022733688354 seconds\n"
     ]
    }
   ],
   "source": [
    "from time import time, sleep\n",
    "from concurrent.futures import ThreadPoolExecutor, as_completed\n",
    "\n",
    "start_time = time()\n",
    "\n",
    "def something(id, sleep_times):\n",
    "    \"\"\"\n",
    "    This function run only something to test threading\n",
    "    Input - any valid integer\n",
    "    Output - run the function\n",
    "    Created by - Nihar\n",
    "    Last edited - 05 sep 2022\n",
    "    \"\"\"\n",
    "    print(f\"Going to sleep........{id}\")\n",
    "    sleep(sleep_times)\n",
    "    return f\"Woken up ...{id}\"\n",
    "\n",
    "with ThreadPoolExecutor() as executor:\n",
    "    tasks  = [executor.submit(something, i,10-i) for i in range(10)]\n",
    "    \n",
    "    for _ in as_completed(tasks):\n",
    "        \n",
    "        print(_.result())\n",
    "    \n",
    "end_time = time()\n",
    "\n",
    "print(f\"Main Thread in {end_time - start_time} seconds\")"
   ]
  },
  {
   "cell_type": "code",
   "execution_count": 9,
   "id": "9474a935",
   "metadata": {},
   "outputs": [
    {
     "name": "stdout",
     "output_type": "stream",
     "text": [
      "Going to sleep........0\n",
      "Going to sleep........1\n",
      "Going to sleep........2\n",
      "Going to sleep........3\n",
      "Going to sleep........4\n",
      "Going to sleep........5\n",
      "Woken up ...0\n",
      "Woken up ...1\n",
      "Woken up ...2\n",
      "Woken up ...3\n",
      "Woken up ...4\n",
      "Woken up ...5\n",
      "Main Thread in 1.024442195892334 seconds\n"
     ]
    }
   ],
   "source": [
    "from time import time, sleep\n",
    "from concurrent.futures import ThreadPoolExecutor, as_completed\n",
    "\n",
    "start_time = time()\n",
    "\n",
    "def something(id):\n",
    "    \"\"\"\n",
    "    This function run only something to test threading\n",
    "    Input - any valid integer\n",
    "    Output - run the function\n",
    "    Created by - Nihar\n",
    "    Last edited - 05 sep 2022\n",
    "    \"\"\"\n",
    "    print(f\"Going to sleep........{id}\")\n",
    "    sleep(1)\n",
    "    return f\"Woken up ...{id}\"\n",
    "\n",
    "ids = [0,1,2,3,4,5]\n",
    "\n",
    "with ThreadPoolExecutor() as executor:\n",
    "    tasks  = executor.map(something, ids)\n",
    "    \n",
    "    for task in tasks:\n",
    "        \n",
    "        print(task)\n",
    "    \n",
    "end_time = time()\n",
    "\n",
    "print(f\"Main Thread in {end_time - start_time} seconds\")"
   ]
  },
  {
   "cell_type": "code",
   "execution_count": 10,
   "id": "c7bedfad",
   "metadata": {},
   "outputs": [
    {
     "name": "stdout",
     "output_type": "stream",
     "text": [
      "Going to sleep........0\n",
      "Going to sleep........1\n",
      "Going to sleep........2\n",
      "Going to sleep........3\n",
      "Going to sleep........4\n",
      "Going to sleep........5\n",
      "Woken up ...0\n",
      "Woken up ...1\n",
      "Woken up ...2\n",
      "Woken up ...3\n",
      "Woken up ...4\n",
      "Woken up ...5\n",
      "Main Thread in 7.018067836761475 seconds\n"
     ]
    }
   ],
   "source": [
    "from time import time, sleep\n",
    "from concurrent.futures import ThreadPoolExecutor, as_completed\n",
    "\n",
    "start_time = time()\n",
    "\n",
    "def something(id, sleep_time):\n",
    "    \"\"\"\n",
    "    This function run only something to test threading\n",
    "    Input - any valid integer\n",
    "    Output - run the function\n",
    "    Created by - Nihar\n",
    "    Last edited - 05 sep 2022\n",
    "    \"\"\"\n",
    "    print(f\"Going to sleep........{id}\")\n",
    "    sleep(sleep_time)\n",
    "    return f\"Woken up ...{id}\"\n",
    "\n",
    "ids = [0,1,2,3,4,5]\n",
    "sleep_times =[5,1,3,4,6,7]\n",
    "with ThreadPoolExecutor() as executor:\n",
    "    tasks  = executor.map(something, ids,sleep_times)\n",
    "    \n",
    "    for task in tasks:\n",
    "        \n",
    "        print(task)\n",
    "    \n",
    "end_time = time()\n",
    "\n",
    "print(f\"Main Thread in {end_time - start_time} seconds\")"
   ]
  },
  {
   "cell_type": "code",
   "execution_count": 12,
   "id": "a7b479fc",
   "metadata": {},
   "outputs": [
    {
     "name": "stdout",
     "output_type": "stream",
     "text": [
      "Going to sleep........0\n",
      "Going to sleep........1\n",
      "Going to sleep........2\n",
      "Going to sleep........3\n",
      "Going to sleep........4Going to sleep........5\n",
      "\n",
      "Going to sleep........6\n",
      "Going to sleep........7\n",
      "Going to sleep........8\n",
      "Going to sleep........9\n",
      "Woken up ...5\n",
      "Woken up ...4\n",
      "Woken up ...7\n",
      "Woken up ...2\n",
      "Woken up ...1\n",
      "Woken up ...0\n",
      "Woken up ...3\n",
      "Woken up ...6\n",
      "Woken up ...9\n",
      "Woken up ...8\n",
      "Main Thread in 1.0259077548980713 seconds\n"
     ]
    }
   ],
   "source": [
    "from time import time, sleep\n",
    "from concurrent.futures import ThreadPoolExecutor, as_completed\n",
    "\n",
    "start_time = time()\n",
    "\n",
    "def something(id):\n",
    "    \"\"\"\n",
    "    This function run only something to test threading\n",
    "    Input - any valid integer\n",
    "    Output - run the function\n",
    "    Created by - Nihar\n",
    "    Last edited - 05 sep 2022\n",
    "    \"\"\"\n",
    "    print(f\"Going to sleep........{id}\")\n",
    "    sleep(1)\n",
    "    return f\"Woken up ...{id}\"\n",
    "\n",
    "with ThreadPoolExecutor(max_workers=10) as executor:\n",
    "    # max_workers imndicates numnber of time a function simultaneously\n",
    "    tasks  = [executor.submit(something, i) for i in range(10)]\n",
    "    \n",
    "    for _ in as_completed(tasks):\n",
    "        \n",
    "        print(_.result())\n",
    "    \n",
    "end_time = time()\n",
    "\n",
    "print(f\"Main Thread in {end_time - start_time} seconds\")"
   ]
  },
  {
   "cell_type": "code",
   "execution_count": 13,
   "id": "c73fa988",
   "metadata": {},
   "outputs": [
    {
     "name": "stdout",
     "output_type": "stream",
     "text": [
      "Going to sleep........0\n",
      "Going to sleep........1\n",
      "Going to sleep........2\n",
      "Going to sleep........3Going to sleep........4\n",
      "Going to sleep........5\n",
      "\n",
      "Woken up ...1\n",
      "Woken up ...2\n",
      "Woken up ...0\n",
      "Going to sleep........6Going to sleep........7Going to sleep........8Woken up ...3\n",
      "\n",
      "\n",
      "Woken up ...4\n",
      "Woken up ...5\n",
      "\n",
      "Going to sleep........9\n",
      "Woken up ...7\n",
      "Woken up ...6\n",
      "Woken up ...8\n",
      "Woken up ...9\n",
      "Main Thread in 4.031609773635864 seconds\n"
     ]
    }
   ],
   "source": [
    "from time import time, sleep\n",
    "from concurrent.futures import ThreadPoolExecutor, as_completed\n",
    "\n",
    "start_time = time()\n",
    "\n",
    "def something(id):\n",
    "    \"\"\"\n",
    "    This function run only something to test threading\n",
    "    Input - any valid integer\n",
    "    Output - run the function\n",
    "    Created by - Nihar\n",
    "    Last edited - 05 sep 2022\n",
    "    \"\"\"\n",
    "    print(f\"Going to sleep........{id}\")\n",
    "    sleep(1)\n",
    "    return f\"Woken up ...{id}\"\n",
    "\n",
    "with ThreadPoolExecutor(max_workers=3) as executor:\n",
    "    tasks  = [executor.submit(something, i) for i in range(10)]\n",
    "    \n",
    "    for _ in as_completed(tasks):\n",
    "        \n",
    "        print(_.result())\n",
    "    \n",
    "end_time = time()\n",
    "\n",
    "print(f\"Main Thread in {end_time - start_time} seconds\")"
   ]
  },
  {
   "cell_type": "code",
   "execution_count": 14,
   "id": "c349d3c7",
   "metadata": {},
   "outputs": [
    {
     "name": "stdout",
     "output_type": "stream",
     "text": [
      "Going to sleep........0\n",
      "Going to sleep........1\n",
      "Going to sleep........2\n",
      "Going to sleep........3\n",
      "Going to sleep........4\n",
      "Going to sleep........5Going to sleep........6Going to sleep........7Woken up ...3Going to sleep........8\n",
      "\n",
      "\n",
      "Woken up ...4\n",
      "Woken up ...2\n",
      "Woken up ...1\n",
      "Going to sleep........9\n",
      "\n",
      "Woken up ...0\n",
      "\n",
      "Woken up ...7\n",
      "Woken up ...6\n",
      "Woken up ...9\n",
      "Woken up ...5\n",
      "Woken up ...8\n",
      "Main Thread in 2.026604652404785 seconds\n"
     ]
    }
   ],
   "source": [
    "from time import time, sleep\n",
    "from concurrent.futures import ThreadPoolExecutor, as_completed\n",
    "\n",
    "start_time = time()\n",
    "\n",
    "def something(id):\n",
    "    \"\"\"\n",
    "    This function run only something to test threading\n",
    "    Input - any valid integer\n",
    "    Output - run the function\n",
    "    Created by - Nihar\n",
    "    Last edited - 05 sep 2022\n",
    "    \"\"\"\n",
    "    print(f\"Going to sleep........{id}\")\n",
    "    sleep(1)\n",
    "    return f\"Woken up ...{id}\"\n",
    "\n",
    "with ThreadPoolExecutor(max_workers=5) as executor:\n",
    "    tasks  = [executor.submit(something, i) for i in range(10)]\n",
    "    \n",
    "    for _ in as_completed(tasks):\n",
    "        \n",
    "        print(_.result())\n",
    "    \n",
    "end_time = time()\n",
    "\n",
    "print(f\"Main Thread in {end_time - start_time} seconds\")"
   ]
  }
 ],
 "metadata": {
  "kernelspec": {
   "display_name": "Python 3 (ipykernel)",
   "language": "python",
   "name": "python3"
  },
  "language_info": {
   "codemirror_mode": {
    "name": "ipython",
    "version": 3
   },
   "file_extension": ".py",
   "mimetype": "text/x-python",
   "name": "python",
   "nbconvert_exporter": "python",
   "pygments_lexer": "ipython3",
   "version": "3.9.12"
  }
 },
 "nbformat": 4,
 "nbformat_minor": 5
}
