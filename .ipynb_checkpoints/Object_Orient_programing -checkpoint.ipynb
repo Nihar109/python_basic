{
 "cells": [
  {
   "cell_type": "code",
   "execution_count": 1,
   "id": "5aa32eba",
   "metadata": {},
   "outputs": [
    {
     "ename": "AttributeError",
     "evalue": "'list' object has no attribute 'upper'",
     "output_type": "error",
     "traceback": [
      "\u001b[1;31m---------------------------------------------------------------------------\u001b[0m",
      "\u001b[1;31mAttributeError\u001b[0m                            Traceback (most recent call last)",
      "Input \u001b[1;32mIn [1]\u001b[0m, in \u001b[0;36m<cell line: 2>\u001b[1;34m()\u001b[0m\n\u001b[0;32m      1\u001b[0m L \u001b[38;5;241m=\u001b[39m [\u001b[38;5;241m1\u001b[39m,\u001b[38;5;241m2\u001b[39m,\u001b[38;5;241m3\u001b[39m]\n\u001b[1;32m----> 2\u001b[0m \u001b[43mL\u001b[49m\u001b[38;5;241;43m.\u001b[39;49m\u001b[43mupper\u001b[49m()\n",
      "\u001b[1;31mAttributeError\u001b[0m: 'list' object has no attribute 'upper'"
     ]
    }
   ],
   "source": [
    "L = [1,2,3]\n",
    "L.upper()"
   ]
  },
  {
   "cell_type": "code",
   "execution_count": 2,
   "id": "66257db6",
   "metadata": {},
   "outputs": [
    {
     "ename": "AttributeError",
     "evalue": "'str' object has no attribute 'append'",
     "output_type": "error",
     "traceback": [
      "\u001b[1;31m---------------------------------------------------------------------------\u001b[0m",
      "\u001b[1;31mAttributeError\u001b[0m                            Traceback (most recent call last)",
      "Input \u001b[1;32mIn [2]\u001b[0m, in \u001b[0;36m<cell line: 2>\u001b[1;34m()\u001b[0m\n\u001b[0;32m      1\u001b[0m city \u001b[38;5;241m=\u001b[39m \u001b[38;5;124m'\u001b[39m\u001b[38;5;124mKolkata\u001b[39m\u001b[38;5;124m'\u001b[39m\n\u001b[1;32m----> 2\u001b[0m \u001b[43mcity\u001b[49m\u001b[38;5;241;43m.\u001b[39;49m\u001b[43mappend\u001b[49m(\u001b[38;5;124m'\u001b[39m\u001b[38;5;124ma\u001b[39m\u001b[38;5;124m'\u001b[39m)\n",
      "\u001b[1;31mAttributeError\u001b[0m: 'str' object has no attribute 'append'"
     ]
    }
   ],
   "source": [
    "city = 'Kolkata'\n",
    "city.append('a')"
   ]
  },
  {
   "cell_type": "markdown",
   "id": "8d0e5b4a",
   "metadata": {},
   "source": [
    "# Class\n",
    "Class is a blueprint"
   ]
  },
  {
   "cell_type": "code",
   "execution_count": 3,
   "id": "f2f3d94f",
   "metadata": {},
   "outputs": [
    {
     "name": "stdout",
     "output_type": "stream",
     "text": [
      "<class 'int'>\n"
     ]
    }
   ],
   "source": [
    "a = 2\n",
    "print(type(a))"
   ]
  },
  {
   "cell_type": "markdown",
   "id": "b19288e3",
   "metadata": {},
   "source": [
    "Class - \n",
    "- Data or Property or attribute\n",
    "- Functions or behavior or method"
   ]
  },
  {
   "cell_type": "markdown",
   "id": "82dec31c",
   "metadata": {},
   "source": [
    "Class name should be pascal Case\n",
    "- example - ThisIsPascalCase\n",
    "\n",
    "Variable or function name\n",
    "\n",
    "- example - snake_case\n",
    "\n",
    "#### Functions Vs Methods\n",
    "##### Methods special case of function which are built with in a class\n",
    "    "
   ]
  },
  {
   "cell_type": "code",
   "execution_count": 4,
   "id": "636476a2",
   "metadata": {},
   "outputs": [],
   "source": [
    "class Atm:\n",
    "    \n",
    "    # Constructor : Special method where its inside code read automatically when we call this class\n",
    "    # special/magic/dunder methods\n",
    "    \n",
    "    # instance variable\n",
    "    \n",
    "    def __init__(self):\n",
    "        self.pin = \"\"\n",
    "        self.balance = 0\n",
    "        \n",
    "        self.menu()\n",
    "        \n",
    "    def menu(self):\n",
    "        user_input = input(\"\"\"\n",
    "                              Hello, how would you like to proceed?\n",
    "                              1. Enter 1 to create pin\n",
    "                              2. Enter 2 to deposit\n",
    "                              3. Enter 3 to withdraw\n",
    "                              4. Enter 4 to check balance\n",
    "                              5. Enter 5 to exit\n",
    "                              \"\"\")\n",
    "        if user_input == '1':\n",
    "            self.create_pin()\n",
    "        elif user_input == '2':\n",
    "            self.deposit()\n",
    "        elif user_input == '3':\n",
    "            self.withdraw()\n",
    "        elif user_input == '4':\n",
    "            self.check_balance()\n",
    "        else:\n",
    "            print('Bye, Thank you')\n",
    "            \n",
    "    def create_pin(self):\n",
    "        self.pin = input('Enter your pin')\n",
    "        print('pin created sucessfully')\n",
    "        \n",
    "    def deposit(self):\n",
    "        temp = input('Enter your pin')\n",
    "        if temp == self.pin:\n",
    "            amount = int(input(\"Enter the amount\"))\n",
    "            self.balance += amount\n",
    "            print('Deposit sucessful')\n",
    "            \n",
    "        else:\n",
    "            print('Invalid pin')\n",
    "            \n",
    "    def withdraw(self):\n",
    "        temp = input('Enter your pin')\n",
    "        if temp == self.pin:\n",
    "            amount = int(input(\"Enter the amount\"))\n",
    "            if amount < self.balance:\n",
    "                self.balance -= amount\n",
    "                print('withdraw sucessful')\n",
    "            else:\n",
    "                print('Insufficient funds')\n",
    "        else:\n",
    "            print('Invalid pin')\n",
    "            \n",
    "    def check_balance(self):\n",
    "        temp = input('Enter your pin')\n",
    "        if temp == self.pin:\n",
    "            print(self.balance)\n",
    "            \n",
    "        else:\n",
    "            print('Invalid pin')"
   ]
  },
  {
   "cell_type": "code",
   "execution_count": 5,
   "id": "f5108f18",
   "metadata": {},
   "outputs": [
    {
     "name": "stdout",
     "output_type": "stream",
     "text": [
      "\n",
      "                              Hello, how would you like to proceed?\n",
      "                              1. Enter 1 to create pin\n",
      "                              2. Enter 2 to deposit\n",
      "                              3. Enter 3 to withdraw\n",
      "                              4. Enter 4 to check balance\n",
      "                              5. Enter 5 to exit\n",
      "                              1\n",
      "Enter your pin1234\n",
      "pin created sucessfully\n"
     ]
    }
   ],
   "source": [
    "sbi = Atm()"
   ]
  },
  {
   "cell_type": "code",
   "execution_count": 6,
   "id": "bff4a7a3",
   "metadata": {},
   "outputs": [
    {
     "name": "stdout",
     "output_type": "stream",
     "text": [
      "Enter your pin1234\n",
      "Enter the amount235000\n",
      "Deposit sucessful\n"
     ]
    }
   ],
   "source": [
    "sbi.deposit()"
   ]
  },
  {
   "cell_type": "code",
   "execution_count": 7,
   "id": "c1e4b942",
   "metadata": {},
   "outputs": [
    {
     "name": "stdout",
     "output_type": "stream",
     "text": [
      "Enter your pin1234\n",
      "235000\n"
     ]
    }
   ],
   "source": [
    "sbi.check_balance()"
   ]
  },
  {
   "cell_type": "code",
   "execution_count": 9,
   "id": "11e4254a",
   "metadata": {},
   "outputs": [
    {
     "name": "stdout",
     "output_type": "stream",
     "text": [
      "Enter your pin1234\n",
      "Enter the amount23456\n",
      "withdraw sucessful\n"
     ]
    }
   ],
   "source": [
    "sbi.withdraw()"
   ]
  },
  {
   "cell_type": "code",
   "execution_count": 10,
   "id": "c1d1abc2",
   "metadata": {},
   "outputs": [
    {
     "name": "stdout",
     "output_type": "stream",
     "text": [
      "\n",
      "                              Hello, how would you like to proceed?\n",
      "                              1. Enter 1 to create pin\n",
      "                              2. Enter 2 to deposit\n",
      "                              3. Enter 3 to withdraw\n",
      "                              4. Enter 4 to check balance\n",
      "                              5. Enter 5 to exit\n",
      "                              1\n",
      "Enter your pin2345\n",
      "pin created sucessfully\n"
     ]
    }
   ],
   "source": [
    "hdfc = Atm()"
   ]
  },
  {
   "cell_type": "code",
   "execution_count": 12,
   "id": "af5f3f60",
   "metadata": {},
   "outputs": [
    {
     "name": "stdout",
     "output_type": "stream",
     "text": [
      "Enter your pin2345\n",
      "Enter the amount3459000\n",
      "Deposit sucessful\n"
     ]
    }
   ],
   "source": [
    "hdfc.deposit()"
   ]
  },
  {
   "cell_type": "code",
   "execution_count": 13,
   "id": "97bcfd35",
   "metadata": {},
   "outputs": [
    {
     "name": "stdout",
     "output_type": "stream",
     "text": [
      "Enter your pin2345\n",
      "3459000\n"
     ]
    }
   ],
   "source": [
    "hdfc.check_balance()"
   ]
  },
  {
   "cell_type": "code",
   "execution_count": 15,
   "id": "9e52a2e4",
   "metadata": {},
   "outputs": [
    {
     "name": "stdout",
     "output_type": "stream",
     "text": [
      "Enter your pin1234\n",
      "211544\n"
     ]
    }
   ],
   "source": [
    "sbi.check_balance()"
   ]
  },
  {
   "cell_type": "code",
   "execution_count": 16,
   "id": "83fc5b40",
   "metadata": {},
   "outputs": [
    {
     "data": {
      "text/plain": [
       "211544"
      ]
     },
     "execution_count": 16,
     "metadata": {},
     "output_type": "execute_result"
    }
   ],
   "source": [
    "sbi.balance"
   ]
  },
  {
   "cell_type": "code",
   "execution_count": 17,
   "id": "c016b41e",
   "metadata": {},
   "outputs": [
    {
     "data": {
      "text/plain": [
       "3459000"
      ]
     },
     "execution_count": 17,
     "metadata": {},
     "output_type": "execute_result"
    }
   ],
   "source": [
    "hdfc.balance"
   ]
  },
  {
   "cell_type": "code",
   "execution_count": 48,
   "id": "7c68ee70",
   "metadata": {},
   "outputs": [],
   "source": [
    "class Fraction:\n",
    "    \n",
    "    def __init__(self,n,d):\n",
    "        self.num = n\n",
    "        self.den = d\n",
    "        \n",
    "    def __str__(self):\n",
    "        return \"{}/{}\".format(self.num,self.den)\n",
    "    \n",
    "    def __add__(self,other):\n",
    "        temp_num = self.num*other.den + other.num*self.den\n",
    "        temp_den = self.den * other.den\n",
    "        \n",
    "        return \"{}/{}\".format(temp_num,temp_den)\n",
    "    def __sub__(self,other):\n",
    "        temp_num = self.num*other.den - other.num*self.den\n",
    "        temp_den = self.den * other.den\n",
    "        \n",
    "        return \"{}/{}\".format(temp_num,temp_den)\n",
    "    def __mul__(self,other):\n",
    "        temp_num = self.num*other.num\n",
    "        temp_den = self.den * other.den\n",
    "        \n",
    "        return \"{}/{}\".format(temp_num,temp_den)\n",
    "    def __truediv__(self,other):\n",
    "        temp_num = self.num*other.den\n",
    "        temp_den = self.den * other.num\n",
    "        \n",
    "        return \"{}/{}\".format(temp_num,temp_den)"
   ]
  },
  {
   "cell_type": "code",
   "execution_count": 49,
   "id": "fc06953c",
   "metadata": {},
   "outputs": [],
   "source": [
    "x = Fraction(4,3)"
   ]
  },
  {
   "cell_type": "code",
   "execution_count": 50,
   "id": "72073a87",
   "metadata": {},
   "outputs": [
    {
     "name": "stdout",
     "output_type": "stream",
     "text": [
      "4/3\n"
     ]
    }
   ],
   "source": [
    "print(x)"
   ]
  },
  {
   "cell_type": "code",
   "execution_count": 51,
   "id": "c6da6075",
   "metadata": {},
   "outputs": [
    {
     "data": {
      "text/plain": [
       "__main__.Fraction"
      ]
     },
     "execution_count": 51,
     "metadata": {},
     "output_type": "execute_result"
    }
   ],
   "source": [
    "type(x)"
   ]
  },
  {
   "cell_type": "code",
   "execution_count": 52,
   "id": "b53fd08a",
   "metadata": {},
   "outputs": [
    {
     "name": "stdout",
     "output_type": "stream",
     "text": [
      "9/8\n"
     ]
    }
   ],
   "source": [
    "y = Fraction(9,8)\n",
    "print(y)"
   ]
  },
  {
   "cell_type": "code",
   "execution_count": 53,
   "id": "f60fab22",
   "metadata": {},
   "outputs": [
    {
     "name": "stdout",
     "output_type": "stream",
     "text": [
      "59/24\n"
     ]
    }
   ],
   "source": [
    "print(x+y)"
   ]
  },
  {
   "cell_type": "markdown",
   "id": "68f94560",
   "metadata": {},
   "source": [
    "for same we have to check set datatype"
   ]
  },
  {
   "cell_type": "code",
   "execution_count": 54,
   "id": "32d95978",
   "metadata": {},
   "outputs": [
    {
     "name": "stdout",
     "output_type": "stream",
     "text": [
      "5/24\n"
     ]
    }
   ],
   "source": [
    "print(x-y)"
   ]
  },
  {
   "cell_type": "code",
   "execution_count": 55,
   "id": "cfc2dd38",
   "metadata": {},
   "outputs": [
    {
     "name": "stdout",
     "output_type": "stream",
     "text": [
      "36/24\n"
     ]
    }
   ],
   "source": [
    "print(x*y)"
   ]
  },
  {
   "cell_type": "code",
   "execution_count": 56,
   "id": "07588c9c",
   "metadata": {},
   "outputs": [
    {
     "name": "stdout",
     "output_type": "stream",
     "text": [
      "32/27\n"
     ]
    }
   ],
   "source": [
    "print(x/y)"
   ]
  },
  {
   "cell_type": "markdown",
   "id": "7fbd1141",
   "metadata": {},
   "source": [
    "## Encapsulation"
   ]
  },
  {
   "cell_type": "code",
   "execution_count": 57,
   "id": "1f9c6e33",
   "metadata": {},
   "outputs": [
    {
     "data": {
      "text/plain": [
       "'1234'"
      ]
     },
     "execution_count": 57,
     "metadata": {},
     "output_type": "execute_result"
    }
   ],
   "source": [
    "sbi.pin"
   ]
  },
  {
   "cell_type": "code",
   "execution_count": 58,
   "id": "b2bc72ff",
   "metadata": {},
   "outputs": [],
   "source": [
    "# problame any body can access my variable in my class"
   ]
  },
  {
   "cell_type": "code",
   "execution_count": 59,
   "id": "0910ae18",
   "metadata": {},
   "outputs": [],
   "source": [
    "sbi.balance =\"1234\""
   ]
  },
  {
   "cell_type": "code",
   "execution_count": 60,
   "id": "2efd6109",
   "metadata": {},
   "outputs": [
    {
     "data": {
      "text/plain": [
       "'1234'"
      ]
     },
     "execution_count": 60,
     "metadata": {},
     "output_type": "execute_result"
    }
   ],
   "source": [
    "sbi.balance"
   ]
  },
  {
   "cell_type": "code",
   "execution_count": 5,
   "id": "f39bf0a9",
   "metadata": {},
   "outputs": [],
   "source": [
    "class Atm:\n",
    "    \n",
    "    # Constructor : Special method where its inside code read automatically when we call this class\n",
    "    # special/magic/dunder methods\n",
    "    \n",
    "    # instance variable\n",
    "    \n",
    "    def __init__(self):\n",
    "        self.__pin = \"\"\n",
    "        self.__balance = 0\n",
    "        \n",
    "        self.__menu()\n",
    "        \n",
    "    def get_pin(self):\n",
    "        return self.__pin\n",
    "    \n",
    "    def set_pin(self,new_pin):\n",
    "        if type(new_pin) == str:\n",
    "            self.__pin = new_pin\n",
    "            print('Pin changed')\n",
    "        else: \n",
    "            print('Not allowed')\n",
    "    \n",
    "    def __menu(self):\n",
    "        user_input = input(\"\"\"\n",
    "                              Hello, how would you like to proceed?\n",
    "                              1. Enter 1 to create pin\n",
    "                              2. Enter 2 to deposit\n",
    "                              3. Enter 3 to withdraw\n",
    "                              4. Enter 4 to check balance\n",
    "                              5. Enter 5 to exit\n",
    "                              \"\"\")\n",
    "        if user_input == '1':\n",
    "            self.create_pin()\n",
    "        elif user_input == '2':\n",
    "            self.deposit()\n",
    "        elif user_input == '3':\n",
    "            self.withdraw()\n",
    "        elif user_input == '4':\n",
    "            self.check_balance()\n",
    "        else:\n",
    "            print('Bye, Thank you')\n",
    "            \n",
    "    def create_pin(self):\n",
    "        self.__pin = input('Enter your pin')\n",
    "        print('pin created sucessfully')\n",
    "        \n",
    "    def deposit(self):\n",
    "        temp = input('Enter your pin')\n",
    "        if temp == self.__pin:\n",
    "            amount = int(input(\"Enter the amount\"))\n",
    "            self.__balance += amount\n",
    "            print('Deposit sucessful')\n",
    "            \n",
    "        else:\n",
    "            print('Invalid pin')\n",
    "            \n",
    "    def withdraw(self):\n",
    "        temp = input('Enter your pin')\n",
    "        if temp == self.__pin:\n",
    "            amount = int(input(\"Enter the amount\"))\n",
    "            if amount < self.__balance:\n",
    "                self.__balance -= amount\n",
    "                print('withdraw sucessful')\n",
    "            else:\n",
    "                print('Insufficient funds')\n",
    "        else:\n",
    "            print('Invalid pin')\n",
    "            \n",
    "    def check_balance(self):\n",
    "        temp = input('Enter your pin')\n",
    "        if temp == self.__pin:\n",
    "            print(self.__balance)\n",
    "            \n",
    "        else:\n",
    "            print('Invalid pin')"
   ]
  },
  {
   "cell_type": "code",
   "execution_count": 7,
   "id": "b7681a08",
   "metadata": {},
   "outputs": [
    {
     "name": "stdout",
     "output_type": "stream",
     "text": [
      "\n",
      "                              Hello, how would you like to proceed?\n",
      "                              1. Enter 1 to create pin\n",
      "                              2. Enter 2 to deposit\n",
      "                              3. Enter 3 to withdraw\n",
      "                              4. Enter 4 to check balance\n",
      "                              5. Enter 5 to exit\n",
      "                              1\n",
      "Enter your pin1234\n",
      "pin created sucessfully\n"
     ]
    }
   ],
   "source": [
    "axis = Atm()"
   ]
  },
  {
   "cell_type": "code",
   "execution_count": 8,
   "id": "e6c794de",
   "metadata": {},
   "outputs": [
    {
     "name": "stdout",
     "output_type": "stream",
     "text": [
      "Not allowed\n"
     ]
    }
   ],
   "source": [
    "axis.set_pin(9.0)"
   ]
  },
  {
   "cell_type": "code",
   "execution_count": 9,
   "id": "9e6d93fe",
   "metadata": {},
   "outputs": [
    {
     "name": "stdout",
     "output_type": "stream",
     "text": [
      "Pin changed\n"
     ]
    }
   ],
   "source": [
    "axis.set_pin('2345')"
   ]
  },
  {
   "cell_type": "code",
   "execution_count": 76,
   "id": "bda52f8a",
   "metadata": {},
   "outputs": [
    {
     "name": "stdout",
     "output_type": "stream",
     "text": [
      "Enter your pin3456\n",
      "34567\n"
     ]
    }
   ],
   "source": [
    "axis.check_balance()"
   ]
  },
  {
   "cell_type": "code",
   "execution_count": 75,
   "id": "b712cf71",
   "metadata": {},
   "outputs": [
    {
     "name": "stdout",
     "output_type": "stream",
     "text": [
      "Enter your pin3456\n",
      "Enter the amount34567\n",
      "Deposit sucessful\n"
     ]
    }
   ],
   "source": [
    "axis.deposit()"
   ]
  },
  {
   "cell_type": "code",
   "execution_count": 77,
   "id": "f192613b",
   "metadata": {},
   "outputs": [
    {
     "name": "stdout",
     "output_type": "stream",
     "text": [
      "Enter your pin3456\n",
      "Enter the amount3000\n",
      "withdraw sucessful\n"
     ]
    }
   ],
   "source": [
    "axis.withdraw()"
   ]
  },
  {
   "cell_type": "code",
   "execution_count": 78,
   "id": "585806fd",
   "metadata": {},
   "outputs": [],
   "source": [
    "axis.__=\"asdf\""
   ]
  },
  {
   "cell_type": "code",
   "execution_count": 79,
   "id": "fca2a0cf",
   "metadata": {},
   "outputs": [
    {
     "name": "stdout",
     "output_type": "stream",
     "text": [
      "Enter your pin3456\n",
      "Enter the amount500000\n",
      "Deposit sucessful\n"
     ]
    }
   ],
   "source": [
    "axis.deposit()"
   ]
  },
  {
   "cell_type": "code",
   "execution_count": 80,
   "id": "7e872636",
   "metadata": {},
   "outputs": [
    {
     "name": "stdout",
     "output_type": "stream",
     "text": [
      "Enter your pin3456\n",
      "531567\n"
     ]
    }
   ],
   "source": [
    "axis.check_balance()"
   ]
  },
  {
   "cell_type": "code",
   "execution_count": 85,
   "id": "40871213",
   "metadata": {},
   "outputs": [],
   "source": [
    "axis._Atm__balance = \"asdf\""
   ]
  },
  {
   "cell_type": "code",
   "execution_count": 86,
   "id": "c9b5f245",
   "metadata": {},
   "outputs": [
    {
     "name": "stdout",
     "output_type": "stream",
     "text": [
      "Enter your pin3456\n",
      "Enter the amount45\n"
     ]
    },
    {
     "ename": "TypeError",
     "evalue": "can only concatenate str (not \"int\") to str",
     "output_type": "error",
     "traceback": [
      "\u001b[1;31m---------------------------------------------------------------------------\u001b[0m",
      "\u001b[1;31mTypeError\u001b[0m                                 Traceback (most recent call last)",
      "Input \u001b[1;32mIn [86]\u001b[0m, in \u001b[0;36m<cell line: 1>\u001b[1;34m()\u001b[0m\n\u001b[1;32m----> 1\u001b[0m \u001b[43maxis\u001b[49m\u001b[38;5;241;43m.\u001b[39;49m\u001b[43mdeposit\u001b[49m\u001b[43m(\u001b[49m\u001b[43m)\u001b[49m\n",
      "Input \u001b[1;32mIn [71]\u001b[0m, in \u001b[0;36mAtm.deposit\u001b[1;34m(self)\u001b[0m\n\u001b[0;32m     40\u001b[0m \u001b[38;5;28;01mif\u001b[39;00m temp \u001b[38;5;241m==\u001b[39m \u001b[38;5;28mself\u001b[39m\u001b[38;5;241m.\u001b[39m__pin:\n\u001b[0;32m     41\u001b[0m     amount \u001b[38;5;241m=\u001b[39m \u001b[38;5;28mint\u001b[39m(\u001b[38;5;28minput\u001b[39m(\u001b[38;5;124m\"\u001b[39m\u001b[38;5;124mEnter the amount\u001b[39m\u001b[38;5;124m\"\u001b[39m))\n\u001b[1;32m---> 42\u001b[0m     \u001b[38;5;28mself\u001b[39m\u001b[38;5;241m.\u001b[39m__balance \u001b[38;5;241m+\u001b[39m\u001b[38;5;241m=\u001b[39m amount\n\u001b[0;32m     43\u001b[0m     \u001b[38;5;28mprint\u001b[39m(\u001b[38;5;124m'\u001b[39m\u001b[38;5;124mDeposit sucessful\u001b[39m\u001b[38;5;124m'\u001b[39m)\n\u001b[0;32m     45\u001b[0m \u001b[38;5;28;01melse\u001b[39;00m:\n",
      "\u001b[1;31mTypeError\u001b[0m: can only concatenate str (not \"int\") to str"
     ]
    }
   ],
   "source": [
    "axis.deposit()"
   ]
  },
  {
   "cell_type": "code",
   "execution_count": 87,
   "id": "e2624320",
   "metadata": {},
   "outputs": [
    {
     "name": "stdout",
     "output_type": "stream",
     "text": [
      "Enter your pin3456\n",
      "asdf\n"
     ]
    }
   ],
   "source": [
    "axis.check_balance()"
   ]
  },
  {
   "cell_type": "markdown",
   "id": "19d6db12",
   "metadata": {},
   "source": [
    "#### Nothing in python truely private because python is turely for adualt"
   ]
  },
  {
   "cell_type": "code",
   "execution_count": 91,
   "id": "e5268c6d",
   "metadata": {},
   "outputs": [
    {
     "name": "stdout",
     "output_type": "stream",
     "text": [
      "\n",
      "                              Hello, how would you like to proceed?\n",
      "                              1. Enter 1 to create pin\n",
      "                              2. Enter 2 to deposit\n",
      "                              3. Enter 3 to withdraw\n",
      "                              4. Enter 4 to check balance\n",
      "                              5. Enter 5 to exit\n",
      "                              1\n",
      "Enter your pin4567\n",
      "pin created sucessfully\n"
     ]
    }
   ],
   "source": [
    "uco = Atm()"
   ]
  },
  {
   "cell_type": "code",
   "execution_count": 93,
   "id": "4c1a8a4c",
   "metadata": {},
   "outputs": [
    {
     "data": {
      "text/plain": [
       "'4567'"
      ]
     },
     "execution_count": 93,
     "metadata": {},
     "output_type": "execute_result"
    }
   ],
   "source": [
    "uco.get_pin()"
   ]
  },
  {
   "cell_type": "code",
   "execution_count": 95,
   "id": "05e41546",
   "metadata": {},
   "outputs": [
    {
     "name": "stdout",
     "output_type": "stream",
     "text": [
      "Pin changed\n"
     ]
    }
   ],
   "source": [
    "uco.set_pin('1234')"
   ]
  },
  {
   "cell_type": "code",
   "execution_count": 96,
   "id": "e7471fcd",
   "metadata": {},
   "outputs": [
    {
     "name": "stdout",
     "output_type": "stream",
     "text": [
      "Pin changed\n"
     ]
    }
   ],
   "source": [
    "uco.set_pin(5.6)"
   ]
  },
  {
   "cell_type": "code",
   "execution_count": 97,
   "id": "6bbb2e93",
   "metadata": {},
   "outputs": [
    {
     "data": {
      "text/plain": [
       "5.6"
      ]
     },
     "execution_count": 97,
     "metadata": {},
     "output_type": "execute_result"
    }
   ],
   "source": [
    "uco.get_pin()"
   ]
  },
  {
   "cell_type": "code",
   "execution_count": 10,
   "id": "4f587f58",
   "metadata": {},
   "outputs": [],
   "source": [
    "# reference variable"
   ]
  },
  {
   "cell_type": "code",
   "execution_count": 11,
   "id": "544525de",
   "metadata": {},
   "outputs": [
    {
     "name": "stdout",
     "output_type": "stream",
     "text": [
      "\n",
      "                              Hello, how would you like to proceed?\n",
      "                              1. Enter 1 to create pin\n",
      "                              2. Enter 2 to deposit\n",
      "                              3. Enter 3 to withdraw\n",
      "                              4. Enter 4 to check balance\n",
      "                              5. Enter 5 to exit\n",
      "                              1\n",
      "Enter your pin1234\n",
      "pin created sucessfully\n"
     ]
    },
    {
     "data": {
      "text/plain": [
       "<__main__.Atm at 0x249b4fe9310>"
      ]
     },
     "execution_count": 11,
     "metadata": {},
     "output_type": "execute_result"
    }
   ],
   "source": [
    "Atm()"
   ]
  },
  {
   "cell_type": "code",
   "execution_count": 23,
   "id": "b013f066",
   "metadata": {},
   "outputs": [
    {
     "name": "stdout",
     "output_type": "stream",
     "text": [
      "Nihar\n"
     ]
    }
   ],
   "source": [
    "class Customer:\n",
    "    \n",
    "    def __init__(self,name,gender):\n",
    "        self.name = name       \n",
    "        self.gender = gender\n",
    "cust = Customer('Nihar','Male')\n",
    "cust1 = Customer('karisma','Female')\n",
    "print(cust.name)"
   ]
  },
  {
   "cell_type": "code",
   "execution_count": 29,
   "id": "480f9108",
   "metadata": {},
   "outputs": [],
   "source": [
    "def greet(customer):\n",
    "    if customer.gender == 'Male':\n",
    "        print('Hello',customer.name,'Sir')\n",
    "    else:\n",
    "        print('Hello',customer.name,'Mam')\n",
    "        \n",
    "    cust2 = Customer('Ranjan', 'Male')\n",
    "    \n",
    "    return cust2"
   ]
  },
  {
   "cell_type": "code",
   "execution_count": 25,
   "id": "07da2dac",
   "metadata": {},
   "outputs": [
    {
     "name": "stdout",
     "output_type": "stream",
     "text": [
      "Hello karisma Mam\n"
     ]
    }
   ],
   "source": [
    "greet(cust1)"
   ]
  },
  {
   "cell_type": "code",
   "execution_count": 26,
   "id": "f572ac10",
   "metadata": {},
   "outputs": [
    {
     "name": "stdout",
     "output_type": "stream",
     "text": [
      "Hello Nihar Sir\n"
     ]
    }
   ],
   "source": [
    "greet(cust)"
   ]
  },
  {
   "cell_type": "code",
   "execution_count": 31,
   "id": "2adc860a",
   "metadata": {},
   "outputs": [
    {
     "name": "stdout",
     "output_type": "stream",
     "text": [
      "Hello Nihar Sir\n"
     ]
    }
   ],
   "source": [
    "new_cust = greet(cust)"
   ]
  },
  {
   "cell_type": "code",
   "execution_count": 32,
   "id": "1451b2e0",
   "metadata": {},
   "outputs": [
    {
     "data": {
      "text/plain": [
       "'Ranjan'"
      ]
     },
     "execution_count": 32,
     "metadata": {},
     "output_type": "execute_result"
    }
   ],
   "source": [
    "new_cust.name"
   ]
  },
  {
   "cell_type": "code",
   "execution_count": null,
   "id": "2fd36900",
   "metadata": {},
   "outputs": [],
   "source": []
  }
 ],
 "metadata": {
  "kernelspec": {
   "display_name": "Python 3 (ipykernel)",
   "language": "python",
   "name": "python3"
  },
  "language_info": {
   "codemirror_mode": {
    "name": "ipython",
    "version": 3
   },
   "file_extension": ".py",
   "mimetype": "text/x-python",
   "name": "python",
   "nbconvert_exporter": "python",
   "pygments_lexer": "ipython3",
   "version": "3.9.12"
  }
 },
 "nbformat": 4,
 "nbformat_minor": 5
}
