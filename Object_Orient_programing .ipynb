{
 "cells": [
  {
   "cell_type": "code",
   "execution_count": 1,
   "id": "5aa32eba",
   "metadata": {},
   "outputs": [
    {
     "ename": "AttributeError",
     "evalue": "'list' object has no attribute 'upper'",
     "output_type": "error",
     "traceback": [
      "\u001b[1;31m---------------------------------------------------------------------------\u001b[0m",
      "\u001b[1;31mAttributeError\u001b[0m                            Traceback (most recent call last)",
      "Input \u001b[1;32mIn [1]\u001b[0m, in \u001b[0;36m<cell line: 2>\u001b[1;34m()\u001b[0m\n\u001b[0;32m      1\u001b[0m L \u001b[38;5;241m=\u001b[39m [\u001b[38;5;241m1\u001b[39m,\u001b[38;5;241m2\u001b[39m,\u001b[38;5;241m3\u001b[39m]\n\u001b[1;32m----> 2\u001b[0m \u001b[43mL\u001b[49m\u001b[38;5;241;43m.\u001b[39;49m\u001b[43mupper\u001b[49m()\n",
      "\u001b[1;31mAttributeError\u001b[0m: 'list' object has no attribute 'upper'"
     ]
    }
   ],
   "source": [
    "L = [1,2,3]\n",
    "L.upper()"
   ]
  },
  {
   "cell_type": "code",
   "execution_count": 2,
   "id": "66257db6",
   "metadata": {},
   "outputs": [
    {
     "ename": "AttributeError",
     "evalue": "'str' object has no attribute 'append'",
     "output_type": "error",
     "traceback": [
      "\u001b[1;31m---------------------------------------------------------------------------\u001b[0m",
      "\u001b[1;31mAttributeError\u001b[0m                            Traceback (most recent call last)",
      "Input \u001b[1;32mIn [2]\u001b[0m, in \u001b[0;36m<cell line: 2>\u001b[1;34m()\u001b[0m\n\u001b[0;32m      1\u001b[0m city \u001b[38;5;241m=\u001b[39m \u001b[38;5;124m'\u001b[39m\u001b[38;5;124mKolkata\u001b[39m\u001b[38;5;124m'\u001b[39m\n\u001b[1;32m----> 2\u001b[0m \u001b[43mcity\u001b[49m\u001b[38;5;241;43m.\u001b[39;49m\u001b[43mappend\u001b[49m(\u001b[38;5;124m'\u001b[39m\u001b[38;5;124ma\u001b[39m\u001b[38;5;124m'\u001b[39m)\n",
      "\u001b[1;31mAttributeError\u001b[0m: 'str' object has no attribute 'append'"
     ]
    }
   ],
   "source": [
    "city = 'Kolkata'\n",
    "city.append('a')"
   ]
  },
  {
   "cell_type": "markdown",
   "id": "8d0e5b4a",
   "metadata": {},
   "source": [
    "# Class\n",
    "Class is a blueprint"
   ]
  },
  {
   "cell_type": "code",
   "execution_count": 3,
   "id": "f2f3d94f",
   "metadata": {},
   "outputs": [
    {
     "name": "stdout",
     "output_type": "stream",
     "text": [
      "<class 'int'>\n"
     ]
    }
   ],
   "source": [
    "a = 2\n",
    "print(type(a))"
   ]
  },
  {
   "cell_type": "markdown",
   "id": "b19288e3",
   "metadata": {},
   "source": [
    "Class - \n",
    "- Data or Property or attribute\n",
    "- Functions or behavior or method"
   ]
  },
  {
   "cell_type": "markdown",
   "id": "82dec31c",
   "metadata": {},
   "source": [
    "Class name should be pascal Case\n",
    "- example - ThisIsPascalCase\n",
    "\n",
    "Variable or function name\n",
    "\n",
    "- example - snake_case\n",
    "\n",
    "#### Functions Vs Methods\n",
    "##### Methods special case of function which are built with in a class\n",
    "    "
   ]
  },
  {
   "cell_type": "code",
   "execution_count": 4,
   "id": "636476a2",
   "metadata": {},
   "outputs": [],
   "source": [
    "class Atm:\n",
    "    \n",
    "    # Constructor : Special method where its inside code read automatically when we call this class\n",
    "    # special/magic/dunder methods\n",
    "    \n",
    "    # instance variable\n",
    "    \n",
    "    def __init__(self):\n",
    "        self.pin = \"\"\n",
    "        self.balance = 0\n",
    "        \n",
    "        self.menu()\n",
    "        \n",
    "    def menu(self):\n",
    "        user_input = input(\"\"\"\n",
    "                              Hello, how would you like to proceed?\n",
    "                              1. Enter 1 to create pin\n",
    "                              2. Enter 2 to deposit\n",
    "                              3. Enter 3 to withdraw\n",
    "                              4. Enter 4 to check balance\n",
    "                              5. Enter 5 to exit\n",
    "                              \"\"\")\n",
    "        if user_input == '1':\n",
    "            self.create_pin()\n",
    "        elif user_input == '2':\n",
    "            self.deposit()\n",
    "        elif user_input == '3':\n",
    "            self.withdraw()\n",
    "        elif user_input == '4':\n",
    "            self.check_balance()\n",
    "        else:\n",
    "            print('Bye, Thank you')\n",
    "            \n",
    "    def create_pin(self):\n",
    "        self.pin = input('Enter your pin')\n",
    "        print('pin created sucessfully')\n",
    "        \n",
    "    def deposit(self):\n",
    "        temp = input('Enter your pin')\n",
    "        if temp == self.pin:\n",
    "            amount = int(input(\"Enter the amount\"))\n",
    "            self.balance += amount\n",
    "            print('Deposit sucessful')\n",
    "            \n",
    "        else:\n",
    "            print('Invalid pin')\n",
    "            \n",
    "    def withdraw(self):\n",
    "        temp = input('Enter your pin')\n",
    "        if temp == self.pin:\n",
    "            amount = int(input(\"Enter the amount\"))\n",
    "            if amount < self.balance:\n",
    "                self.balance -= amount\n",
    "                print('withdraw sucessful')\n",
    "            else:\n",
    "                print('Insufficient funds')\n",
    "        else:\n",
    "            print('Invalid pin')\n",
    "            \n",
    "    def check_balance(self):\n",
    "        temp = input('Enter your pin')\n",
    "        if temp == self.pin:\n",
    "            print(self.balance)\n",
    "            \n",
    "        else:\n",
    "            print('Invalid pin')"
   ]
  },
  {
   "cell_type": "code",
   "execution_count": 5,
   "id": "f5108f18",
   "metadata": {},
   "outputs": [
    {
     "name": "stdout",
     "output_type": "stream",
     "text": [
      "\n",
      "                              Hello, how would you like to proceed?\n",
      "                              1. Enter 1 to create pin\n",
      "                              2. Enter 2 to deposit\n",
      "                              3. Enter 3 to withdraw\n",
      "                              4. Enter 4 to check balance\n",
      "                              5. Enter 5 to exit\n",
      "                              1\n",
      "Enter your pin1234\n",
      "pin created sucessfully\n"
     ]
    }
   ],
   "source": [
    "sbi = Atm()"
   ]
  },
  {
   "cell_type": "code",
   "execution_count": 6,
   "id": "bff4a7a3",
   "metadata": {},
   "outputs": [
    {
     "name": "stdout",
     "output_type": "stream",
     "text": [
      "Enter your pin1234\n",
      "Enter the amount235000\n",
      "Deposit sucessful\n"
     ]
    }
   ],
   "source": [
    "sbi.deposit()"
   ]
  },
  {
   "cell_type": "code",
   "execution_count": 7,
   "id": "c1e4b942",
   "metadata": {},
   "outputs": [
    {
     "name": "stdout",
     "output_type": "stream",
     "text": [
      "Enter your pin1234\n",
      "235000\n"
     ]
    }
   ],
   "source": [
    "sbi.check_balance()"
   ]
  },
  {
   "cell_type": "code",
   "execution_count": 9,
   "id": "11e4254a",
   "metadata": {},
   "outputs": [
    {
     "name": "stdout",
     "output_type": "stream",
     "text": [
      "Enter your pin1234\n",
      "Enter the amount23456\n",
      "withdraw sucessful\n"
     ]
    }
   ],
   "source": [
    "sbi.withdraw()"
   ]
  },
  {
   "cell_type": "code",
   "execution_count": 10,
   "id": "c1d1abc2",
   "metadata": {},
   "outputs": [
    {
     "name": "stdout",
     "output_type": "stream",
     "text": [
      "\n",
      "                              Hello, how would you like to proceed?\n",
      "                              1. Enter 1 to create pin\n",
      "                              2. Enter 2 to deposit\n",
      "                              3. Enter 3 to withdraw\n",
      "                              4. Enter 4 to check balance\n",
      "                              5. Enter 5 to exit\n",
      "                              1\n",
      "Enter your pin2345\n",
      "pin created sucessfully\n"
     ]
    }
   ],
   "source": [
    "hdfc = Atm()"
   ]
  },
  {
   "cell_type": "code",
   "execution_count": 12,
   "id": "af5f3f60",
   "metadata": {},
   "outputs": [
    {
     "name": "stdout",
     "output_type": "stream",
     "text": [
      "Enter your pin2345\n",
      "Enter the amount3459000\n",
      "Deposit sucessful\n"
     ]
    }
   ],
   "source": [
    "hdfc.deposit()"
   ]
  },
  {
   "cell_type": "code",
   "execution_count": 13,
   "id": "97bcfd35",
   "metadata": {},
   "outputs": [
    {
     "name": "stdout",
     "output_type": "stream",
     "text": [
      "Enter your pin2345\n",
      "3459000\n"
     ]
    }
   ],
   "source": [
    "hdfc.check_balance()"
   ]
  },
  {
   "cell_type": "code",
   "execution_count": 15,
   "id": "9e52a2e4",
   "metadata": {},
   "outputs": [
    {
     "name": "stdout",
     "output_type": "stream",
     "text": [
      "Enter your pin1234\n",
      "211544\n"
     ]
    }
   ],
   "source": [
    "sbi.check_balance()"
   ]
  },
  {
   "cell_type": "code",
   "execution_count": 16,
   "id": "83fc5b40",
   "metadata": {},
   "outputs": [
    {
     "data": {
      "text/plain": [
       "211544"
      ]
     },
     "execution_count": 16,
     "metadata": {},
     "output_type": "execute_result"
    }
   ],
   "source": [
    "sbi.balance"
   ]
  },
  {
   "cell_type": "code",
   "execution_count": 17,
   "id": "c016b41e",
   "metadata": {},
   "outputs": [
    {
     "data": {
      "text/plain": [
       "3459000"
      ]
     },
     "execution_count": 17,
     "metadata": {},
     "output_type": "execute_result"
    }
   ],
   "source": [
    "hdfc.balance"
   ]
  },
  {
   "cell_type": "code",
   "execution_count": 48,
   "id": "7c68ee70",
   "metadata": {},
   "outputs": [],
   "source": [
    "class Fraction:\n",
    "    \n",
    "    def __init__(self,n,d):\n",
    "        self.num = n\n",
    "        self.den = d\n",
    "        \n",
    "    def __str__(self):\n",
    "        return \"{}/{}\".format(self.num,self.den)\n",
    "    \n",
    "    def __add__(self,other):\n",
    "        temp_num = self.num*other.den + other.num*self.den\n",
    "        temp_den = self.den * other.den\n",
    "        \n",
    "        return \"{}/{}\".format(temp_num,temp_den)\n",
    "    def __sub__(self,other):\n",
    "        temp_num = self.num*other.den - other.num*self.den\n",
    "        temp_den = self.den * other.den\n",
    "        \n",
    "        return \"{}/{}\".format(temp_num,temp_den)\n",
    "    def __mul__(self,other):\n",
    "        temp_num = self.num*other.num\n",
    "        temp_den = self.den * other.den\n",
    "        \n",
    "        return \"{}/{}\".format(temp_num,temp_den)\n",
    "    def __truediv__(self,other):\n",
    "        temp_num = self.num*other.den\n",
    "        temp_den = self.den * other.num\n",
    "        \n",
    "        return \"{}/{}\".format(temp_num,temp_den)"
   ]
  },
  {
   "cell_type": "code",
   "execution_count": 49,
   "id": "fc06953c",
   "metadata": {},
   "outputs": [],
   "source": [
    "x = Fraction(4,3)"
   ]
  },
  {
   "cell_type": "code",
   "execution_count": 50,
   "id": "72073a87",
   "metadata": {},
   "outputs": [
    {
     "name": "stdout",
     "output_type": "stream",
     "text": [
      "4/3\n"
     ]
    }
   ],
   "source": [
    "print(x)"
   ]
  },
  {
   "cell_type": "code",
   "execution_count": 51,
   "id": "c6da6075",
   "metadata": {},
   "outputs": [
    {
     "data": {
      "text/plain": [
       "__main__.Fraction"
      ]
     },
     "execution_count": 51,
     "metadata": {},
     "output_type": "execute_result"
    }
   ],
   "source": [
    "type(x)"
   ]
  },
  {
   "cell_type": "code",
   "execution_count": 52,
   "id": "b53fd08a",
   "metadata": {},
   "outputs": [
    {
     "name": "stdout",
     "output_type": "stream",
     "text": [
      "9/8\n"
     ]
    }
   ],
   "source": [
    "y = Fraction(9,8)\n",
    "print(y)"
   ]
  },
  {
   "cell_type": "code",
   "execution_count": 53,
   "id": "f60fab22",
   "metadata": {},
   "outputs": [
    {
     "name": "stdout",
     "output_type": "stream",
     "text": [
      "59/24\n"
     ]
    }
   ],
   "source": [
    "print(x+y)"
   ]
  },
  {
   "cell_type": "markdown",
   "id": "68f94560",
   "metadata": {},
   "source": [
    "for same we have to check set datatype"
   ]
  },
  {
   "cell_type": "code",
   "execution_count": 54,
   "id": "32d95978",
   "metadata": {},
   "outputs": [
    {
     "name": "stdout",
     "output_type": "stream",
     "text": [
      "5/24\n"
     ]
    }
   ],
   "source": [
    "print(x-y)"
   ]
  },
  {
   "cell_type": "code",
   "execution_count": 55,
   "id": "cfc2dd38",
   "metadata": {},
   "outputs": [
    {
     "name": "stdout",
     "output_type": "stream",
     "text": [
      "36/24\n"
     ]
    }
   ],
   "source": [
    "print(x*y)"
   ]
  },
  {
   "cell_type": "code",
   "execution_count": 56,
   "id": "07588c9c",
   "metadata": {},
   "outputs": [
    {
     "name": "stdout",
     "output_type": "stream",
     "text": [
      "32/27\n"
     ]
    }
   ],
   "source": [
    "print(x/y)"
   ]
  },
  {
   "cell_type": "markdown",
   "id": "7fbd1141",
   "metadata": {},
   "source": [
    "## Encapsulation"
   ]
  },
  {
   "cell_type": "code",
   "execution_count": 57,
   "id": "1f9c6e33",
   "metadata": {},
   "outputs": [
    {
     "data": {
      "text/plain": [
       "'1234'"
      ]
     },
     "execution_count": 57,
     "metadata": {},
     "output_type": "execute_result"
    }
   ],
   "source": [
    "sbi.pin"
   ]
  },
  {
   "cell_type": "code",
   "execution_count": 58,
   "id": "b2bc72ff",
   "metadata": {},
   "outputs": [],
   "source": [
    "# problame any body can access my variable in my class"
   ]
  },
  {
   "cell_type": "code",
   "execution_count": 59,
   "id": "0910ae18",
   "metadata": {},
   "outputs": [],
   "source": [
    "sbi.balance =\"1234\""
   ]
  },
  {
   "cell_type": "code",
   "execution_count": 60,
   "id": "2efd6109",
   "metadata": {},
   "outputs": [
    {
     "data": {
      "text/plain": [
       "'1234'"
      ]
     },
     "execution_count": 60,
     "metadata": {},
     "output_type": "execute_result"
    }
   ],
   "source": [
    "sbi.balance"
   ]
  },
  {
   "cell_type": "code",
   "execution_count": 5,
   "id": "f39bf0a9",
   "metadata": {},
   "outputs": [],
   "source": [
    "class Atm:\n",
    "    \n",
    "    # Constructor : Special method where its inside code read automatically when we call this class\n",
    "    # special/magic/dunder methods\n",
    "    \n",
    "    # instance variable\n",
    "    \n",
    "    def __init__(self):\n",
    "        self.__pin = \"\"\n",
    "        self.__balance = 0\n",
    "        \n",
    "        self.__menu()\n",
    "        \n",
    "    def get_pin(self):\n",
    "        return self.__pin\n",
    "    \n",
    "    def set_pin(self,new_pin):\n",
    "        if type(new_pin) == str:\n",
    "            self.__pin = new_pin\n",
    "            print('Pin changed')\n",
    "        else: \n",
    "            print('Not allowed')\n",
    "    \n",
    "    def __menu(self):\n",
    "        user_input = input(\"\"\"\n",
    "                              Hello, how would you like to proceed?\n",
    "                              1. Enter 1 to create pin\n",
    "                              2. Enter 2 to deposit\n",
    "                              3. Enter 3 to withdraw\n",
    "                              4. Enter 4 to check balance\n",
    "                              5. Enter 5 to exit\n",
    "                              \"\"\")\n",
    "        if user_input == '1':\n",
    "            self.create_pin()\n",
    "        elif user_input == '2':\n",
    "            self.deposit()\n",
    "        elif user_input == '3':\n",
    "            self.withdraw()\n",
    "        elif user_input == '4':\n",
    "            self.check_balance()\n",
    "        else:\n",
    "            print('Bye, Thank you')\n",
    "            \n",
    "    def create_pin(self):\n",
    "        self.__pin = input('Enter your pin')\n",
    "        print('pin created sucessfully')\n",
    "        \n",
    "    def deposit(self):\n",
    "        temp = input('Enter your pin')\n",
    "        if temp == self.__pin:\n",
    "            amount = int(input(\"Enter the amount\"))\n",
    "            self.__balance += amount\n",
    "            print('Deposit sucessful')\n",
    "            \n",
    "        else:\n",
    "            print('Invalid pin')\n",
    "            \n",
    "    def withdraw(self):\n",
    "        temp = input('Enter your pin')\n",
    "        if temp == self.__pin:\n",
    "            amount = int(input(\"Enter the amount\"))\n",
    "            if amount < self.__balance:\n",
    "                self.__balance -= amount\n",
    "                print('withdraw sucessful')\n",
    "            else:\n",
    "                print('Insufficient funds')\n",
    "        else:\n",
    "            print('Invalid pin')\n",
    "            \n",
    "    def check_balance(self):\n",
    "        temp = input('Enter your pin')\n",
    "        if temp == self.__pin:\n",
    "            print(self.__balance)\n",
    "            \n",
    "        else:\n",
    "            print('Invalid pin')"
   ]
  },
  {
   "cell_type": "code",
   "execution_count": 7,
   "id": "b7681a08",
   "metadata": {},
   "outputs": [
    {
     "name": "stdout",
     "output_type": "stream",
     "text": [
      "\n",
      "                              Hello, how would you like to proceed?\n",
      "                              1. Enter 1 to create pin\n",
      "                              2. Enter 2 to deposit\n",
      "                              3. Enter 3 to withdraw\n",
      "                              4. Enter 4 to check balance\n",
      "                              5. Enter 5 to exit\n",
      "                              1\n",
      "Enter your pin1234\n",
      "pin created sucessfully\n"
     ]
    }
   ],
   "source": [
    "axis = Atm()"
   ]
  },
  {
   "cell_type": "code",
   "execution_count": 8,
   "id": "e6c794de",
   "metadata": {},
   "outputs": [
    {
     "name": "stdout",
     "output_type": "stream",
     "text": [
      "Not allowed\n"
     ]
    }
   ],
   "source": [
    "axis.set_pin(9.0)"
   ]
  },
  {
   "cell_type": "code",
   "execution_count": 9,
   "id": "9e6d93fe",
   "metadata": {},
   "outputs": [
    {
     "name": "stdout",
     "output_type": "stream",
     "text": [
      "Pin changed\n"
     ]
    }
   ],
   "source": [
    "axis.set_pin('2345')"
   ]
  },
  {
   "cell_type": "code",
   "execution_count": 76,
   "id": "bda52f8a",
   "metadata": {},
   "outputs": [
    {
     "name": "stdout",
     "output_type": "stream",
     "text": [
      "Enter your pin3456\n",
      "34567\n"
     ]
    }
   ],
   "source": [
    "axis.check_balance()"
   ]
  },
  {
   "cell_type": "code",
   "execution_count": 75,
   "id": "b712cf71",
   "metadata": {},
   "outputs": [
    {
     "name": "stdout",
     "output_type": "stream",
     "text": [
      "Enter your pin3456\n",
      "Enter the amount34567\n",
      "Deposit sucessful\n"
     ]
    }
   ],
   "source": [
    "axis.deposit()"
   ]
  },
  {
   "cell_type": "code",
   "execution_count": 77,
   "id": "f192613b",
   "metadata": {},
   "outputs": [
    {
     "name": "stdout",
     "output_type": "stream",
     "text": [
      "Enter your pin3456\n",
      "Enter the amount3000\n",
      "withdraw sucessful\n"
     ]
    }
   ],
   "source": [
    "axis.withdraw()"
   ]
  },
  {
   "cell_type": "code",
   "execution_count": 78,
   "id": "585806fd",
   "metadata": {},
   "outputs": [],
   "source": [
    "axis.__=\"asdf\""
   ]
  },
  {
   "cell_type": "code",
   "execution_count": 79,
   "id": "fca2a0cf",
   "metadata": {},
   "outputs": [
    {
     "name": "stdout",
     "output_type": "stream",
     "text": [
      "Enter your pin3456\n",
      "Enter the amount500000\n",
      "Deposit sucessful\n"
     ]
    }
   ],
   "source": [
    "axis.deposit()"
   ]
  },
  {
   "cell_type": "code",
   "execution_count": 80,
   "id": "7e872636",
   "metadata": {},
   "outputs": [
    {
     "name": "stdout",
     "output_type": "stream",
     "text": [
      "Enter your pin3456\n",
      "531567\n"
     ]
    }
   ],
   "source": [
    "axis.check_balance()"
   ]
  },
  {
   "cell_type": "code",
   "execution_count": 85,
   "id": "40871213",
   "metadata": {},
   "outputs": [],
   "source": [
    "axis._Atm__balance = \"asdf\""
   ]
  },
  {
   "cell_type": "code",
   "execution_count": 86,
   "id": "c9b5f245",
   "metadata": {},
   "outputs": [
    {
     "name": "stdout",
     "output_type": "stream",
     "text": [
      "Enter your pin3456\n",
      "Enter the amount45\n"
     ]
    },
    {
     "ename": "TypeError",
     "evalue": "can only concatenate str (not \"int\") to str",
     "output_type": "error",
     "traceback": [
      "\u001b[1;31m---------------------------------------------------------------------------\u001b[0m",
      "\u001b[1;31mTypeError\u001b[0m                                 Traceback (most recent call last)",
      "Input \u001b[1;32mIn [86]\u001b[0m, in \u001b[0;36m<cell line: 1>\u001b[1;34m()\u001b[0m\n\u001b[1;32m----> 1\u001b[0m \u001b[43maxis\u001b[49m\u001b[38;5;241;43m.\u001b[39;49m\u001b[43mdeposit\u001b[49m\u001b[43m(\u001b[49m\u001b[43m)\u001b[49m\n",
      "Input \u001b[1;32mIn [71]\u001b[0m, in \u001b[0;36mAtm.deposit\u001b[1;34m(self)\u001b[0m\n\u001b[0;32m     40\u001b[0m \u001b[38;5;28;01mif\u001b[39;00m temp \u001b[38;5;241m==\u001b[39m \u001b[38;5;28mself\u001b[39m\u001b[38;5;241m.\u001b[39m__pin:\n\u001b[0;32m     41\u001b[0m     amount \u001b[38;5;241m=\u001b[39m \u001b[38;5;28mint\u001b[39m(\u001b[38;5;28minput\u001b[39m(\u001b[38;5;124m\"\u001b[39m\u001b[38;5;124mEnter the amount\u001b[39m\u001b[38;5;124m\"\u001b[39m))\n\u001b[1;32m---> 42\u001b[0m     \u001b[38;5;28mself\u001b[39m\u001b[38;5;241m.\u001b[39m__balance \u001b[38;5;241m+\u001b[39m\u001b[38;5;241m=\u001b[39m amount\n\u001b[0;32m     43\u001b[0m     \u001b[38;5;28mprint\u001b[39m(\u001b[38;5;124m'\u001b[39m\u001b[38;5;124mDeposit sucessful\u001b[39m\u001b[38;5;124m'\u001b[39m)\n\u001b[0;32m     45\u001b[0m \u001b[38;5;28;01melse\u001b[39;00m:\n",
      "\u001b[1;31mTypeError\u001b[0m: can only concatenate str (not \"int\") to str"
     ]
    }
   ],
   "source": [
    "axis.deposit()"
   ]
  },
  {
   "cell_type": "code",
   "execution_count": 87,
   "id": "e2624320",
   "metadata": {},
   "outputs": [
    {
     "name": "stdout",
     "output_type": "stream",
     "text": [
      "Enter your pin3456\n",
      "asdf\n"
     ]
    }
   ],
   "source": [
    "axis.check_balance()"
   ]
  },
  {
   "cell_type": "markdown",
   "id": "19d6db12",
   "metadata": {},
   "source": [
    "#### Nothing in python truely private because python is turely for adualt"
   ]
  },
  {
   "cell_type": "code",
   "execution_count": 91,
   "id": "e5268c6d",
   "metadata": {},
   "outputs": [
    {
     "name": "stdout",
     "output_type": "stream",
     "text": [
      "\n",
      "                              Hello, how would you like to proceed?\n",
      "                              1. Enter 1 to create pin\n",
      "                              2. Enter 2 to deposit\n",
      "                              3. Enter 3 to withdraw\n",
      "                              4. Enter 4 to check balance\n",
      "                              5. Enter 5 to exit\n",
      "                              1\n",
      "Enter your pin4567\n",
      "pin created sucessfully\n"
     ]
    }
   ],
   "source": [
    "uco = Atm()"
   ]
  },
  {
   "cell_type": "code",
   "execution_count": 93,
   "id": "4c1a8a4c",
   "metadata": {},
   "outputs": [
    {
     "data": {
      "text/plain": [
       "'4567'"
      ]
     },
     "execution_count": 93,
     "metadata": {},
     "output_type": "execute_result"
    }
   ],
   "source": [
    "uco.get_pin()"
   ]
  },
  {
   "cell_type": "code",
   "execution_count": 95,
   "id": "05e41546",
   "metadata": {},
   "outputs": [
    {
     "name": "stdout",
     "output_type": "stream",
     "text": [
      "Pin changed\n"
     ]
    }
   ],
   "source": [
    "uco.set_pin('1234')"
   ]
  },
  {
   "cell_type": "code",
   "execution_count": 96,
   "id": "e7471fcd",
   "metadata": {},
   "outputs": [
    {
     "name": "stdout",
     "output_type": "stream",
     "text": [
      "Pin changed\n"
     ]
    }
   ],
   "source": [
    "uco.set_pin(5.6)"
   ]
  },
  {
   "cell_type": "code",
   "execution_count": 97,
   "id": "6bbb2e93",
   "metadata": {},
   "outputs": [
    {
     "data": {
      "text/plain": [
       "5.6"
      ]
     },
     "execution_count": 97,
     "metadata": {},
     "output_type": "execute_result"
    }
   ],
   "source": [
    "uco.get_pin()"
   ]
  },
  {
   "cell_type": "code",
   "execution_count": 10,
   "id": "4f587f58",
   "metadata": {},
   "outputs": [],
   "source": [
    "# reference variable"
   ]
  },
  {
   "cell_type": "code",
   "execution_count": 11,
   "id": "544525de",
   "metadata": {},
   "outputs": [
    {
     "name": "stdout",
     "output_type": "stream",
     "text": [
      "\n",
      "                              Hello, how would you like to proceed?\n",
      "                              1. Enter 1 to create pin\n",
      "                              2. Enter 2 to deposit\n",
      "                              3. Enter 3 to withdraw\n",
      "                              4. Enter 4 to check balance\n",
      "                              5. Enter 5 to exit\n",
      "                              1\n",
      "Enter your pin1234\n",
      "pin created sucessfully\n"
     ]
    },
    {
     "data": {
      "text/plain": [
       "<__main__.Atm at 0x249b4fe9310>"
      ]
     },
     "execution_count": 11,
     "metadata": {},
     "output_type": "execute_result"
    }
   ],
   "source": [
    "Atm()"
   ]
  },
  {
   "cell_type": "code",
   "execution_count": 23,
   "id": "b013f066",
   "metadata": {},
   "outputs": [
    {
     "name": "stdout",
     "output_type": "stream",
     "text": [
      "Nihar\n"
     ]
    }
   ],
   "source": [
    "class Customer:\n",
    "    \n",
    "    def __init__(self,name,gender):\n",
    "        self.name = name       \n",
    "        self.gender = gender\n",
    "cust = Customer('Nihar','Male')\n",
    "cust1 = Customer('karisma','Female')\n",
    "print(cust.name)"
   ]
  },
  {
   "cell_type": "code",
   "execution_count": 29,
   "id": "480f9108",
   "metadata": {},
   "outputs": [],
   "source": [
    "def greet(customer):\n",
    "    if customer.gender == 'Male':\n",
    "        print('Hello',customer.name,'Sir')\n",
    "    else:\n",
    "        print('Hello',customer.name,'Mam')\n",
    "        \n",
    "    cust2 = Customer('Ranjan', 'Male')\n",
    "    \n",
    "    return cust2"
   ]
  },
  {
   "cell_type": "code",
   "execution_count": 25,
   "id": "07da2dac",
   "metadata": {},
   "outputs": [
    {
     "name": "stdout",
     "output_type": "stream",
     "text": [
      "Hello karisma Mam\n"
     ]
    }
   ],
   "source": [
    "greet(cust1)"
   ]
  },
  {
   "cell_type": "code",
   "execution_count": 26,
   "id": "f572ac10",
   "metadata": {},
   "outputs": [
    {
     "name": "stdout",
     "output_type": "stream",
     "text": [
      "Hello Nihar Sir\n"
     ]
    }
   ],
   "source": [
    "greet(cust)"
   ]
  },
  {
   "cell_type": "code",
   "execution_count": 31,
   "id": "2adc860a",
   "metadata": {},
   "outputs": [
    {
     "name": "stdout",
     "output_type": "stream",
     "text": [
      "Hello Nihar Sir\n"
     ]
    }
   ],
   "source": [
    "new_cust = greet(cust)"
   ]
  },
  {
   "cell_type": "code",
   "execution_count": 32,
   "id": "1451b2e0",
   "metadata": {},
   "outputs": [
    {
     "data": {
      "text/plain": [
       "'Ranjan'"
      ]
     },
     "execution_count": 32,
     "metadata": {},
     "output_type": "execute_result"
    }
   ],
   "source": [
    "new_cust.name"
   ]
  },
  {
   "cell_type": "code",
   "execution_count": 1,
   "id": "2fd36900",
   "metadata": {},
   "outputs": [
    {
     "name": "stdout",
     "output_type": "stream",
     "text": [
      "2599911024816\n"
     ]
    }
   ],
   "source": [
    "class Customer:\n",
    "    \n",
    "    def __init__(self,name):\n",
    "        self.name = name       \n",
    "        \n",
    "cust = Customer('Nihar')\n",
    "\n",
    "print(id(cust))"
   ]
  },
  {
   "cell_type": "code",
   "execution_count": 4,
   "id": "9dd41a32",
   "metadata": {},
   "outputs": [],
   "source": [
    "def greet(custom):\n",
    "    #print(id(custom))\n",
    "    custom.name = \"Swain\"\n",
    "    print(custom.name)\n",
    "    "
   ]
  },
  {
   "cell_type": "code",
   "execution_count": 5,
   "id": "c74c0d6a",
   "metadata": {},
   "outputs": [
    {
     "name": "stdout",
     "output_type": "stream",
     "text": [
      "Swain\n"
     ]
    }
   ],
   "source": [
    "greet(cust)"
   ]
  },
  {
   "cell_type": "code",
   "execution_count": 6,
   "id": "d534bcd4",
   "metadata": {},
   "outputs": [
    {
     "name": "stdout",
     "output_type": "stream",
     "text": [
      "Swain\n"
     ]
    }
   ],
   "source": [
    "print(cust.name)"
   ]
  },
  {
   "cell_type": "markdown",
   "id": "571b7f1c",
   "metadata": {},
   "source": [
    "### python class objects are also mutable like lists,dict and sets"
   ]
  },
  {
   "cell_type": "code",
   "execution_count": 9,
   "id": "2322cc95",
   "metadata": {},
   "outputs": [
    {
     "name": "stdout",
     "output_type": "stream",
     "text": [
      "2599911315968\n",
      "2599911315968\n",
      "2599911315968\n"
     ]
    }
   ],
   "source": [
    "def change(l):\n",
    "    print(id(l))\n",
    "    l.append(5)\n",
    "    print(id(l))\n",
    "    \n",
    "l1 = [1,2,3]\n",
    "print(id(l1))\n",
    "change(l1)"
   ]
  },
  {
   "cell_type": "code",
   "execution_count": 10,
   "id": "36362482",
   "metadata": {},
   "outputs": [
    {
     "name": "stdout",
     "output_type": "stream",
     "text": [
      "[1, 2, 3, 5]\n"
     ]
    }
   ],
   "source": [
    "print(l1)"
   ]
  },
  {
   "cell_type": "code",
   "execution_count": 11,
   "id": "8826052e",
   "metadata": {},
   "outputs": [
    {
     "name": "stdout",
     "output_type": "stream",
     "text": [
      "2599911030144\n",
      "2599911030144\n"
     ]
    }
   ],
   "source": [
    "L1 = [1,2,3,4,6]\n",
    "change(L1[:])\n"
   ]
  },
  {
   "cell_type": "code",
   "execution_count": 12,
   "id": "ba9f15db",
   "metadata": {},
   "outputs": [
    {
     "data": {
      "text/plain": [
       "[1, 2, 3, 4, 6]"
      ]
     },
     "execution_count": 12,
     "metadata": {},
     "output_type": "execute_result"
    }
   ],
   "source": [
    "L1"
   ]
  },
  {
   "cell_type": "code",
   "execution_count": 13,
   "id": "59f677bc",
   "metadata": {},
   "outputs": [
    {
     "name": "stdout",
     "output_type": "stream",
     "text": [
      "2599911262976\n",
      "2599911262976\n",
      "2599911267840\n"
     ]
    }
   ],
   "source": [
    "def change(tup):\n",
    "    print(id(tup))\n",
    "    tup += (3,4)\n",
    "    print(id(tup))\n",
    "    \n",
    "l1 = (1,2,3)\n",
    "print(id(l1))\n",
    "change(l1)"
   ]
  },
  {
   "cell_type": "code",
   "execution_count": 14,
   "id": "b2a02be6",
   "metadata": {},
   "outputs": [
    {
     "data": {
      "text/plain": [
       "(1, 2, 3)"
      ]
     },
     "execution_count": 14,
     "metadata": {},
     "output_type": "execute_result"
    }
   ],
   "source": [
    "l1"
   ]
  },
  {
   "cell_type": "code",
   "execution_count": 23,
   "id": "ca032b8a",
   "metadata": {},
   "outputs": [
    {
     "name": "stdout",
     "output_type": "stream",
     "text": [
      "Nihar 27\n",
      "Ranjan 24\n",
      "Neha 26\n"
     ]
    }
   ],
   "source": [
    "class Customer:\n",
    "    \n",
    "    def __init__(self,name,age):\n",
    "        self.name = name\n",
    "        self.age = age\n",
    "        \n",
    "    def intro(self):\n",
    "        print('I am ',self.name ,'and I am',self.age)\n",
    "        \n",
    "c1 = Customer('Nihar',27)\n",
    "c2 = Customer('Ranjan',24)\n",
    "c3 = Customer('Neha',26)\n",
    "\n",
    "L = [c1,c2,c3]\n",
    "\n",
    "for i in L:\n",
    "    print(i.name,i.age)"
   ]
  },
  {
   "cell_type": "code",
   "execution_count": 25,
   "id": "0f6e4b1b",
   "metadata": {},
   "outputs": [
    {
     "name": "stdout",
     "output_type": "stream",
     "text": [
      "I am  Nihar and I am 27\n",
      "I am  Ranjan and I am 24\n",
      "I am  Neha and I am 26\n"
     ]
    }
   ],
   "source": [
    "for i in L:\n",
    "    i.intro()"
   ]
  },
  {
   "cell_type": "markdown",
   "id": "266eb3ce",
   "metadata": {},
   "source": [
    "## Static"
   ]
  },
  {
   "cell_type": "code",
   "execution_count": 65,
   "id": "c78602be",
   "metadata": {},
   "outputs": [],
   "source": [
    "class Atm:\n",
    "    \n",
    "    # Constructor : Special method where its inside code read automatically when we call this class\n",
    "    # special/magic/dunder methods\n",
    "    \n",
    "    # static/class variable\n",
    "    __counter = 1\n",
    "    \n",
    "    # instance variable\n",
    "    def __init__(self):\n",
    "        self.__pin = \"\"\n",
    "        self.__balance = 0\n",
    "        \n",
    "        self.__menu()\n",
    "        self.sno = Atm.__counter\n",
    "        Atm.__counter += 1\n",
    "    @staticmethod   \n",
    "    def get_counter():\n",
    "        return Atm.__counter\n",
    "    @staticmethod\n",
    "    def set_counter(new): \n",
    "        if type(new) == int:\n",
    "            Atm.__counter = new     \n",
    "        else:\n",
    "            print('Not allowed')\n",
    "        \n",
    "        \n",
    "    def get_pin(self):\n",
    "        return self.__pin\n",
    "    \n",
    "    def set_pin(self,new_pin):\n",
    "        if type(new_pin) == str:\n",
    "            self.__pin = new_pin\n",
    "            print('Pin changed')\n",
    "        else: \n",
    "            print('Not allowed')\n",
    "    \n",
    "    def __menu(self):\n",
    "        user_input = input(\"\"\"\n",
    "                              Hello, how would you like to proceed?\n",
    "                              1. Enter 1 to create pin\n",
    "                              2. Enter 2 to deposit\n",
    "                              3. Enter 3 to withdraw\n",
    "                              4. Enter 4 to check balance\n",
    "                              5. Enter 5 to exit\n",
    "                              \"\"\")\n",
    "        if user_input == '1':\n",
    "            self.create_pin()\n",
    "        elif user_input == '2':\n",
    "            self.deposit()\n",
    "        elif user_input == '3':\n",
    "            self.withdraw()\n",
    "        elif user_input == '4':\n",
    "            self.check_balance()\n",
    "        else:\n",
    "            print('Bye, Thank you')\n",
    "            \n",
    "    def create_pin(self):\n",
    "        self.__pin = input('Enter your pin')\n",
    "        print('pin created sucessfully')\n",
    "        \n",
    "    def deposit(self):\n",
    "        temp = input('Enter your pin')\n",
    "        if temp == self.__pin:\n",
    "            amount = int(input(\"Enter the amount\"))\n",
    "            self.__balance += amount\n",
    "            print('Deposit sucessful')\n",
    "            \n",
    "        else:\n",
    "            print('Invalid pin')\n",
    "            \n",
    "    def withdraw(self):\n",
    "        temp = input('Enter your pin')\n",
    "        if temp == self.__pin:\n",
    "            amount = int(input(\"Enter the amount\"))\n",
    "            if amount < self.__balance:\n",
    "                self.__balance -= amount\n",
    "                print('withdraw sucessful')\n",
    "            else:\n",
    "                print('Insufficient funds')\n",
    "        else:\n",
    "            print('Invalid pin')\n",
    "            \n",
    "    def check_balance(self):\n",
    "        temp = input('Enter your pin')\n",
    "        if temp == self.__pin:\n",
    "            print(self.__balance)\n",
    "            \n",
    "        else:\n",
    "            print('Invalid pin')"
   ]
  },
  {
   "cell_type": "code",
   "execution_count": 42,
   "id": "ddeecb64",
   "metadata": {},
   "outputs": [
    {
     "name": "stdout",
     "output_type": "stream",
     "text": [
      "\n",
      "                              Hello, how would you like to proceed?\n",
      "                              1. Enter 1 to create pin\n",
      "                              2. Enter 2 to deposit\n",
      "                              3. Enter 3 to withdraw\n",
      "                              4. Enter 4 to check balance\n",
      "                              5. Enter 5 to exit\n",
      "                              1\n",
      "Enter your pin12\n",
      "pin created sucessfully\n"
     ]
    }
   ],
   "source": [
    "c1 = Atm()"
   ]
  },
  {
   "cell_type": "code",
   "execution_count": 43,
   "id": "7d3d0706",
   "metadata": {},
   "outputs": [
    {
     "name": "stdout",
     "output_type": "stream",
     "text": [
      "\n",
      "                              Hello, how would you like to proceed?\n",
      "                              1. Enter 1 to create pin\n",
      "                              2. Enter 2 to deposit\n",
      "                              3. Enter 3 to withdraw\n",
      "                              4. Enter 4 to check balance\n",
      "                              5. Enter 5 to exit\n",
      "                              1\n",
      "Enter your pin12\n",
      "pin created sucessfully\n"
     ]
    }
   ],
   "source": [
    "c2 = Atm()"
   ]
  },
  {
   "cell_type": "code",
   "execution_count": 44,
   "id": "0ed303e4",
   "metadata": {},
   "outputs": [
    {
     "name": "stdout",
     "output_type": "stream",
     "text": [
      "\n",
      "                              Hello, how would you like to proceed?\n",
      "                              1. Enter 1 to create pin\n",
      "                              2. Enter 2 to deposit\n",
      "                              3. Enter 3 to withdraw\n",
      "                              4. Enter 4 to check balance\n",
      "                              5. Enter 5 to exit\n",
      "                              1\n",
      "Enter your pin12\n",
      "pin created sucessfully\n"
     ]
    }
   ],
   "source": [
    " c3 = Atm()"
   ]
  },
  {
   "cell_type": "code",
   "execution_count": 45,
   "id": "1dd9fbe8",
   "metadata": {},
   "outputs": [
    {
     "data": {
      "text/plain": [
       "1"
      ]
     },
     "execution_count": 45,
     "metadata": {},
     "output_type": "execute_result"
    }
   ],
   "source": [
    "c1.sno"
   ]
  },
  {
   "cell_type": "code",
   "execution_count": 46,
   "id": "0f3a8218",
   "metadata": {},
   "outputs": [
    {
     "data": {
      "text/plain": [
       "2"
      ]
     },
     "execution_count": 46,
     "metadata": {},
     "output_type": "execute_result"
    }
   ],
   "source": [
    "c2.sno"
   ]
  },
  {
   "cell_type": "code",
   "execution_count": 47,
   "id": "8bcfeafd",
   "metadata": {},
   "outputs": [
    {
     "data": {
      "text/plain": [
       "3"
      ]
     },
     "execution_count": 47,
     "metadata": {},
     "output_type": "execute_result"
    }
   ],
   "source": [
    "c3.sno"
   ]
  },
  {
   "cell_type": "code",
   "execution_count": 48,
   "id": "dee3d771",
   "metadata": {},
   "outputs": [
    {
     "data": {
      "text/plain": [
       "4"
      ]
     },
     "execution_count": 48,
     "metadata": {},
     "output_type": "execute_result"
    }
   ],
   "source": [
    "c1.counter"
   ]
  },
  {
   "cell_type": "code",
   "execution_count": 49,
   "id": "50a23ae5",
   "metadata": {},
   "outputs": [
    {
     "data": {
      "text/plain": [
       "4"
      ]
     },
     "execution_count": 49,
     "metadata": {},
     "output_type": "execute_result"
    }
   ],
   "source": [
    "c2.counter"
   ]
  },
  {
   "cell_type": "code",
   "execution_count": 50,
   "id": "3689a8a6",
   "metadata": {},
   "outputs": [
    {
     "data": {
      "text/plain": [
       "4"
      ]
     },
     "execution_count": 50,
     "metadata": {},
     "output_type": "execute_result"
    }
   ],
   "source": [
    "c3.counter"
   ]
  },
  {
   "cell_type": "code",
   "execution_count": 51,
   "id": "ed1bf7fc",
   "metadata": {},
   "outputs": [
    {
     "data": {
      "text/plain": [
       "4"
      ]
     },
     "execution_count": 51,
     "metadata": {},
     "output_type": "execute_result"
    }
   ],
   "source": [
    "Atm.counter"
   ]
  },
  {
   "cell_type": "code",
   "execution_count": 58,
   "id": "eb0e4994",
   "metadata": {},
   "outputs": [
    {
     "data": {
      "text/plain": [
       "'asdf'"
      ]
     },
     "execution_count": 58,
     "metadata": {},
     "output_type": "execute_result"
    }
   ],
   "source": [
    "Atm.__counter     "
   ]
  },
  {
   "cell_type": "code",
   "execution_count": 56,
   "id": "8a427c77",
   "metadata": {},
   "outputs": [],
   "source": [
    "Atm.__counter = 'asdf'"
   ]
  },
  {
   "cell_type": "code",
   "execution_count": 54,
   "id": "d5c7a9a6",
   "metadata": {},
   "outputs": [
    {
     "name": "stdout",
     "output_type": "stream",
     "text": [
      "\n",
      "                              Hello, how would you like to proceed?\n",
      "                              1. Enter 1 to create pin\n",
      "                              2. Enter 2 to deposit\n",
      "                              3. Enter 3 to withdraw\n",
      "                              4. Enter 4 to check balance\n",
      "                              5. Enter 5 to exit\n",
      "                              1\n",
      "Enter your pin12\n",
      "pin created sucessfully\n"
     ]
    },
    {
     "ename": "TypeError",
     "evalue": "can only concatenate str (not \"int\") to str",
     "output_type": "error",
     "traceback": [
      "\u001b[1;31m---------------------------------------------------------------------------\u001b[0m",
      "\u001b[1;31mTypeError\u001b[0m                                 Traceback (most recent call last)",
      "Input \u001b[1;32mIn [54]\u001b[0m, in \u001b[0;36m<cell line: 1>\u001b[1;34m()\u001b[0m\n\u001b[1;32m----> 1\u001b[0m c1\u001b[38;5;241m=\u001b[39m \u001b[43mAtm\u001b[49m\u001b[43m(\u001b[49m\u001b[43m)\u001b[49m\n",
      "Input \u001b[1;32mIn [41]\u001b[0m, in \u001b[0;36mAtm.__init__\u001b[1;34m(self)\u001b[0m\n\u001b[0;32m     13\u001b[0m \u001b[38;5;28mself\u001b[39m\u001b[38;5;241m.\u001b[39m__menu()\n\u001b[0;32m     14\u001b[0m \u001b[38;5;28mself\u001b[39m\u001b[38;5;241m.\u001b[39msno \u001b[38;5;241m=\u001b[39m Atm\u001b[38;5;241m.\u001b[39mcounter\n\u001b[1;32m---> 15\u001b[0m Atm\u001b[38;5;241m.\u001b[39mcounter \u001b[38;5;241m+\u001b[39m\u001b[38;5;241m=\u001b[39m \u001b[38;5;241m1\u001b[39m\n",
      "\u001b[1;31mTypeError\u001b[0m: can only concatenate str (not \"int\") to str"
     ]
    }
   ],
   "source": [
    "c1= Atm()"
   ]
  },
  {
   "cell_type": "code",
   "execution_count": 62,
   "id": "28aee87d",
   "metadata": {},
   "outputs": [
    {
     "ename": "TypeError",
     "evalue": "set_counter() missing 1 required positional argument: 'new'",
     "output_type": "error",
     "traceback": [
      "\u001b[1;31m---------------------------------------------------------------------------\u001b[0m",
      "\u001b[1;31mTypeError\u001b[0m                                 Traceback (most recent call last)",
      "Input \u001b[1;32mIn [62]\u001b[0m, in \u001b[0;36m<cell line: 1>\u001b[1;34m()\u001b[0m\n\u001b[1;32m----> 1\u001b[0m \u001b[43mAtm\u001b[49m\u001b[38;5;241;43m.\u001b[39;49m\u001b[43mset_counter\u001b[49m\u001b[43m(\u001b[49m\u001b[38;5;241;43m54\u001b[39;49m\u001b[43m)\u001b[49m\n",
      "\u001b[1;31mTypeError\u001b[0m: set_counter() missing 1 required positional argument: 'new'"
     ]
    }
   ],
   "source": [
    "Atm.set_counter(54)"
   ]
  },
  {
   "cell_type": "code",
   "execution_count": 66,
   "id": "cda4d588",
   "metadata": {},
   "outputs": [
    {
     "data": {
      "text/plain": [
       "1"
      ]
     },
     "execution_count": 66,
     "metadata": {},
     "output_type": "execute_result"
    }
   ],
   "source": [
    "Atm.get_counter()"
   ]
  },
  {
   "cell_type": "code",
   "execution_count": 67,
   "id": "01099a7e",
   "metadata": {},
   "outputs": [],
   "source": [
    "Atm.set_counter(5)"
   ]
  },
  {
   "cell_type": "code",
   "execution_count": 68,
   "id": "f7335a02",
   "metadata": {},
   "outputs": [
    {
     "data": {
      "text/plain": [
       "5"
      ]
     },
     "execution_count": 68,
     "metadata": {},
     "output_type": "execute_result"
    }
   ],
   "source": [
    "Atm.get_counter()"
   ]
  },
  {
   "cell_type": "markdown",
   "id": "78ff80c7",
   "metadata": {},
   "source": [
    "## Realtionship between classes"
   ]
  },
  {
   "cell_type": "markdown",
   "id": "b632fd73",
   "metadata": {},
   "source": [
    "- Aggregation (Has -A)\n",
    "- Inheritance (Is -A)"
   ]
  },
  {
   "cell_type": "markdown",
   "id": "47c7fb9c",
   "metadata": {},
   "source": [
    "#### Aggregation"
   ]
  },
  {
   "cell_type": "code",
   "execution_count": 81,
   "id": "43624b6a",
   "metadata": {},
   "outputs": [
    {
     "name": "stdout",
     "output_type": "stream",
     "text": [
      "753010\n"
     ]
    }
   ],
   "source": [
    "class Customer:\n",
    "    \n",
    "    def __init__(self,name,gender,address):\n",
    "        self.name = name\n",
    "        self.gender = gender\n",
    "        self.address = address\n",
    "        \n",
    "    def edit_profile(self,new_name,new_city,new_pincode,new_state):\n",
    "        self.name = new_name\n",
    "        self.address.change_address(new_city,new_pincode,new_state)\n",
    "\n",
    "class Address:\n",
    "    \n",
    "    def __init__(self,city,pincode,state):\n",
    "        self.city = city\n",
    "        self.pincode = pincode\n",
    "        self.state = state\n",
    "    \n",
    "    def change_address(self,new_city,new_pincode,new_state):\n",
    "        self.city = new_city\n",
    "        self.pincode = new_pincode\n",
    "        self.state = new_state\n",
    "        \n",
    "add = Address('Cuttack',753010,'Odisha')\n",
    "cust = Customer('Nihar','male',add)\n",
    "\n",
    "print(cust.address.pincode)"
   ]
  },
  {
   "cell_type": "code",
   "execution_count": 82,
   "id": "52c87f1e",
   "metadata": {},
   "outputs": [],
   "source": [
    "cust.edit_profile('Ankit','Bhubaneswar',700012,'Odisha')"
   ]
  },
  {
   "cell_type": "code",
   "execution_count": 83,
   "id": "2a673906",
   "metadata": {},
   "outputs": [
    {
     "name": "stdout",
     "output_type": "stream",
     "text": [
      "700012\n"
     ]
    }
   ],
   "source": [
    "print(cust.address.pincode)"
   ]
  },
  {
   "cell_type": "markdown",
   "id": "89d4ce55",
   "metadata": {},
   "source": [
    "## Inheritance \n",
    "- code reusability\n",
    "- private member are not inheritaed\n",
    "- We can inherit\n",
    " - data member\n",
    " - methods\n",
    " - constructor"
   ]
  },
  {
   "cell_type": "code",
   "execution_count": 84,
   "id": "5ec288ad",
   "metadata": {},
   "outputs": [],
   "source": [
    "class User:\n",
    "    \n",
    "    def login(self):\n",
    "        print('Login')\n",
    "        \n",
    "    def register(self):\n",
    "        print('Registor')\n",
    "        \n",
    "class Student(User):\n",
    "    \n",
    "    def enroll(self):\n",
    "        print('Enroll')\n",
    "        \n",
    "    def review(self):\n",
    "        print('Review')"
   ]
  },
  {
   "cell_type": "code",
   "execution_count": 85,
   "id": "e312c732",
   "metadata": {},
   "outputs": [
    {
     "name": "stdout",
     "output_type": "stream",
     "text": [
      "Login\n",
      "Registor\n",
      "Enroll\n",
      "Review\n"
     ]
    }
   ],
   "source": [
    "stu1 = Student()\n",
    "\n",
    "stu1.login()\n",
    "stu1.register()\n",
    "stu1.enroll()\n",
    "stu1.review()"
   ]
  },
  {
   "cell_type": "code",
   "execution_count": 86,
   "id": "3fd06a19",
   "metadata": {},
   "outputs": [
    {
     "name": "stdout",
     "output_type": "stream",
     "text": [
      "Login\n",
      "Registor\n"
     ]
    }
   ],
   "source": [
    "u = User()\n",
    "u.login()\n",
    "u.register()"
   ]
  },
  {
   "cell_type": "code",
   "execution_count": 88,
   "id": "46bdd49a",
   "metadata": {},
   "outputs": [
    {
     "name": "stdout",
     "output_type": "stream",
     "text": [
      "Inside phone constructor\n"
     ]
    }
   ],
   "source": [
    "class Phone:\n",
    "    \n",
    "    def __init__(self,price,brand,camera):\n",
    "        \n",
    "        print('Inside phone constructor')\n",
    "        self.price = price\n",
    "        self.brand = brand\n",
    "        self.camera = camera\n",
    "        \n",
    "class SmartPhone(Phone):\n",
    "    pass\n",
    "\n",
    "\n",
    "s = SmartPhone(20000,'Samsung',64)"
   ]
  },
  {
   "cell_type": "code",
   "execution_count": 90,
   "id": "675b7b95",
   "metadata": {},
   "outputs": [
    {
     "data": {
      "text/plain": [
       "'Samsung'"
      ]
     },
     "execution_count": 90,
     "metadata": {},
     "output_type": "execute_result"
    }
   ],
   "source": [
    "s.brand"
   ]
  },
  {
   "cell_type": "code",
   "execution_count": 91,
   "id": "80f63024",
   "metadata": {},
   "outputs": [
    {
     "data": {
      "text/plain": [
       "20000"
      ]
     },
     "execution_count": 91,
     "metadata": {},
     "output_type": "execute_result"
    }
   ],
   "source": [
    "s.price"
   ]
  },
  {
   "cell_type": "code",
   "execution_count": 92,
   "id": "fc923bb2",
   "metadata": {},
   "outputs": [
    {
     "data": {
      "text/plain": [
       "64"
      ]
     },
     "execution_count": 92,
     "metadata": {},
     "output_type": "execute_result"
    }
   ],
   "source": [
    "s.camera"
   ]
  },
  {
   "cell_type": "code",
   "execution_count": 93,
   "id": "1406dbdb",
   "metadata": {},
   "outputs": [
    {
     "name": "stdout",
     "output_type": "stream",
     "text": [
      "Inside phone constructor\n"
     ]
    }
   ],
   "source": [
    "class Phone:\n",
    "    \n",
    "    def __init__(self,price,brand,camera):\n",
    "        \n",
    "        print('Inside phone constructor')\n",
    "        self.price = price\n",
    "        self.__brand = brand\n",
    "        self.camera = camera\n",
    "        \n",
    "class SmartPhone(Phone):\n",
    "    pass\n",
    "\n",
    "\n",
    "s = SmartPhone(20000,'Samsung',64)"
   ]
  },
  {
   "cell_type": "code",
   "execution_count": 94,
   "id": "00a18636",
   "metadata": {},
   "outputs": [
    {
     "data": {
      "text/plain": [
       "64"
      ]
     },
     "execution_count": 94,
     "metadata": {},
     "output_type": "execute_result"
    }
   ],
   "source": [
    "s.camera"
   ]
  },
  {
   "cell_type": "code",
   "execution_count": 95,
   "id": "9281f7d7",
   "metadata": {},
   "outputs": [
    {
     "ename": "AttributeError",
     "evalue": "'SmartPhone' object has no attribute '__brand'",
     "output_type": "error",
     "traceback": [
      "\u001b[1;31m---------------------------------------------------------------------------\u001b[0m",
      "\u001b[1;31mAttributeError\u001b[0m                            Traceback (most recent call last)",
      "Input \u001b[1;32mIn [95]\u001b[0m, in \u001b[0;36m<cell line: 1>\u001b[1;34m()\u001b[0m\n\u001b[1;32m----> 1\u001b[0m \u001b[43ms\u001b[49m\u001b[38;5;241;43m.\u001b[39;49m\u001b[43m__brand\u001b[49m\n",
      "\u001b[1;31mAttributeError\u001b[0m: 'SmartPhone' object has no attribute '__brand'"
     ]
    }
   ],
   "source": [
    "s.__brand"
   ]
  },
  {
   "cell_type": "code",
   "execution_count": 96,
   "id": "b8ad977c",
   "metadata": {},
   "outputs": [
    {
     "name": "stdout",
     "output_type": "stream",
     "text": [
      "Inside phone constructor\n"
     ]
    }
   ],
   "source": [
    "class Phone:\n",
    "    \n",
    "    def __init__(self,price,brand,camera):\n",
    "        \n",
    "        print('Inside phone constructor')\n",
    "        self.price = price\n",
    "        self.__brand = brand\n",
    "        self.camera = camera\n",
    "        \n",
    "    def buy(self):\n",
    "        print('Buying a phone')\n",
    "        \n",
    "class SmartPhone(Phone):\n",
    "    \n",
    "    def buy(self):\n",
    "        print('Buying a smartphone')\n",
    "\n",
    "\n",
    "s = SmartPhone(20000,'Samsung',64)"
   ]
  },
  {
   "cell_type": "code",
   "execution_count": 98,
   "id": "c58583b3",
   "metadata": {},
   "outputs": [
    {
     "name": "stdout",
     "output_type": "stream",
     "text": [
      "Buying a smartphone\n"
     ]
    }
   ],
   "source": [
    "s.buy()"
   ]
  },
  {
   "cell_type": "markdown",
   "id": "c48f7543",
   "metadata": {},
   "source": [
    "### Method Overriding -> Polymorphism\n",
    "### Method Overloading\n",
    "### Operator Overloading"
   ]
  },
  {
   "cell_type": "code",
   "execution_count": 100,
   "id": "982a04f9",
   "metadata": {},
   "outputs": [
    {
     "name": "stdout",
     "output_type": "stream",
     "text": [
      "100\n",
      "This is in child class\n"
     ]
    }
   ],
   "source": [
    "class Parent:\n",
    "    \n",
    "    def __init__(self,num):\n",
    "        self.__num = num\n",
    "        \n",
    "    def get_num(self):\n",
    "        return self.__num\n",
    "    \n",
    "class Child(Parent):\n",
    "    \n",
    "    def show(self):\n",
    "        print(\"This is in child class\")\n",
    "        \n",
    "son = Child(100)\n",
    "print(son.get_num())\n",
    "son.show()"
   ]
  },
  {
   "cell_type": "code",
   "execution_count": 110,
   "id": "07da8ce2",
   "metadata": {},
   "outputs": [
    {
     "name": "stdout",
     "output_type": "stream",
     "text": [
      "100\n"
     ]
    },
    {
     "ename": "NameError",
     "evalue": "name '_son' is not defined",
     "output_type": "error",
     "traceback": [
      "\u001b[1;31m---------------------------------------------------------------------------\u001b[0m",
      "\u001b[1;31mNameError\u001b[0m                                 Traceback (most recent call last)",
      "Input \u001b[1;32mIn [110]\u001b[0m, in \u001b[0;36m<cell line: 20>\u001b[1;34m()\u001b[0m\n\u001b[0;32m     18\u001b[0m son \u001b[38;5;241m=\u001b[39m Child(\u001b[38;5;241m100\u001b[39m,\u001b[38;5;241m10\u001b[39m)\n\u001b[0;32m     19\u001b[0m \u001b[38;5;28mprint\u001b[39m(son\u001b[38;5;241m.\u001b[39mget_val())\n\u001b[1;32m---> 20\u001b[0m \u001b[43m_son\u001b[49m\u001b[38;5;241m.\u001b[39mget_num()\n",
      "\u001b[1;31mNameError\u001b[0m: name '_son' is not defined"
     ]
    }
   ],
   "source": [
    "class Parent:\n",
    "    \n",
    "    def __init__(self,num):\n",
    "        self.__num = num\n",
    "        \n",
    "    def get_num(self):\n",
    "        return self.__num\n",
    "    \n",
    "class Child(Parent):\n",
    "    \n",
    "    def __init__(self,val,num):\n",
    "        self.__val = val\n",
    "            \n",
    "    def get_val(self):\n",
    "        return self.__val\n",
    "    \n",
    "        \n",
    "son = Child(100,10)\n",
    "print(son.get_val())\n",
    "son.get_num()"
   ]
  },
  {
   "cell_type": "code",
   "execution_count": 111,
   "id": "3d7b75e3",
   "metadata": {},
   "outputs": [
    {
     "name": "stdout",
     "output_type": "stream",
     "text": [
      "class B 100\n"
     ]
    }
   ],
   "source": [
    "class A:\n",
    "    def __init__(self):\n",
    "        self.var1 = 100\n",
    "        \n",
    "    def display1(self,var1):\n",
    "        print('class A', self.var1)\n",
    "        \n",
    "class B(A):       \n",
    "    \n",
    "    def display2(self,var1):\n",
    "        print('class B', self.var1)   \n",
    "        \n",
    "obj = B()\n",
    "obj.display2(200)"
   ]
  },
  {
   "cell_type": "code",
   "execution_count": 112,
   "id": "371c74f1",
   "metadata": {},
   "outputs": [
    {
     "name": "stdout",
     "output_type": "stream",
     "text": [
      "class A 100\n"
     ]
    }
   ],
   "source": [
    "obj.display1(100)"
   ]
  },
  {
   "cell_type": "code",
   "execution_count": 120,
   "id": "45c2e822",
   "metadata": {},
   "outputs": [
    {
     "name": "stdout",
     "output_type": "stream",
     "text": [
      "15\n",
      "[2, 4]\n",
      "[1, 3, 5]\n"
     ]
    }
   ],
   "source": [
    "L = [1,2,3,4,5] \n",
    "\n",
    "class Sum:\n",
    "    \n",
    "    def __init__(self,list1):\n",
    "        self.list1 = list1\n",
    "        \n",
    "    def sum1(self):\n",
    "        return sum(self.list1)\n",
    "    \n",
    "    def even(self):\n",
    "        return [i for i in self.list1 if i%2==0]\n",
    "            \n",
    "    def odd(self):\n",
    "        return [i for i in self.list1 if i%2!=0]    \n",
    "    \n",
    "sum2 = Sum(L)\n",
    "print(sum2.sum1())  \n",
    "print(sum2.even())\n",
    "print(sum2.odd())"
   ]
  },
  {
   "cell_type": "markdown",
   "id": "7ed63bbf",
   "metadata": {},
   "source": [
    "Super"
   ]
  },
  {
   "cell_type": "code",
   "execution_count": 122,
   "id": "bba273e0",
   "metadata": {},
   "outputs": [
    {
     "name": "stdout",
     "output_type": "stream",
     "text": [
      "Inside phone constructor\n",
      "Buying a smartphone\n",
      "Buying a phone\n"
     ]
    }
   ],
   "source": [
    "class Phone:\n",
    "    def __init__(self,price,brand,camera):\n",
    "        print(\"Inside phone constructor\")\n",
    "        self.__price = price\n",
    "        self.brand = brand\n",
    "        self.camera = camera\n",
    "        \n",
    "    def buy(self):\n",
    "        print(\"Buying a phone\")\n",
    "        \n",
    "    def return_phone(self):\n",
    "        print('return a phone')\n",
    "        \n",
    "class FeaturePhone(Phone):\n",
    "    pass\n",
    "\n",
    "class SmartPhone(Phone):\n",
    "    def buy(self):\n",
    "        print(\"Buying a smartphone\")\n",
    "        super().buy()\n",
    "        \n",
    "s = SmartPhone(2000, 'Apple',13)\n",
    "s.buy()"
   ]
  },
  {
   "cell_type": "markdown",
   "id": "545bb96a",
   "metadata": {},
   "source": [
    "Super() : cann't work outside class"
   ]
  },
  {
   "cell_type": "code",
   "execution_count": 131,
   "id": "75290011",
   "metadata": {},
   "outputs": [
    {
     "name": "stdout",
     "output_type": "stream",
     "text": [
      "First\n",
      "Inside phone constructor\n",
      "inside smartphone constructor\n"
     ]
    },
    {
     "data": {
      "text/plain": [
       "'Apple'"
      ]
     },
     "execution_count": 131,
     "metadata": {},
     "output_type": "execute_result"
    }
   ],
   "source": [
    "class Phone:\n",
    "    def __init__(self,price,brand,camera):\n",
    "        print(\"Inside phone constructor\")\n",
    "        self.__price = price\n",
    "        self.brand = brand\n",
    "        self.camera = camera\n",
    "        \n",
    "class SmartPhone(Phone):\n",
    "    \n",
    "    def __init__(self,price,brand,camera,os,ram):\n",
    "        print('First')\n",
    "        super().__init__(price,brand,camera)\n",
    "        self.os = os\n",
    "        self.ram = ram\n",
    "        print('inside smartphone constructor')\n",
    "        \n",
    "s = SmartPhone(2000, 'Apple',13,'Android',8)\n",
    "s.brand"
   ]
  },
  {
   "cell_type": "code",
   "execution_count": 130,
   "id": "76922ed8",
   "metadata": {},
   "outputs": [
    {
     "data": {
      "text/plain": [
       "13"
      ]
     },
     "execution_count": 130,
     "metadata": {},
     "output_type": "execute_result"
    }
   ],
   "source": [
    "s.camera"
   ]
  },
  {
   "cell_type": "code",
   "execution_count": 132,
   "id": "626c144a",
   "metadata": {},
   "outputs": [
    {
     "name": "stdout",
     "output_type": "stream",
     "text": [
      "100\n"
     ]
    },
    {
     "data": {
      "text/plain": [
       "10"
      ]
     },
     "execution_count": 132,
     "metadata": {},
     "output_type": "execute_result"
    }
   ],
   "source": [
    "class Parent:\n",
    "    \n",
    "    def __init__(self,num):\n",
    "        self.__num = num\n",
    "        \n",
    "    def get_num(self):\n",
    "        return self.__num\n",
    "    \n",
    "class Child(Parent):\n",
    "    \n",
    "    def __init__(self,val,num):\n",
    "        super().__init__(num) # super should be first on constructor\n",
    "        self.__val = val\n",
    "            \n",
    "    def get_val(self):\n",
    "        return self.__val\n",
    "    \n",
    "        \n",
    "son = Child(100,10)\n",
    "print(son.get_val())\n",
    "son.get_num()"
   ]
  },
  {
   "cell_type": "code",
   "execution_count": 133,
   "id": "f4148150",
   "metadata": {},
   "outputs": [
    {
     "name": "stdout",
     "output_type": "stream",
     "text": [
      "100\n",
      "200\n"
     ]
    }
   ],
   "source": [
    "class Parent:\n",
    "     \n",
    "    def __init__(self):\n",
    "        self.num = 100\n",
    "        \n",
    "class Child(Parent):\n",
    "    \n",
    "    def __init__(self):\n",
    "        super().__init__()\n",
    "        self.var = 200\n",
    "        \n",
    "    def show(self):\n",
    "        print(self.num)\n",
    "        print(self.var)\n",
    "        \n",
    "son = Child()\n",
    "son.show()\n",
    "            \n"
   ]
  },
  {
   "cell_type": "code",
   "execution_count": 135,
   "id": "6887d6f7",
   "metadata": {},
   "outputs": [
    {
     "data": {
      "text/plain": [
       "100"
      ]
     },
     "execution_count": 135,
     "metadata": {},
     "output_type": "execute_result"
    }
   ],
   "source": [
    "parent = Parent()\n",
    "parent.num"
   ]
  },
  {
   "cell_type": "code",
   "execution_count": 139,
   "id": "bd1fdb65",
   "metadata": {},
   "outputs": [
    {
     "name": "stdout",
     "output_type": "stream",
     "text": [
      "200\n"
     ]
    }
   ],
   "source": [
    "class Parent:\n",
    "     \n",
    "    def __init__(self):\n",
    "        self.__num = 100\n",
    "        \n",
    "    def show(self):\n",
    "        print(self.__num)\n",
    "        \n",
    "class Child(Parent):\n",
    "    \n",
    "    def __init__(self):\n",
    "        super().__init__()\n",
    "        self.__var = 200\n",
    "        \n",
    "    def show(self):\n",
    "        print(self.__var)\n",
    "        \n",
    "        \n",
    "son = Child()\n",
    "son.show()"
   ]
  },
  {
   "cell_type": "code",
   "execution_count": 140,
   "id": "04e5a25b",
   "metadata": {},
   "outputs": [],
   "source": [
    "parent = Parent()"
   ]
  },
  {
   "cell_type": "code",
   "execution_count": 141,
   "id": "e7654570",
   "metadata": {},
   "outputs": [
    {
     "name": "stdout",
     "output_type": "stream",
     "text": [
      "100\n"
     ]
    }
   ],
   "source": [
    "parent.show()"
   ]
  },
  {
   "cell_type": "markdown",
   "id": "2d9659d9",
   "metadata": {},
   "source": [
    "### Types of Inheritance\n",
    "\n",
    "- Single level Inheritancem\n",
    " - one parent class and one child class\n",
    "  \n",
    "- Mutilevel Inheritance\n",
    " - child->parent->Grandparent\n",
    " \n",
    "- Hierarchial Inhertance\n",
    " - child1,child2 -> parent\n",
    " \n",
    "- Multiple Inheritance\n",
    " - child -> Father,Mother\n",
    " \n",
    "- Hybrid Inheritance\n",
    "  - Combination of all above"
   ]
  },
  {
   "cell_type": "markdown",
   "id": "bbe54932",
   "metadata": {},
   "source": [
    "1. Single level Inheritance"
   ]
  },
  {
   "cell_type": "code",
   "execution_count": 144,
   "id": "e42ed39c",
   "metadata": {},
   "outputs": [
    {
     "name": "stdout",
     "output_type": "stream",
     "text": [
      "Inside phone constructor\n",
      "Buying a smartphone\n",
      "Buying a phone\n"
     ]
    }
   ],
   "source": [
    "class Phone:\n",
    "    def __init__(self,price,brand,camera):\n",
    "        print(\"Inside phone constructor\")\n",
    "        self.__price = price\n",
    "        self.brand = brand\n",
    "        self.camera = camera\n",
    "        \n",
    "    def buy(self):\n",
    "        print(\"Buying a phone\")\n",
    "        \n",
    "    def return_phone(self):\n",
    "        print('return a phone')\n",
    "\n",
    "class SmartPhone(Phone):\n",
    "    def buy(self):\n",
    "        print(\"Buying a smartphone\")\n",
    "        super().buy()\n",
    "        \n",
    "s = SmartPhone(2000, 'Apple',13)\n",
    "s.buy()\n",
    "    "
   ]
  },
  {
   "cell_type": "markdown",
   "id": "92dba9dc",
   "metadata": {},
   "source": [
    "2. Multilevel Inheritance"
   ]
  },
  {
   "cell_type": "code",
   "execution_count": 148,
   "id": "44e90721",
   "metadata": {},
   "outputs": [
    {
     "name": "stdout",
     "output_type": "stream",
     "text": [
      "Inside phone constructor\n",
      "Product customer review\n"
     ]
    }
   ],
   "source": [
    "class Product:\n",
    "    \n",
    "    def review(self):\n",
    "        print('Product customer review')\n",
    "        \n",
    "class Phone(Product):\n",
    "    \n",
    "    def __init__(self,price,brand,camera):\n",
    "        print(\"Inside phone constructor\")\n",
    "        self.__price = price\n",
    "        self.brand = brand\n",
    "        self.camera = camera\n",
    "        \n",
    "    def buy(self):\n",
    "        print(\"Buying a phone\")\n",
    "        \n",
    "    def return_phone(self):\n",
    "        print('return a phone')\n",
    "        \n",
    "class Smartphone(Phone):\n",
    "    pass\n",
    "\n",
    "s = Smartphone(90000,'Apple',13)\n",
    "s.review()      "
   ]
  },
  {
   "cell_type": "code",
   "execution_count": 157,
   "id": "3fcb1eca",
   "metadata": {},
   "outputs": [
    {
     "data": {
      "text/plain": [
       "90000"
      ]
     },
     "execution_count": 157,
     "metadata": {},
     "output_type": "execute_result"
    }
   ],
   "source": [
    "s._Phone__price"
   ]
  },
  {
   "cell_type": "markdown",
   "id": "95d2d8d4",
   "metadata": {},
   "source": [
    "### Hierarchical Inheritance"
   ]
  },
  {
   "cell_type": "code",
   "execution_count": 3,
   "id": "f4f7e2bc",
   "metadata": {},
   "outputs": [],
   "source": [
    "class Phone:\n",
    "    \n",
    "    def __init__(self,price,brand,camera):\n",
    "        print(\"Inside phone constructor\")\n",
    "        self.__price = price\n",
    "        self.brand = brand\n",
    "        self.camera = camera\n",
    "        \n",
    "    def buy(self):\n",
    "        print(\"Buying a phone\")\n",
    "        \n",
    "    def return_phone(self):\n",
    "        print('return a phone')\n",
    "        \n",
    "class SmartPhone(Phone):\n",
    "    pass\n",
    "\n",
    "class FeaturePhone(Phone):\n",
    "    pass"
   ]
  },
  {
   "cell_type": "code",
   "execution_count": 5,
   "id": "b5ac4a3d",
   "metadata": {},
   "outputs": [
    {
     "name": "stdout",
     "output_type": "stream",
     "text": [
      "Inside phone constructor\n",
      "Buying a phone\n"
     ]
    }
   ],
   "source": [
    "s = SmartPhone(9000,'MI',32)\n",
    "s.buy()"
   ]
  },
  {
   "cell_type": "code",
   "execution_count": 6,
   "id": "2f323b4c",
   "metadata": {},
   "outputs": [
    {
     "data": {
      "text/plain": [
       "32"
      ]
     },
     "execution_count": 6,
     "metadata": {},
     "output_type": "execute_result"
    }
   ],
   "source": [
    "s.camera"
   ]
  },
  {
   "cell_type": "code",
   "execution_count": 7,
   "id": "30c7dfae",
   "metadata": {},
   "outputs": [
    {
     "data": {
      "text/plain": [
       "9000"
      ]
     },
     "execution_count": 7,
     "metadata": {},
     "output_type": "execute_result"
    }
   ],
   "source": [
    "s._Phone__price"
   ]
  },
  {
   "cell_type": "code",
   "execution_count": 8,
   "id": "58b1bb5f",
   "metadata": {},
   "outputs": [
    {
     "name": "stdout",
     "output_type": "stream",
     "text": [
      "Inside phone constructor\n",
      "Buying a phone\n"
     ]
    }
   ],
   "source": [
    "f = FeaturePhone(9000,'MI',32)\n",
    "f.buy()"
   ]
  },
  {
   "cell_type": "markdown",
   "id": "459f322c",
   "metadata": {},
   "source": [
    "## Multiple Inheritance"
   ]
  },
  {
   "cell_type": "code",
   "execution_count": 9,
   "id": "c6c09261",
   "metadata": {},
   "outputs": [
    {
     "name": "stdout",
     "output_type": "stream",
     "text": [
      "Inside phone constructor\n",
      "Product customer review\n"
     ]
    }
   ],
   "source": [
    "class Product:\n",
    "    \n",
    "    def review(self):\n",
    "        print('Product customer review')\n",
    "        \n",
    "class Phone:\n",
    "    \n",
    "    def __init__(self,price,brand,camera):\n",
    "        print(\"Inside phone constructor\")\n",
    "        self.__price = price\n",
    "        self.brand = brand\n",
    "        self.camera = camera\n",
    "        \n",
    "    def buy(self):\n",
    "        print(\"Buying a phone\")\n",
    "        \n",
    "    def return_phone(self):\n",
    "        print('return a phone')\n",
    "        \n",
    "class Smartphone(Product, Phone):\n",
    "    pass\n",
    "\n",
    "s = Smartphone(90000,'Apple',13)\n",
    "s.review()      "
   ]
  },
  {
   "cell_type": "code",
   "execution_count": 10,
   "id": "62e14eef",
   "metadata": {},
   "outputs": [
    {
     "name": "stdout",
     "output_type": "stream",
     "text": [
      "Buying a phone\n"
     ]
    }
   ],
   "source": [
    "s.buy()"
   ]
  },
  {
   "cell_type": "code",
   "execution_count": 11,
   "id": "8b5fa9a9",
   "metadata": {},
   "outputs": [
    {
     "data": {
      "text/plain": [
       "'Apple'"
      ]
     },
     "execution_count": 11,
     "metadata": {},
     "output_type": "execute_result"
    }
   ],
   "source": [
    "s.brand"
   ]
  },
  {
   "cell_type": "code",
   "execution_count": 12,
   "id": "089b7c59",
   "metadata": {},
   "outputs": [],
   "source": [
    "# MRO- Method Resolution Order"
   ]
  },
  {
   "cell_type": "code",
   "execution_count": 13,
   "id": "ddd029a5",
   "metadata": {},
   "outputs": [
    {
     "name": "stdout",
     "output_type": "stream",
     "text": [
      "70\n"
     ]
    }
   ],
   "source": [
    "class A:\n",
    "    \n",
    "    def m1(self):\n",
    "        return 20\n",
    "    \n",
    "class B(A):\n",
    "    \n",
    "    def m1(self):\n",
    "        return 30\n",
    "    def m2(self):\n",
    "        return 40\n",
    "    \n",
    "class C(B):\n",
    "    \n",
    "    def m2(self):\n",
    "        return 20\n",
    "    \n",
    "obj1 = A()\n",
    "obj2 = B()\n",
    "obj3 = C()\n",
    "\n",
    "print(obj1.m1()+obj3.m1()+obj3.m2())"
   ]
  },
  {
   "cell_type": "code",
   "execution_count": null,
   "id": "10101870",
   "metadata": {},
   "outputs": [],
   "source": [
    "class A:\n",
    "    \n",
    "    def m1(self):\n",
    "        return 20\n",
    "    \n",
    "class B(A):\n",
    "    \n",
    "    def m1(self):\n",
    "        return super().m1() + 30\n",
    "  \n",
    "    \n",
    "class C(B):\n",
    "    \n",
    "    def m1(self):\n",
    "        return self.m1()+20\n",
    "    \n",
    "obj3 = C()\n",
    "obj3.m1()"
   ]
  },
  {
   "cell_type": "markdown",
   "id": "6c8446b0",
   "metadata": {},
   "source": [
    "## Polymorphism\n",
    "1. Method Overloading"
   ]
  },
  {
   "cell_type": "code",
   "execution_count": 3,
   "id": "baf33183",
   "metadata": {},
   "outputs": [
    {
     "ename": "TypeError",
     "evalue": "area() missing 1 required positional argument: 'b'",
     "output_type": "error",
     "traceback": [
      "\u001b[1;31m---------------------------------------------------------------------------\u001b[0m",
      "\u001b[1;31mTypeError\u001b[0m                                 Traceback (most recent call last)",
      "Input \u001b[1;32mIn [3]\u001b[0m, in \u001b[0;36m<cell line: 10>\u001b[1;34m()\u001b[0m\n\u001b[0;32m      7\u001b[0m         \u001b[38;5;28;01mreturn\u001b[39;00m l\u001b[38;5;241m*\u001b[39mb\n\u001b[0;32m      9\u001b[0m obj \u001b[38;5;241m=\u001b[39m Geometry()\n\u001b[1;32m---> 10\u001b[0m \u001b[43mobj\u001b[49m\u001b[38;5;241;43m.\u001b[39;49m\u001b[43marea\u001b[49m\u001b[43m(\u001b[49m\u001b[38;5;241;43m2\u001b[39;49m\u001b[43m)\u001b[49m\n",
      "\u001b[1;31mTypeError\u001b[0m: area() missing 1 required positional argument: 'b'"
     ]
    }
   ],
   "source": [
    "class Geometry:\n",
    "    \n",
    "    def area(self,radius):\n",
    "        return 3.14*radius*radius\n",
    "    \n",
    "    def area(self,l,b):\n",
    "        return l*b\n",
    "    \n",
    "obj = Geometry()\n",
    "obj.area(2)"
   ]
  },
  {
   "cell_type": "code",
   "execution_count": 5,
   "id": "3309be2b",
   "metadata": {},
   "outputs": [
    {
     "name": "stdout",
     "output_type": "stream",
     "text": [
      "Rectangle 10\n"
     ]
    }
   ],
   "source": [
    "class Geometry:\n",
    "    \n",
    "    def area(self,a,b=0):\n",
    "        if b==0:\n",
    "            print('Circle',3.14*a*a)\n",
    "            \n",
    "        else:\n",
    "            print('Rectangle',a*b)\n",
    "    \n",
    "obj = Geometry()\n",
    "obj.area(2,5)"
   ]
  },
  {
   "cell_type": "markdown",
   "id": "9771fe53",
   "metadata": {},
   "source": [
    "## Operator Overloading"
   ]
  },
  {
   "cell_type": "code",
   "execution_count": 6,
   "id": "6b356cf1",
   "metadata": {},
   "outputs": [
    {
     "data": {
      "text/plain": [
       "'HelloWorld'"
      ]
     },
     "execution_count": 6,
     "metadata": {},
     "output_type": "execute_result"
    }
   ],
   "source": [
    "\"Hello\"+\"World\""
   ]
  },
  {
   "cell_type": "code",
   "execution_count": 8,
   "id": "b1a88150",
   "metadata": {},
   "outputs": [
    {
     "name": "stdout",
     "output_type": "stream",
     "text": [
      "Collecting fraction\n",
      "  Downloading Fraction-2.2.0-py3-none-any.whl (4.7 kB)\n",
      "Installing collected packages: fraction\n",
      "Successfully installed fraction-2.2.0\n",
      "Note: you may need to restart the kernel to use updated packages.\n"
     ]
    }
   ],
   "source": [
    "pip install fraction"
   ]
  },
  {
   "cell_type": "code",
   "execution_count": 10,
   "id": "0e6068e4",
   "metadata": {},
   "outputs": [
    {
     "data": {
      "text/plain": [
       "Fraction(3/4)"
      ]
     },
     "execution_count": 10,
     "metadata": {},
     "output_type": "execute_result"
    }
   ],
   "source": [
    "from fraction import Fraction\n",
    "\n",
    "x=Fraction(3,4)\n",
    "y = Fraction(9/8)\n",
    "print(x+)"
   ]
  },
  {
   "cell_type": "code",
   "execution_count": null,
   "id": "70d81a0d",
   "metadata": {},
   "outputs": [],
   "source": []
  }
 ],
 "metadata": {
  "kernelspec": {
   "display_name": "Python 3 (ipykernel)",
   "language": "python",
   "name": "python3"
  },
  "language_info": {
   "codemirror_mode": {
    "name": "ipython",
    "version": 3
   },
   "file_extension": ".py",
   "mimetype": "text/x-python",
   "name": "python",
   "nbconvert_exporter": "python",
   "pygments_lexer": "ipython3",
   "version": "3.9.12"
  }
 },
 "nbformat": 4,
 "nbformat_minor": 5
}
