{
 "cells": [
  {
   "cell_type": "code",
   "execution_count": 1,
   "id": "f3ba153f",
   "metadata": {},
   "outputs": [],
   "source": [
    "def plus(a,b):\n",
    "    return a+b"
   ]
  },
  {
   "cell_type": "code",
   "execution_count": 2,
   "id": "9c6b7cd3",
   "metadata": {},
   "outputs": [
    {
     "data": {
      "text/plain": [
       "17"
      ]
     },
     "execution_count": 2,
     "metadata": {},
     "output_type": "execute_result"
    }
   ],
   "source": [
    "plus(9,8)"
   ]
  },
  {
   "cell_type": "code",
   "execution_count": 3,
   "id": "770e07f3",
   "metadata": {},
   "outputs": [],
   "source": [
    "def plus(a,b,c = 10):\n",
    "    return a+b+c"
   ]
  },
  {
   "cell_type": "code",
   "execution_count": 4,
   "id": "5932868d",
   "metadata": {},
   "outputs": [
    {
     "data": {
      "text/plain": [
       "15"
      ]
     },
     "execution_count": 4,
     "metadata": {},
     "output_type": "execute_result"
    }
   ],
   "source": [
    "plus(2,3)"
   ]
  },
  {
   "cell_type": "code",
   "execution_count": 5,
   "id": "cffa25b8",
   "metadata": {},
   "outputs": [
    {
     "data": {
      "text/plain": [
       "26"
      ]
     },
     "execution_count": 5,
     "metadata": {},
     "output_type": "execute_result"
    }
   ],
   "source": [
    "plus(9,8,9)"
   ]
  },
  {
   "cell_type": "code",
   "execution_count": 6,
   "id": "49a19333",
   "metadata": {},
   "outputs": [],
   "source": [
    "def substract(a,b):\n",
    "    return a-b"
   ]
  },
  {
   "cell_type": "code",
   "execution_count": 7,
   "id": "552ce44b",
   "metadata": {},
   "outputs": [
    {
     "data": {
      "text/plain": [
       "1"
      ]
     },
     "execution_count": 7,
     "metadata": {},
     "output_type": "execute_result"
    }
   ],
   "source": [
    "substract(9,8)"
   ]
  },
  {
   "cell_type": "code",
   "execution_count": 8,
   "id": "b15baf90",
   "metadata": {},
   "outputs": [],
   "source": [
    "def power(y ,x=2):\n",
    "    return x**y"
   ]
  },
  {
   "cell_type": "code",
   "execution_count": 9,
   "id": "8eb8eeff",
   "metadata": {},
   "outputs": [
    {
     "data": {
      "text/plain": [
       "64"
      ]
     },
     "execution_count": 9,
     "metadata": {},
     "output_type": "execute_result"
    }
   ],
   "source": [
    "power(6)"
   ]
  },
  {
   "cell_type": "code",
   "execution_count": 48,
   "id": "d0a1d0b9",
   "metadata": {},
   "outputs": [],
   "source": [
    "# Function to demonstrate printing pattern\n",
    "def pypart(n):\n",
    "     \n",
    "    # outer loop to handle number of rows\n",
    "    # n in this case\n",
    "    for i in range(0, n):\n",
    "     \n",
    "        # inner loop to handle number of columns\n",
    "        # values changing acc. to outer loop\n",
    "        for j in range(0, i+1):\n",
    "         \n",
    "            # printing stars\n",
    "            print(\"* \",end=\"\")\n",
    "      \n",
    "        # ending line after each row\n",
    "        print('\\r')"
   ]
  },
  {
   "cell_type": "code",
   "execution_count": 49,
   "id": "1bc40c52",
   "metadata": {},
   "outputs": [
    {
     "name": "stdout",
     "output_type": "stream",
     "text": [
      "* \r\n",
      "* * \r\n",
      "* * * \r\n",
      "* * * * \r\n",
      "* * * * * \r\n"
     ]
    }
   ],
   "source": [
    "pypart(5)"
   ]
  },
  {
   "cell_type": "code",
   "execution_count": 39,
   "id": "5af686ef",
   "metadata": {},
   "outputs": [
    {
     "name": "stdout",
     "output_type": "stream",
     "text": [
      "Welcome to#GeeksforGeeks\n"
     ]
    }
   ],
   "source": [
    "# ends the output with a space\n",
    "print(\"Welcome to\",end='#')\n",
    "print(\"GeeksforGeeks\")"
   ]
  },
  {
   "cell_type": "code",
   "execution_count": 53,
   "id": "f6ade70e",
   "metadata": {},
   "outputs": [
    {
     "name": "stdout",
     "output_type": "stream",
     "text": [
      "GFG\n",
      "09-12-2016\n",
      "Red,Green,Blue@geeksforgeeks\n"
     ]
    }
   ],
   "source": [
    "print('G','F', sep='', end='')\n",
    "print('G')\n",
    "#\\n provides new line after printing the year\n",
    "print('09','12','2016', sep='-',end='\\n')\n",
    "\n",
    "print('Red','Green','Blue', sep=',', end='@')\n",
    "print('geeksforgeeks')"
   ]
  },
  {
   "cell_type": "code",
   "execution_count": 56,
   "id": "d03488c9",
   "metadata": {},
   "outputs": [],
   "source": [
    "def pypart(n):\n",
    "    myList = []\n",
    "    for i in range(1,n+1):\n",
    "        myList.append(\"* \"*i)\n",
    "    print(\"\\n\".join(myList))"
   ]
  },
  {
   "cell_type": "code",
   "execution_count": 57,
   "id": "0effefda",
   "metadata": {},
   "outputs": [
    {
     "name": "stdout",
     "output_type": "stream",
     "text": [
      "* \n",
      "* * \n",
      "* * * \n",
      "* * * * \n",
      "* * * * * \n"
     ]
    }
   ],
   "source": [
    "pypart(5)"
   ]
  },
  {
   "cell_type": "code",
   "execution_count": 61,
   "id": "b468c457",
   "metadata": {},
   "outputs": [
    {
     "data": {
      "text/plain": [
       "'* \\n* * \\n* * * \\n* * * * \\n* * * * * '"
      ]
     },
     "execution_count": 61,
     "metadata": {},
     "output_type": "execute_result"
    }
   ],
   "source": [
    "myList = []\n",
    "for i in range(1,5+1):\n",
    "    myList.append(\"* \"*i)\n",
    "'\\n'.join(myList)"
   ]
  },
  {
   "cell_type": "code",
   "execution_count": 2,
   "id": "a1002d13",
   "metadata": {},
   "outputs": [
    {
     "name": "stdout",
     "output_type": "stream",
     "text": [
      "234\n"
     ]
    }
   ],
   "source": []
  },
  {
   "cell_type": "code",
   "execution_count": null,
   "id": "eff0d882",
   "metadata": {},
   "outputs": [],
   "source": []
  },
  {
   "cell_type": "code",
   "execution_count": null,
   "id": "460d3fc5",
   "metadata": {},
   "outputs": [],
   "source": []
  }
 ],
 "metadata": {
  "kernelspec": {
   "display_name": "Python 3 (ipykernel)",
   "language": "python",
   "name": "python3"
  },
  "language_info": {
   "codemirror_mode": {
    "name": "ipython",
    "version": 3
   },
   "file_extension": ".py",
   "mimetype": "text/x-python",
   "name": "python",
   "nbconvert_exporter": "python",
   "pygments_lexer": "ipython3",
   "version": "3.9.12"
  }
 },
 "nbformat": 4,
 "nbformat_minor": 5
}
