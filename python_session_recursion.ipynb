{
 "cells": [
  {
   "cell_type": "code",
   "execution_count": 1,
   "id": "e1314757",
   "metadata": {},
   "outputs": [
    {
     "name": "stdout",
     "output_type": "stream",
     "text": [
      "20\n"
     ]
    }
   ],
   "source": [
    "def multiply(a,b):\n",
    "    result = 0\n",
    "    for i in range(b):\n",
    "        result += a\n",
    "    print(result)\n",
    "    \n",
    "multiply(4,5)"
   ]
  },
  {
   "cell_type": "code",
   "execution_count": 2,
   "id": "bf3e01ed",
   "metadata": {},
   "outputs": [
    {
     "name": "stdout",
     "output_type": "stream",
     "text": [
      "30\n"
     ]
    }
   ],
   "source": [
    "def mul(a,b):\n",
    "    if b==1:\n",
    "        return a\n",
    "    else:\n",
    "        return a+mul(a,b-1)\n",
    "    \n",
    "print(mul(5,6))"
   ]
  },
  {
   "cell_type": "code",
   "execution_count": 1,
   "id": "f1f527bd",
   "metadata": {},
   "outputs": [],
   "source": [
    "def fact(num):\n",
    "    if num == 1:\n",
    "        return num\n",
    "    else:\n",
    "        return num * fact(num-1)"
   ]
  },
  {
   "cell_type": "code",
   "execution_count": 2,
   "id": "c759ae66",
   "metadata": {},
   "outputs": [
    {
     "data": {
      "text/plain": [
       "120"
      ]
     },
     "execution_count": 2,
     "metadata": {},
     "output_type": "execute_result"
    }
   ],
   "source": [
    "fact(5)"
   ]
  },
  {
   "cell_type": "code",
   "execution_count": 5,
   "id": "5cdc20eb",
   "metadata": {},
   "outputs": [],
   "source": [
    "def palin(text):\n",
    "    if len(text) <= 1:\n",
    "        print(\"pallindrome\")\n",
    "    else:\n",
    "        if text[0] ==text[-1]:\n",
    "            palin(text[1:-1])\n",
    "            \n",
    "        else:\n",
    "            print('not palindrome')"
   ]
  },
  {
   "cell_type": "code",
   "execution_count": 6,
   "id": "203b7d55",
   "metadata": {},
   "outputs": [
    {
     "name": "stdout",
     "output_type": "stream",
     "text": [
      "not palindrome\n",
      "pallindrome\n",
      "pallindrome\n",
      "pallindrome\n"
     ]
    }
   ],
   "source": [
    "palin('cuttack')\n",
    "palin('katak')\n",
    "palin('abba')\n",
    "palin('madam')"
   ]
  },
  {
   "cell_type": "code",
   "execution_count": 13,
   "id": "abe54131",
   "metadata": {},
   "outputs": [
    {
     "name": "stdout",
     "output_type": "stream",
     "text": [
      "24157817\n",
      "2.8313920497894287\n"
     ]
    }
   ],
   "source": [
    "import time\n",
    "def fib(m):\n",
    "    if m ==0 or m==1:\n",
    "        return 1\n",
    "    else:\n",
    "        return fib(m-1)+fib(m-2)\n",
    "start = time.time()\n",
    "print(fib(36))\n",
    "print(time.time()-start)"
   ]
  },
  {
   "cell_type": "code",
   "execution_count": 8,
   "id": "e2889d94",
   "metadata": {},
   "outputs": [
    {
     "data": {
      "text/plain": [
       "233"
      ]
     },
     "execution_count": 8,
     "metadata": {},
     "output_type": "execute_result"
    }
   ],
   "source": [
    "fib(12)"
   ]
  },
  {
   "cell_type": "code",
   "execution_count": 9,
   "id": "74b49529",
   "metadata": {},
   "outputs": [
    {
     "data": {
      "text/plain": [
       "75025"
      ]
     },
     "execution_count": 9,
     "metadata": {},
     "output_type": "execute_result"
    }
   ],
   "source": [
    "fib(24)"
   ]
  },
  {
   "cell_type": "code",
   "execution_count": 10,
   "id": "117833b5",
   "metadata": {},
   "outputs": [
    {
     "data": {
      "text/plain": [
       "24157817"
      ]
     },
     "execution_count": 10,
     "metadata": {},
     "output_type": "execute_result"
    }
   ],
   "source": [
    "fib(36)"
   ]
  },
  {
   "cell_type": "code",
   "execution_count": 12,
   "id": "689a46b4",
   "metadata": {},
   "outputs": [
    {
     "data": {
      "text/plain": [
       "24157817"
      ]
     },
     "execution_count": 12,
     "metadata": {},
     "output_type": "execute_result"
    }
   ],
   "source": [
    "fib(36)"
   ]
  },
  {
   "cell_type": "markdown",
   "id": "279c1b0b",
   "metadata": {},
   "source": [
    "### memomization"
   ]
  },
  {
   "cell_type": "code",
   "execution_count": 15,
   "id": "39348c83",
   "metadata": {},
   "outputs": [
    {
     "data": {
      "text/plain": [
       "75025"
      ]
     },
     "execution_count": 15,
     "metadata": {},
     "output_type": "execute_result"
    }
   ],
   "source": [
    "d = {0:1,1:1}\n",
    "def memo(m,d):\n",
    "    if m in d:\n",
    "        return d[m]\n",
    "    else:\n",
    "        d[m] = memo(m-1,d) + memo(m-2,d)\n",
    "        return d[m]\n",
    "memo(24,d) \n",
    "    "
   ]
  },
  {
   "cell_type": "code",
   "execution_count": 16,
   "id": "50150ad6",
   "metadata": {},
   "outputs": [
    {
     "data": {
      "text/plain": [
       "7778742049"
      ]
     },
     "execution_count": 16,
     "metadata": {},
     "output_type": "execute_result"
    }
   ],
   "source": [
    "memo(48,d)"
   ]
  },
  {
   "cell_type": "code",
   "execution_count": 17,
   "id": "a9f8a312",
   "metadata": {},
   "outputs": [
    {
     "name": "stdout",
     "output_type": "stream",
     "text": [
      "{0: 1, 1: 1, 2: 2, 3: 3, 4: 5, 5: 8, 6: 13, 7: 21, 8: 34, 9: 55, 10: 89, 11: 144, 12: 233, 13: 377, 14: 610, 15: 987, 16: 1597, 17: 2584, 18: 4181, 19: 6765, 20: 10946, 21: 17711, 22: 28657, 23: 46368, 24: 75025, 25: 121393, 26: 196418, 27: 317811, 28: 514229, 29: 832040, 30: 1346269, 31: 2178309, 32: 3524578, 33: 5702887, 34: 9227465, 35: 14930352, 36: 24157817, 37: 39088169, 38: 63245986, 39: 102334155, 40: 165580141, 41: 267914296, 42: 433494437, 43: 701408733, 44: 1134903170, 45: 1836311903, 46: 2971215073, 47: 4807526976, 48: 7778742049}\n"
     ]
    }
   ],
   "source": [
    "print(d)"
   ]
  },
  {
   "cell_type": "code",
   "execution_count": 18,
   "id": "827c7a5d",
   "metadata": {},
   "outputs": [
    {
     "data": {
      "text/plain": [
       "407305795904080553832073954"
      ]
     },
     "execution_count": 18,
     "metadata": {},
     "output_type": "execute_result"
    }
   ],
   "source": [
    "memo(128,d)"
   ]
  },
  {
   "cell_type": "code",
   "execution_count": 19,
   "id": "670809e7",
   "metadata": {},
   "outputs": [
    {
     "data": {
      "text/plain": [
       "{0: 1,\n",
       " 1: 1,\n",
       " 2: 2,\n",
       " 3: 3,\n",
       " 4: 5,\n",
       " 5: 8,\n",
       " 6: 13,\n",
       " 7: 21,\n",
       " 8: 34,\n",
       " 9: 55,\n",
       " 10: 89,\n",
       " 11: 144,\n",
       " 12: 233,\n",
       " 13: 377,\n",
       " 14: 610,\n",
       " 15: 987,\n",
       " 16: 1597,\n",
       " 17: 2584,\n",
       " 18: 4181,\n",
       " 19: 6765,\n",
       " 20: 10946,\n",
       " 21: 17711,\n",
       " 22: 28657,\n",
       " 23: 46368,\n",
       " 24: 75025,\n",
       " 25: 121393,\n",
       " 26: 196418,\n",
       " 27: 317811,\n",
       " 28: 514229,\n",
       " 29: 832040,\n",
       " 30: 1346269,\n",
       " 31: 2178309,\n",
       " 32: 3524578,\n",
       " 33: 5702887,\n",
       " 34: 9227465,\n",
       " 35: 14930352,\n",
       " 36: 24157817,\n",
       " 37: 39088169,\n",
       " 38: 63245986,\n",
       " 39: 102334155,\n",
       " 40: 165580141,\n",
       " 41: 267914296,\n",
       " 42: 433494437,\n",
       " 43: 701408733,\n",
       " 44: 1134903170,\n",
       " 45: 1836311903,\n",
       " 46: 2971215073,\n",
       " 47: 4807526976,\n",
       " 48: 7778742049,\n",
       " 49: 12586269025,\n",
       " 50: 20365011074,\n",
       " 51: 32951280099,\n",
       " 52: 53316291173,\n",
       " 53: 86267571272,\n",
       " 54: 139583862445,\n",
       " 55: 225851433717,\n",
       " 56: 365435296162,\n",
       " 57: 591286729879,\n",
       " 58: 956722026041,\n",
       " 59: 1548008755920,\n",
       " 60: 2504730781961,\n",
       " 61: 4052739537881,\n",
       " 62: 6557470319842,\n",
       " 63: 10610209857723,\n",
       " 64: 17167680177565,\n",
       " 65: 27777890035288,\n",
       " 66: 44945570212853,\n",
       " 67: 72723460248141,\n",
       " 68: 117669030460994,\n",
       " 69: 190392490709135,\n",
       " 70: 308061521170129,\n",
       " 71: 498454011879264,\n",
       " 72: 806515533049393,\n",
       " 73: 1304969544928657,\n",
       " 74: 2111485077978050,\n",
       " 75: 3416454622906707,\n",
       " 76: 5527939700884757,\n",
       " 77: 8944394323791464,\n",
       " 78: 14472334024676221,\n",
       " 79: 23416728348467685,\n",
       " 80: 37889062373143906,\n",
       " 81: 61305790721611591,\n",
       " 82: 99194853094755497,\n",
       " 83: 160500643816367088,\n",
       " 84: 259695496911122585,\n",
       " 85: 420196140727489673,\n",
       " 86: 679891637638612258,\n",
       " 87: 1100087778366101931,\n",
       " 88: 1779979416004714189,\n",
       " 89: 2880067194370816120,\n",
       " 90: 4660046610375530309,\n",
       " 91: 7540113804746346429,\n",
       " 92: 12200160415121876738,\n",
       " 93: 19740274219868223167,\n",
       " 94: 31940434634990099905,\n",
       " 95: 51680708854858323072,\n",
       " 96: 83621143489848422977,\n",
       " 97: 135301852344706746049,\n",
       " 98: 218922995834555169026,\n",
       " 99: 354224848179261915075,\n",
       " 100: 573147844013817084101,\n",
       " 101: 927372692193078999176,\n",
       " 102: 1500520536206896083277,\n",
       " 103: 2427893228399975082453,\n",
       " 104: 3928413764606871165730,\n",
       " 105: 6356306993006846248183,\n",
       " 106: 10284720757613717413913,\n",
       " 107: 16641027750620563662096,\n",
       " 108: 26925748508234281076009,\n",
       " 109: 43566776258854844738105,\n",
       " 110: 70492524767089125814114,\n",
       " 111: 114059301025943970552219,\n",
       " 112: 184551825793033096366333,\n",
       " 113: 298611126818977066918552,\n",
       " 114: 483162952612010163284885,\n",
       " 115: 781774079430987230203437,\n",
       " 116: 1264937032042997393488322,\n",
       " 117: 2046711111473984623691759,\n",
       " 118: 3311648143516982017180081,\n",
       " 119: 5358359254990966640871840,\n",
       " 120: 8670007398507948658051921,\n",
       " 121: 14028366653498915298923761,\n",
       " 122: 22698374052006863956975682,\n",
       " 123: 36726740705505779255899443,\n",
       " 124: 59425114757512643212875125,\n",
       " 125: 96151855463018422468774568,\n",
       " 126: 155576970220531065681649693,\n",
       " 127: 251728825683549488150424261,\n",
       " 128: 407305795904080553832073954}"
      ]
     },
     "execution_count": 19,
     "metadata": {},
     "output_type": "execute_result"
    }
   ],
   "source": [
    "d"
   ]
  }
 ],
 "metadata": {
  "kernelspec": {
   "display_name": "Python 3 (ipykernel)",
   "language": "python",
   "name": "python3"
  },
  "language_info": {
   "codemirror_mode": {
    "name": "ipython",
    "version": 3
   },
   "file_extension": ".py",
   "mimetype": "text/x-python",
   "name": "python",
   "nbconvert_exporter": "python",
   "pygments_lexer": "ipython3",
   "version": "3.9.12"
  }
 },
 "nbformat": 4,
 "nbformat_minor": 5
}
